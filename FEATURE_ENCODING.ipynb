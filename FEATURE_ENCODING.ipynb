{
 "cells": [
  {
   "cell_type": "code",
   "execution_count": 1,
   "id": "deadc33d",
   "metadata": {},
   "outputs": [],
   "source": [
    "import os\n",
    "import pandas as pd\n",
    "import numpy as np\n",
    "import datetime\n",
    "from datetime import datetime\n",
    "import time\n",
    "import json\n",
    "import matplotlib.pyplot as plt\n",
    "import seaborn as sns\n",
    "import sklearn\n",
    "import awswrangler as wr"
   ]
  },
  {
   "cell_type": "code",
   "execution_count": 3,
   "id": "98e57095",
   "metadata": {},
   "outputs": [],
   "source": [
    "import preprocessing\n",
    "import utils"
   ]
  },
  {
   "cell_type": "code",
   "execution_count": 4,
   "id": "362f3e44",
   "metadata": {},
   "outputs": [],
   "source": [
    "prefix_path = 's3://think-tank-casestudy/preprocessed_data'"
   ]
  },
  {
   "cell_type": "code",
   "execution_count": 6,
   "id": "197a6d59",
   "metadata": {},
   "outputs": [],
   "source": [
    "train_data = wr.s3.read_parquet(path=f'{prefix_path}/train_data_clustered.parquet')\n",
    "test_data = wr.s3.read_parquet(path=f'{prefix_path}/test_data_clustered.parquet')"
   ]
  },
  {
   "cell_type": "markdown",
   "id": "b735b886",
   "metadata": {},
   "source": [
    "- CALL TYPE -> ONE_HOT ENCODING, no ordinal relationship\n",
    "- WEATHER --> ONE HOT ENCODING, no ordinal relationship\n",
    "- ORIGIN STAND --> Reduction of High cardinality + ONE HOT ENCODING\n",
    "- MONTH/WEEK per year --> ONE HOT ENCODING or ORDINAL ENCODING"
   ]
  },
  {
   "cell_type": "code",
   "execution_count": 8,
   "id": "0b781e40",
   "metadata": {},
   "outputs": [
    {
     "data": {
      "text/html": [
       "<div>\n",
       "<style scoped>\n",
       "    .dataframe tbody tr th:only-of-type {\n",
       "        vertical-align: middle;\n",
       "    }\n",
       "\n",
       "    .dataframe tbody tr th {\n",
       "        vertical-align: top;\n",
       "    }\n",
       "\n",
       "    .dataframe thead th {\n",
       "        text-align: right;\n",
       "    }\n",
       "</style>\n",
       "<table border=\"1\" class=\"dataframe\">\n",
       "  <thead>\n",
       "    <tr style=\"text-align: right;\">\n",
       "      <th></th>\n",
       "      <th>TRIP_ID</th>\n",
       "      <th>CALL_TYPE</th>\n",
       "      <th>ORIGIN_CALL</th>\n",
       "      <th>ORIGIN_STAND</th>\n",
       "      <th>TAXI_ID</th>\n",
       "      <th>WEATHER</th>\n",
       "      <th>TIMESTAMP_DT</th>\n",
       "      <th>N_COORDINATE_POINTS</th>\n",
       "      <th>TOTAL_FLIGHT_TIME_MINUTES</th>\n",
       "      <th>START_POINT</th>\n",
       "      <th>DEST_POINT</th>\n",
       "      <th>TOTAL_DISTANCE_KM</th>\n",
       "      <th>SEQUENCE</th>\n",
       "      <th>START_POINT_LON</th>\n",
       "      <th>START_POINT_LAT</th>\n",
       "      <th>DEST_POINT_LON</th>\n",
       "      <th>DEST_POINT_LAT</th>\n",
       "      <th>cluster_label</th>\n",
       "    </tr>\n",
       "  </thead>\n",
       "  <tbody>\n",
       "    <tr>\n",
       "      <th>0</th>\n",
       "      <td>1372636858620000589</td>\n",
       "      <td>C</td>\n",
       "      <td>NaN</td>\n",
       "      <td>NaN</td>\n",
       "      <td>20000589</td>\n",
       "      <td>Rainy</td>\n",
       "      <td>2013-07-01 02:00:58</td>\n",
       "      <td>23</td>\n",
       "      <td>5.5</td>\n",
       "      <td>[-8.618643, 41.141412]</td>\n",
       "      <td>[-8.630838, 41.154489]</td>\n",
       "      <td>1.976270</td>\n",
       "      <td>[-8.618643, 41.141412, -8.618499, 41.141376, -...</td>\n",
       "      <td>-8.618643</td>\n",
       "      <td>41.141412</td>\n",
       "      <td>-8.630838</td>\n",
       "      <td>41.154489</td>\n",
       "      <td>208</td>\n",
       "    </tr>\n",
       "    <tr>\n",
       "      <th>1</th>\n",
       "      <td>1372637303620000596</td>\n",
       "      <td>B</td>\n",
       "      <td>NaN</td>\n",
       "      <td>7.0</td>\n",
       "      <td>20000596</td>\n",
       "      <td>Foggy</td>\n",
       "      <td>2013-07-01 02:08:23</td>\n",
       "      <td>19</td>\n",
       "      <td>4.5</td>\n",
       "      <td>[-8.639847, 41.159826]</td>\n",
       "      <td>[-8.66574, 41.170671]</td>\n",
       "      <td>3.116235</td>\n",
       "      <td>[-8.639847, 41.159826, -8.640351, 41.159871, -...</td>\n",
       "      <td>-8.639847</td>\n",
       "      <td>41.159826</td>\n",
       "      <td>-8.665740</td>\n",
       "      <td>41.170671</td>\n",
       "      <td>359</td>\n",
       "    </tr>\n",
       "    <tr>\n",
       "      <th>2</th>\n",
       "      <td>1372636951620000320</td>\n",
       "      <td>C</td>\n",
       "      <td>NaN</td>\n",
       "      <td>NaN</td>\n",
       "      <td>20000320</td>\n",
       "      <td>Rainy</td>\n",
       "      <td>2013-07-01 02:02:31</td>\n",
       "      <td>65</td>\n",
       "      <td>16.0</td>\n",
       "      <td>[-8.612964, 41.140359]</td>\n",
       "      <td>[-8.61597, 41.14053]</td>\n",
       "      <td>0.334780</td>\n",
       "      <td>[-8.612964, 41.140359, -8.613378, 41.14035, -8...</td>\n",
       "      <td>-8.612964</td>\n",
       "      <td>41.140359</td>\n",
       "      <td>-8.615970</td>\n",
       "      <td>41.140530</td>\n",
       "      <td>304</td>\n",
       "    </tr>\n",
       "    <tr>\n",
       "      <th>3</th>\n",
       "      <td>1372636854620000520</td>\n",
       "      <td>C</td>\n",
       "      <td>NaN</td>\n",
       "      <td>NaN</td>\n",
       "      <td>20000520</td>\n",
       "      <td>Cloudy</td>\n",
       "      <td>2013-07-01 02:00:54</td>\n",
       "      <td>43</td>\n",
       "      <td>10.5</td>\n",
       "      <td>[-8.574678, 41.151951]</td>\n",
       "      <td>[-8.607996, 41.142915]</td>\n",
       "      <td>3.835687</td>\n",
       "      <td>[-8.574678, 41.151951, -8.574705, 41.151942, -...</td>\n",
       "      <td>-8.574678</td>\n",
       "      <td>41.151951</td>\n",
       "      <td>-8.607996</td>\n",
       "      <td>41.142915</td>\n",
       "      <td>343</td>\n",
       "    </tr>\n",
       "    <tr>\n",
       "      <th>4</th>\n",
       "      <td>1372637091620000337</td>\n",
       "      <td>C</td>\n",
       "      <td>NaN</td>\n",
       "      <td>NaN</td>\n",
       "      <td>20000337</td>\n",
       "      <td>Windy</td>\n",
       "      <td>2013-07-01 02:04:51</td>\n",
       "      <td>29</td>\n",
       "      <td>7.0</td>\n",
       "      <td>[-8.645994, 41.18049]</td>\n",
       "      <td>[-8.687268, 41.178087]</td>\n",
       "      <td>4.597055</td>\n",
       "      <td>[-8.645994, 41.18049, -8.645949, 41.180517, -8...</td>\n",
       "      <td>-8.645994</td>\n",
       "      <td>41.180490</td>\n",
       "      <td>-8.687268</td>\n",
       "      <td>41.178087</td>\n",
       "      <td>653</td>\n",
       "    </tr>\n",
       "  </tbody>\n",
       "</table>\n",
       "</div>"
      ],
      "text/plain": [
       "               TRIP_ID CALL_TYPE  ORIGIN_CALL  ORIGIN_STAND   TAXI_ID WEATHER  \\\n",
       "0  1372636858620000589         C          NaN           NaN  20000589   Rainy   \n",
       "1  1372637303620000596         B          NaN           7.0  20000596   Foggy   \n",
       "2  1372636951620000320         C          NaN           NaN  20000320   Rainy   \n",
       "3  1372636854620000520         C          NaN           NaN  20000520  Cloudy   \n",
       "4  1372637091620000337         C          NaN           NaN  20000337   Windy   \n",
       "\n",
       "         TIMESTAMP_DT  N_COORDINATE_POINTS  TOTAL_FLIGHT_TIME_MINUTES  \\\n",
       "0 2013-07-01 02:00:58                   23                        5.5   \n",
       "1 2013-07-01 02:08:23                   19                        4.5   \n",
       "2 2013-07-01 02:02:31                   65                       16.0   \n",
       "3 2013-07-01 02:00:54                   43                       10.5   \n",
       "4 2013-07-01 02:04:51                   29                        7.0   \n",
       "\n",
       "              START_POINT              DEST_POINT  TOTAL_DISTANCE_KM  \\\n",
       "0  [-8.618643, 41.141412]  [-8.630838, 41.154489]           1.976270   \n",
       "1  [-8.639847, 41.159826]   [-8.66574, 41.170671]           3.116235   \n",
       "2  [-8.612964, 41.140359]    [-8.61597, 41.14053]           0.334780   \n",
       "3  [-8.574678, 41.151951]  [-8.607996, 41.142915]           3.835687   \n",
       "4   [-8.645994, 41.18049]  [-8.687268, 41.178087]           4.597055   \n",
       "\n",
       "                                            SEQUENCE  START_POINT_LON  \\\n",
       "0  [-8.618643, 41.141412, -8.618499, 41.141376, -...        -8.618643   \n",
       "1  [-8.639847, 41.159826, -8.640351, 41.159871, -...        -8.639847   \n",
       "2  [-8.612964, 41.140359, -8.613378, 41.14035, -8...        -8.612964   \n",
       "3  [-8.574678, 41.151951, -8.574705, 41.151942, -...        -8.574678   \n",
       "4  [-8.645994, 41.18049, -8.645949, 41.180517, -8...        -8.645994   \n",
       "\n",
       "   START_POINT_LAT  DEST_POINT_LON  DEST_POINT_LAT  cluster_label  \n",
       "0        41.141412       -8.630838       41.154489            208  \n",
       "1        41.159826       -8.665740       41.170671            359  \n",
       "2        41.140359       -8.615970       41.140530            304  \n",
       "3        41.151951       -8.607996       41.142915            343  \n",
       "4        41.180490       -8.687268       41.178087            653  "
      ]
     },
     "execution_count": 8,
     "metadata": {},
     "output_type": "execute_result"
    }
   ],
   "source": [
    "train_data.head()"
   ]
  },
  {
   "cell_type": "code",
   "execution_count": 10,
   "id": "0bea9d7e",
   "metadata": {},
   "outputs": [],
   "source": [
    "train_data = utils.reduce_high_cardinality(train_data, ['ORIGIN_STAND'])\n",
    "test_data = utils.reduce_high_cardinality(test_data, ['ORIGIN_STAND'])"
   ]
  },
  {
   "cell_type": "code",
   "execution_count": 14,
   "id": "9190b8c5",
   "metadata": {},
   "outputs": [],
   "source": [
    "categories_oh = ['CALL_TYPE','WEATHER','ORIGIN_STAND_agg']\n",
    "#categories_oe = ['YEAR_MONTH']"
   ]
  },
  {
   "cell_type": "code",
   "execution_count": 15,
   "id": "8a964291",
   "metadata": {},
   "outputs": [],
   "source": [
    "df_fenc_oh = utils.feature_encoding_oh(train_data, categories_oh)\n",
    "#df_fenc_oe = utils.feature_encoding_oe(train_data, categories_oe)\n",
    "train_data = pd.concat([train_data, df_fenc_oh, \n",
    "                       # df_fenc_oe\n",
    "                       ],axis=1)"
   ]
  },
  {
   "cell_type": "code",
   "execution_count": 17,
   "id": "62eb000d",
   "metadata": {},
   "outputs": [],
   "source": [
    "df_fenc_oh = utils.feature_encoding_oh(test_data, categories_oh)\n",
    "#df_fenc_oe = feature_encoding_oe(test_data, categories_oe)\n",
    "test_data = pd.concat([test_data, df_fenc_oh,\n",
    "                       #df_fenc_oe\n",
    "                      ],axis=1)"
   ]
  },
  {
   "cell_type": "code",
   "execution_count": 19,
   "id": "ef1fcabc",
   "metadata": {},
   "outputs": [],
   "source": [
    "test_data, train_data = utils.add_binary_features(train_data, test_data)"
   ]
  },
  {
   "cell_type": "code",
   "execution_count": 20,
   "id": "668ab230",
   "metadata": {},
   "outputs": [],
   "source": [
    "assert(train_data.shape[1] == test_data.shape[1])"
   ]
  },
  {
   "cell_type": "code",
   "execution_count": 23,
   "id": "121bd319",
   "metadata": {},
   "outputs": [],
   "source": [
    "non_features = ['CALL_TYPE','ORIGIN_CALL','ORIGIN_STAND', 'START_POINT','DEST_POINT',\n",
    "                'TIMESTAMP_MONTH','TIMESTAMP_DAY','TIMESTAMP_WEEK','TIMESTAMP_YEAR','YEAR_MONTH','ORIGIN_STAND_agg',\n",
    "               'MISSING_DATA','POLYLINE','WEATHER','TAXI_ID','TIMESTAMP_DT','TIMESTAMP']"
   ]
  },
  {
   "cell_type": "code",
   "execution_count": 26,
   "id": "042dd856",
   "metadata": {},
   "outputs": [],
   "source": [
    "n_cluster = 1000"
   ]
  },
  {
   "cell_type": "code",
   "execution_count": 31,
   "id": "0b3685bb",
   "metadata": {
    "scrolled": true
   },
   "outputs": [
    {
     "name": "stderr",
     "output_type": "stream",
     "text": [
      "/Users/julia.hehl/opt/anaconda3/lib/python3.9/site-packages/pandas/core/common.py:245: VisibleDeprecationWarning: Creating an ndarray from ragged nested sequences (which is a list-or-tuple of lists-or-tuples-or ndarrays with different lengths or shapes) is deprecated. If you meant to do this, you must specify 'dtype=object' when creating the ndarray.\n",
      "  result = np.asarray(values, dtype=dtype)\n"
     ]
    },
    {
     "ename": "TypeError",
     "evalue": "Index must either be string or integer",
     "output_type": "error",
     "traceback": [
      "\u001b[0;31m---------------------------------------------------------------------------\u001b[0m",
      "\u001b[0;31mTypeError\u001b[0m                                 Traceback (most recent call last)",
      "Input \u001b[0;32mIn [31]\u001b[0m, in \u001b[0;36m<cell line: 2>\u001b[0;34m()\u001b[0m\n\u001b[1;32m      1\u001b[0m train_data \u001b[38;5;241m=\u001b[39m train_data[[column_ \u001b[38;5;28;01mfor\u001b[39;00m column_ \u001b[38;5;129;01min\u001b[39;00m train_data\u001b[38;5;241m.\u001b[39mcolumns \u001b[38;5;28;01mif\u001b[39;00m column_ \u001b[38;5;129;01mnot\u001b[39;00m \u001b[38;5;129;01min\u001b[39;00m non_features]]\n\u001b[0;32m----> 2\u001b[0m \u001b[43mwr\u001b[49m\u001b[38;5;241;43m.\u001b[39;49m\u001b[43ms3\u001b[49m\u001b[38;5;241;43m.\u001b[39;49m\u001b[43mto_parquet\u001b[49m\u001b[43m(\u001b[49m\u001b[43mdf\u001b[49m\u001b[38;5;241;43m=\u001b[39;49m\u001b[43mtrain_data\u001b[49m\u001b[43m,\u001b[49m\u001b[43m \u001b[49m\u001b[43mpath\u001b[49m\u001b[38;5;241;43m=\u001b[39;49m\u001b[38;5;124;43mf\u001b[39;49m\u001b[38;5;124;43m'\u001b[39;49m\u001b[38;5;124;43ms3://think-tank-casestudy/features_engineered/n_cluster_1000/feature_engineered_train.parquet\u001b[39;49m\u001b[38;5;124;43m'\u001b[39;49m\u001b[43m)\u001b[49m\n\u001b[1;32m      3\u001b[0m test_data \u001b[38;5;241m=\u001b[39m test_data[[column_ \u001b[38;5;28;01mfor\u001b[39;00m column_ \u001b[38;5;129;01min\u001b[39;00m train_data\u001b[38;5;241m.\u001b[39mcolumns \u001b[38;5;28;01mif\u001b[39;00m column_ \u001b[38;5;129;01mnot\u001b[39;00m \u001b[38;5;129;01min\u001b[39;00m non_features]]\n\u001b[1;32m      4\u001b[0m wr\u001b[38;5;241m.\u001b[39ms3\u001b[38;5;241m.\u001b[39mto_parquet(df\u001b[38;5;241m=\u001b[39mtest_data, path\u001b[38;5;241m=\u001b[39m\u001b[38;5;124mf\u001b[39m\u001b[38;5;124m'\u001b[39m\u001b[38;5;124ms3://think-tank-casestudy/features_engineered/n_cluster_100/feature_engineered_test.parquet\u001b[39m\u001b[38;5;124m'\u001b[39m)\n",
      "File \u001b[0;32m~/opt/anaconda3/lib/python3.9/site-packages/awswrangler/_config.py:493\u001b[0m, in \u001b[0;36mapply_configs.<locals>.wrapper\u001b[0;34m(*args_raw, **kwargs)\u001b[0m\n\u001b[1;32m    491\u001b[0m         \u001b[38;5;28;01mdel\u001b[39;00m args[name]\n\u001b[1;32m    492\u001b[0m         args \u001b[38;5;241m=\u001b[39m {\u001b[38;5;241m*\u001b[39m\u001b[38;5;241m*\u001b[39margs, \u001b[38;5;241m*\u001b[39m\u001b[38;5;241m*\u001b[39mkeywords}\n\u001b[0;32m--> 493\u001b[0m \u001b[38;5;28;01mreturn\u001b[39;00m \u001b[43mfunction\u001b[49m\u001b[43m(\u001b[49m\u001b[38;5;241;43m*\u001b[39;49m\u001b[38;5;241;43m*\u001b[39;49m\u001b[43margs\u001b[49m\u001b[43m)\u001b[49m\n",
      "File \u001b[0;32m~/opt/anaconda3/lib/python3.9/site-packages/awswrangler/s3/_write_parquet.py:585\u001b[0m, in \u001b[0;36mto_parquet\u001b[0;34m(df, path, index, compression, pyarrow_additional_kwargs, max_rows_by_file, use_threads, boto3_session, s3_additional_kwargs, sanitize_columns, dataset, filename_prefix, partition_cols, bucketing_info, concurrent_partitioning, mode, catalog_versioning, schema_evolution, database, table, table_type, transaction_id, dtype, description, parameters, columns_comments, regular_partitions, projection_enabled, projection_types, projection_ranges, projection_values, projection_intervals, projection_digits, projection_formats, projection_storage_location_template, catalog_id)\u001b[0m\n\u001b[1;32m    583\u001b[0m         commit_trans \u001b[38;5;241m=\u001b[39m \u001b[38;5;28;01mTrue\u001b[39;00m\n\u001b[1;32m    584\u001b[0m df \u001b[38;5;241m=\u001b[39m _apply_dtype(df\u001b[38;5;241m=\u001b[39mdf, dtype\u001b[38;5;241m=\u001b[39mdtype, catalog_table_input\u001b[38;5;241m=\u001b[39mcatalog_table_input, mode\u001b[38;5;241m=\u001b[39mmode)\n\u001b[0;32m--> 585\u001b[0m schema: pa\u001b[38;5;241m.\u001b[39mSchema \u001b[38;5;241m=\u001b[39m \u001b[43m_data_types\u001b[49m\u001b[38;5;241;43m.\u001b[39;49m\u001b[43mpyarrow_schema_from_pandas\u001b[49m\u001b[43m(\u001b[49m\n\u001b[1;32m    586\u001b[0m \u001b[43m    \u001b[49m\u001b[43mdf\u001b[49m\u001b[38;5;241;43m=\u001b[39;49m\u001b[43mdf\u001b[49m\u001b[43m,\u001b[49m\u001b[43m \u001b[49m\u001b[43mindex\u001b[49m\u001b[38;5;241;43m=\u001b[39;49m\u001b[43mindex\u001b[49m\u001b[43m,\u001b[49m\u001b[43m \u001b[49m\u001b[43mignore_cols\u001b[49m\u001b[38;5;241;43m=\u001b[39;49m\u001b[43mpartition_cols\u001b[49m\u001b[43m,\u001b[49m\u001b[43m \u001b[49m\u001b[43mdtype\u001b[49m\u001b[38;5;241;43m=\u001b[39;49m\u001b[43mdtype\u001b[49m\n\u001b[1;32m    587\u001b[0m \u001b[43m\u001b[49m\u001b[43m)\u001b[49m\n\u001b[1;32m    588\u001b[0m _logger\u001b[38;5;241m.\u001b[39mdebug(\u001b[38;5;124m\"\u001b[39m\u001b[38;5;124mschema: \u001b[39m\u001b[38;5;130;01m\\n\u001b[39;00m\u001b[38;5;132;01m%s\u001b[39;00m\u001b[38;5;124m\"\u001b[39m, schema)\n\u001b[1;32m    590\u001b[0m \u001b[38;5;28;01mif\u001b[39;00m dataset \u001b[38;5;129;01mis\u001b[39;00m \u001b[38;5;28;01mFalse\u001b[39;00m:\n",
      "File \u001b[0;32m~/opt/anaconda3/lib/python3.9/site-packages/awswrangler/_data_types.py:632\u001b[0m, in \u001b[0;36mpyarrow_schema_from_pandas\u001b[0;34m(df, index, ignore_cols, dtype)\u001b[0m\n\u001b[1;32m    630\u001b[0m ignore: List[\u001b[38;5;28mstr\u001b[39m] \u001b[38;5;241m=\u001b[39m [] \u001b[38;5;28;01mif\u001b[39;00m ignore_cols \u001b[38;5;129;01mis\u001b[39;00m \u001b[38;5;28;01mNone\u001b[39;00m \u001b[38;5;28;01melse\u001b[39;00m ignore_cols\n\u001b[1;32m    631\u001b[0m ignore_plus \u001b[38;5;241m=\u001b[39m ignore \u001b[38;5;241m+\u001b[39m \u001b[38;5;28mlist\u001b[39m(casts\u001b[38;5;241m.\u001b[39mkeys())\n\u001b[0;32m--> 632\u001b[0m columns_types: Dict[\u001b[38;5;28mstr\u001b[39m, Optional[pa\u001b[38;5;241m.\u001b[39mDataType]] \u001b[38;5;241m=\u001b[39m \u001b[43mpyarrow_types_from_pandas\u001b[49m\u001b[43m(\u001b[49m\n\u001b[1;32m    633\u001b[0m \u001b[43m    \u001b[49m\u001b[43mdf\u001b[49m\u001b[38;5;241;43m=\u001b[39;49m\u001b[43mdf\u001b[49m\u001b[43m,\u001b[49m\u001b[43m \u001b[49m\u001b[43mindex\u001b[49m\u001b[38;5;241;43m=\u001b[39;49m\u001b[43mindex\u001b[49m\u001b[43m,\u001b[49m\u001b[43m \u001b[49m\u001b[43mignore_cols\u001b[49m\u001b[38;5;241;43m=\u001b[39;49m\u001b[43mignore_plus\u001b[49m\n\u001b[1;32m    634\u001b[0m \u001b[43m\u001b[49m\u001b[43m)\u001b[49m\n\u001b[1;32m    635\u001b[0m \u001b[38;5;28;01mfor\u001b[39;00m k, v \u001b[38;5;129;01min\u001b[39;00m casts\u001b[38;5;241m.\u001b[39mitems():\n\u001b[1;32m    636\u001b[0m     \u001b[38;5;28;01mif\u001b[39;00m (k \u001b[38;5;129;01min\u001b[39;00m df\u001b[38;5;241m.\u001b[39mcolumns) \u001b[38;5;129;01mand\u001b[39;00m (k \u001b[38;5;129;01mnot\u001b[39;00m \u001b[38;5;129;01min\u001b[39;00m ignore):\n",
      "File \u001b[0;32m~/opt/anaconda3/lib/python3.9/site-packages/awswrangler/_data_types.py:504\u001b[0m, in \u001b[0;36mpyarrow_types_from_pandas\u001b[0;34m(df, index, ignore_cols, index_left)\u001b[0m\n\u001b[1;32m    502\u001b[0m         \u001b[38;5;28;01mraise\u001b[39;00m\n\u001b[1;32m    503\u001b[0m     \u001b[38;5;28;01melse\u001b[39;00m:\n\u001b[0;32m--> 504\u001b[0m         cols_dtypes[col] \u001b[38;5;241m=\u001b[39m \u001b[43mschema\u001b[49m\u001b[38;5;241;43m.\u001b[39;49m\u001b[43mfield\u001b[49m\u001b[43m(\u001b[49m\u001b[43mcol\u001b[49m\u001b[43m)\u001b[49m\u001b[38;5;241m.\u001b[39mtype\n\u001b[1;32m    506\u001b[0m \u001b[38;5;66;03m# Filling indexes\u001b[39;00m\n\u001b[1;32m    507\u001b[0m indexes: List[\u001b[38;5;28mstr\u001b[39m] \u001b[38;5;241m=\u001b[39m []\n",
      "File \u001b[0;32m~/opt/anaconda3/lib/python3.9/site-packages/pyarrow/types.pxi:1786\u001b[0m, in \u001b[0;36mpyarrow.lib.Schema.field\u001b[0;34m()\u001b[0m\n",
      "\u001b[0;31mTypeError\u001b[0m: Index must either be string or integer"
     ]
    }
   ],
   "source": [
    "train_data = train_data[[column_ for column_ in train_data.columns if column_ not in non_features]]\n",
    "wr.s3.to_parquet(df=train_data, path=f's3://think-tank-casestudy/features_engineered/n_cluster_1000/feature_engineered_train.parquet')\n",
    "test_data = test_data[[column_ for column_ in train_data.columns if column_ not in non_features]]\n",
    "wr.s3.to_parquet(df=test_data, path=f's3://think-tank-casestudy/features_engineered/n_cluster_100/feature_engineered_test.parquet')"
   ]
  },
  {
   "cell_type": "code",
   "execution_count": null,
   "id": "22931f9d",
   "metadata": {},
   "outputs": [],
   "source": []
  }
 ],
 "metadata": {
  "kernelspec": {
   "display_name": "Python 3 (ipykernel)",
   "language": "python",
   "name": "python3"
  },
  "language_info": {
   "codemirror_mode": {
    "name": "ipython",
    "version": 3
   },
   "file_extension": ".py",
   "mimetype": "text/x-python",
   "name": "python",
   "nbconvert_exporter": "python",
   "pygments_lexer": "ipython3",
   "version": "3.9.12"
  }
 },
 "nbformat": 4,
 "nbformat_minor": 5
}
