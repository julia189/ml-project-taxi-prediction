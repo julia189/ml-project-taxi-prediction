{
 "cells": [
  {
   "cell_type": "code",
   "execution_count": 37,
   "id": "deadc33d",
   "metadata": {},
   "outputs": [],
   "source": [
    "import os\n",
    "import pandas as pd\n",
    "import numpy as np\n",
    "import datetime\n",
    "from datetime import datetime\n",
    "import time\n",
    "import json\n",
    "import matplotlib.pyplot as plt\n",
    "import seaborn as sns\n",
    "import sklearn\n",
    "import awswrangler as wr"
   ]
  },
  {
   "cell_type": "code",
   "execution_count": 38,
   "id": "98e57095",
   "metadata": {},
   "outputs": [],
   "source": [
    "import preprocessing\n",
    "import utils"
   ]
  },
  {
   "cell_type": "code",
   "execution_count": 39,
   "id": "362f3e44",
   "metadata": {},
   "outputs": [],
   "source": [
    "prefix_path = 's3://think-tank-casestudy/preprocessed_data'"
   ]
  },
  {
   "cell_type": "code",
   "execution_count": 40,
   "id": "197a6d59",
   "metadata": {},
   "outputs": [],
   "source": [
    "train_data = wr.s3.read_parquet(path=f'{prefix_path}/train_data_clustered.parquet')\n",
    "test_data = wr.s3.read_parquet(path=f'{prefix_path}/test_data_clustered.parquet')"
   ]
  },
  {
   "cell_type": "markdown",
   "id": "b735b886",
   "metadata": {},
   "source": [
    "- CALL TYPE -> ONE_HOT ENCODING, no ordinal relationship\n",
    "- WEATHER --> ONE HOT ENCODING, no ordinal relationship\n",
    "- ORIGIN STAND --> Reduction of High cardinality + ONE HOT ENCODING\n",
    "- MONTH/WEEK per year --> ONE HOT ENCODING or ORDINAL ENCODING"
   ]
  },
  {
   "cell_type": "code",
   "execution_count": 41,
   "id": "0b781e40",
   "metadata": {},
   "outputs": [],
   "source": [
    "train_data = utils.extend_timestamps(train_data)\n",
    "test_data = utils.extend_timestamps(test_data)"
   ]
  },
  {
   "cell_type": "code",
   "execution_count": 42,
   "id": "0bea9d7e",
   "metadata": {},
   "outputs": [],
   "source": [
    "train_data = utils.reduce_high_cardinality(train_data, ['ORIGIN_STAND'])\n",
    "test_data = utils.reduce_high_cardinality(test_data, ['ORIGIN_STAND'])"
   ]
  },
  {
   "cell_type": "code",
   "execution_count": 43,
   "id": "9190b8c5",
   "metadata": {},
   "outputs": [],
   "source": [
    "categories_oh = ['CALL_TYPE','WEATHER','ORIGIN_STAND_agg','YEAR_MONTH']"
   ]
  },
  {
   "cell_type": "code",
   "execution_count": 44,
   "id": "8a964291",
   "metadata": {},
   "outputs": [],
   "source": [
    "df_fenc_oh = utils.feature_encoding_oh(train_data, categories_oh)\n",
    "train_data = pd.concat([train_data, df_fenc_oh],axis=1)"
   ]
  },
  {
   "cell_type": "code",
   "execution_count": 45,
   "id": "62eb000d",
   "metadata": {},
   "outputs": [],
   "source": [
    "df_fenc_oh = utils.feature_encoding_oh(test_data, categories_oh)\n",
    "test_data = pd.concat([test_data, df_fenc_oh],axis=1)"
   ]
  },
  {
   "cell_type": "code",
   "execution_count": 46,
   "id": "ef1fcabc",
   "metadata": {},
   "outputs": [],
   "source": [
    "test_data, train_data = utils.add_binary_features(train_data, test_data)"
   ]
  },
  {
   "cell_type": "code",
   "execution_count": 47,
   "id": "668ab230",
   "metadata": {},
   "outputs": [],
   "source": [
    "assert(train_data.shape[1] == test_data.shape[1])"
   ]
  },
  {
   "cell_type": "code",
   "execution_count": 48,
   "id": "121bd319",
   "metadata": {},
   "outputs": [],
   "source": [
    "non_features = ['CALL_TYPE','ORIGIN_CALL','ORIGIN_STAND', 'START_POINT','DEST_POINT',\n",
    "                'TIMESTAMP_MONTH','TIMESTAMP_DAY','TIMESTAMP_WEEK','TIMESTAMP_YEAR','YEAR_MONTH','ORIGIN_STAND_agg',\n",
    "               'MISSING_DATA','POLYLINE','WEATHER','TAXI_ID','TIMESTAMP_DT','TIMESTAMP']"
   ]
  },
  {
   "cell_type": "code",
   "execution_count": 53,
   "id": "ce785bba",
   "metadata": {
    "scrolled": true
   },
   "outputs": [],
   "source": [
    "train_data = train_data[[column_ for column_ in train_data.columns if column_ not in non_features]]\n",
    "test_data = test_data[[column_ for column_ in train_data.columns if column_ not in non_features]]"
   ]
  },
  {
   "cell_type": "code",
   "execution_count": 56,
   "id": "e61ec68a",
   "metadata": {},
   "outputs": [],
   "source": [
    "n_cluster=1000"
   ]
  },
  {
   "cell_type": "code",
   "execution_count": null,
   "id": "0b3685bb",
   "metadata": {
    "scrolled": true
   },
   "outputs": [],
   "source": [
    "wr.s3.to_parquet(df=train_data, index=train_data.index, path=f's3://think-tank-casestudy/features_engineered/n_cluster_{n_cluster}/feature_engineered_train.parquet')\n",
    "wr.s3.to_parquet(df=test_data, index=test_data.index, path=f's3://think-tank-casestudy/features_engineered/n_cluster_{n_cluster}/feature_engineered_test.parquet')"
   ]
  }
 ],
 "metadata": {
  "kernelspec": {
   "display_name": "Python 3 (ipykernel)",
   "language": "python",
   "name": "python3"
  },
  "language_info": {
   "codemirror_mode": {
    "name": "ipython",
    "version": 3
   },
   "file_extension": ".py",
   "mimetype": "text/x-python",
   "name": "python",
   "nbconvert_exporter": "python",
   "pygments_lexer": "ipython3",
   "version": "3.9.12"
  }
 },
 "nbformat": 4,
 "nbformat_minor": 5
}
