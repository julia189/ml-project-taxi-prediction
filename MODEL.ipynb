{
 "cells": [
  {
   "cell_type": "markdown",
   "id": "1fd861eb",
   "metadata": {},
   "source": [
    "### Model training"
   ]
  },
  {
   "cell_type": "markdown",
   "id": "448c903b",
   "metadata": {},
   "source": [
    "The filtered, calculated and encoded features can now be trained with appropriate models.\n",
    "\n",
    "The following approaches are considered:\n",
    "- Multi classification problem with clustered data\n",
    "- Mutli regression problem with two outputs (longitude/latitude)\n",
    "\n",
    "In terms of the data we have the following approaches:\n",
    "- variable sequence length - can take all points in POLYLINE in consideration, zero-padd start of sequence if necessary\n",
    "- fixed sequence length - take 5 points from beginning of POLYLINE and 5 points from end of polyline \n",
    "\n",
    "\n",
    "Algorithms:\n",
    "- Long term short term NN (multi-class classification and regression)\n",
    "    - able to handle variable sequence length, therefore the total trip POLYLINE can be used\n",
    "- Random forest(only regression) \n",
    "    - can handle outliers well as dataset still contains outliers\n",
    "    - runs efficiently on large data set"
   ]
  },
  {
   "cell_type": "code",
   "execution_count": 1,
   "id": "91cc7b30",
   "metadata": {},
   "outputs": [
    {
     "name": "stderr",
     "output_type": "stream",
     "text": [
      "2023-01-14 12:36:02.517741: I tensorflow/core/platform/cpu_feature_guard.cc:193] This TensorFlow binary is optimized with oneAPI Deep Neural Network Library (oneDNN) to use the following CPU instructions in performance-critical operations:  AVX2 AVX512F FMA\n",
      "To enable them in other operations, rebuild TensorFlow with the appropriate compiler flags.\n",
      "2023-01-14 12:36:04.801829: E tensorflow/stream_executor/cuda/cuda_blas.cc:2981] Unable to register cuBLAS factory: Attempting to register factory for plugin cuBLAS when one has already been registered\n"
     ]
    }
   ],
   "source": [
    "import tensorflow"
   ]
  },
  {
   "cell_type": "code",
   "execution_count": 2,
   "id": "ec22db62",
   "metadata": {},
   "outputs": [],
   "source": [
    "from tensorflow.keras import Sequential\n",
    "from tensorflow.keras.layers import LSTM, Softmax\n",
    "from tensorflow.keras.optimizers import Adam"
   ]
  },
  {
   "cell_type": "code",
   "execution_count": 3,
   "id": "81e88351",
   "metadata": {},
   "outputs": [],
   "source": [
    "import pandas as pd \n",
    "import numpy as np \n",
    "import json\n",
    "import preprocessing\n",
    "import dask.array as da"
   ]
  },
  {
   "cell_type": "code",
   "execution_count": 4,
   "id": "0b7f526e-3513-4c65-bb99-7666b35723c3",
   "metadata": {},
   "outputs": [],
   "source": [
    "n_cluster=4000"
   ]
  },
  {
   "cell_type": "code",
   "execution_count": 5,
   "id": "114e1aff",
   "metadata": {},
   "outputs": [],
   "source": [
    "train_data = pd.read_parquet(f's3://think-tank-casestudy/features_engineered/n_cluster_{n_cluster}/feature_engineered_train.parquet')\n",
    "test_data = pd.read_parquet(f's3://think-tank-casestudy/features_engineered/n_cluster_{n_cluster}/feature_engineered_test.parquet')"
   ]
  },
  {
   "cell_type": "markdown",
   "id": "bbf8e6a8-831c-4268-a6a0-2815bfeebb97",
   "metadata": {
    "tags": []
   },
   "source": [
    "###  1) LSTM"
   ]
  },
  {
   "cell_type": "code",
   "execution_count": null,
   "id": "d77d78a6-9713-4978-a66f-fd4cbdddfd62",
   "metadata": {},
   "outputs": [],
   "source": [
    "#fill nas with arbitrary large number to mask later\n",
    "df_sequence_train = da.from_array(pd.DataFrame(train_data.SEQUENCE.tolist()).fillna(2000).to_numpy())\n",
    "df_sequence_test = da.from_array(pd.DataFrame(test_data.SEQUENCE.tolist()).fillna(2000).to_numpy())"
   ]
  },
  {
   "cell_type": "code",
   "execution_count": null,
   "id": "8041f019-4c99-4a24-bca9-4280d155ad02",
   "metadata": {},
   "outputs": [],
   "source": [
    "features_config_2 = ['N_COORDINATE_POINTS','TOTAL_DISTANCE_KM','2013_10',\n",
    "       '2013_11', '2013_12', '2013_7', '2013_8', '2013_9', '2014_1', '2014_2',\n",
    "       '2014_3', '2014_4', '2014_5', '2014_6', '2014_7', '10.0', '12.0',\n",
    "       '13.0', '14.0', '15.0', '18.0', '20.0', '21.0', '23.0', '25.0', '26.0',\n",
    "       '27.0', '28.0', '33.0', '34.0', '35.0', '36.0', '38.0', '40.0', '42.0',\n",
    "       '52.0', '53.0', '54.0', '56.0', '57.0', '58.0', '6.0', '60.0', '61.0',\n",
    "       '63.0', '7.0', '9.0', 'OTHER', 'Cloudy', 'Foggy', 'Rainy', 'Sunny',\n",
    "       'Windy', 'A', 'B', 'C', '16.0', '2014_10', '2014_11', '2014_12',\n",
    "       '2014_8', '2014_9', '47.0', '49.0']\n",
    "label_config_2 = ['CLUSTER_LABEL']"
   ]
  },
  {
   "cell_type": "code",
   "execution_count": null,
   "id": "a61eacd8-8e93-4a75-8a9e-6498d2c83f47",
   "metadata": {},
   "outputs": [],
   "source": [
    "X_train = train_data[features_config_2].to_numpy().astype(float)\n",
    "X_test = test_data[features_config_2].to_numpy().astype(float)"
   ]
  },
  {
   "cell_type": "code",
   "execution_count": null,
   "id": "b82553ba-48f3-46a7-99f7-4778a87b4295",
   "metadata": {},
   "outputs": [],
   "source": [
    "X_train = np.concatenate((df_sequence_train, X_train), axis=1)\n",
    "X_test = np.concatenate((df_sequence_test, X_test), axis=1)"
   ]
  },
  {
   "cell_type": "code",
   "execution_count": null,
   "id": "24874745-e6a0-4e83-a8ad-461afbe78a55",
   "metadata": {},
   "outputs": [],
   "source": [
    "y_train = train_data[label_config_2]\n",
    "y_test =  test_data[label_config_2"
   ]
  },
  {
   "cell_type": "code",
   "execution_count": 7,
   "id": "44a0ce96-357a-4472-ade7-dfeab32e4023",
   "metadata": {},
   "outputs": [
    {
     "name": "stderr",
     "output_type": "stream",
     "text": [
      "2023-01-14 12:39:07.928027: E tensorflow/stream_executor/cuda/cuda_driver.cc:265] failed call to cuInit: CUDA_ERROR_NO_DEVICE: no CUDA-capable device is detected\n",
      "2023-01-14 12:39:07.928142: I tensorflow/stream_executor/cuda/cuda_diagnostics.cc:156] kernel driver does not appear to be running on this host (ip-172-16-27-112.eu-west-1.compute.internal): /proc/driver/nvidia/version does not exist\n",
      "2023-01-14 12:39:07.932059: I tensorflow/core/platform/cpu_feature_guard.cc:193] This TensorFlow binary is optimized with oneAPI Deep Neural Network Library (oneDNN) to use the following CPU instructions in performance-critical operations:  AVX2 AVX512F FMA\n",
      "To enable them in other operations, rebuild TensorFlow with the appropriate compiler flags.\n"
     ]
    },
    {
     "ename": "NameError",
     "evalue": "name 'Input' is not defined",
     "output_type": "error",
     "traceback": [
      "\u001b[0;31m---------------------------------------------------------------------------\u001b[0m",
      "\u001b[0;31mNameError\u001b[0m                                 Traceback (most recent call last)",
      "\u001b[0;32m/tmp/ipykernel_2217/2971881039.py\u001b[0m in \u001b[0;36m<cell line: 2>\u001b[0;34m()\u001b[0m\n\u001b[1;32m      1\u001b[0m \u001b[0mmodel\u001b[0m \u001b[0;34m=\u001b[0m \u001b[0mSequential\u001b[0m\u001b[0;34m(\u001b[0m\u001b[0;34m)\u001b[0m\u001b[0;34m\u001b[0m\u001b[0;34m\u001b[0m\u001b[0m\n\u001b[0;32m----> 2\u001b[0;31m \u001b[0mmodel\u001b[0m\u001b[0;34m.\u001b[0m\u001b[0madd\u001b[0m\u001b[0;34m(\u001b[0m\u001b[0mInput\u001b[0m\u001b[0;34m(\u001b[0m\u001b[0minput_shape\u001b[0m\u001b[0;34m=\u001b[0m\u001b[0;34m(\u001b[0m\u001b[0mX_train\u001b[0m\u001b[0;34m.\u001b[0m\u001b[0mshape\u001b[0m\u001b[0;34m[\u001b[0m\u001b[0;36m0\u001b[0m\u001b[0;34m]\u001b[0m\u001b[0;34m,\u001b[0m \u001b[0mX_train\u001b[0m\u001b[0;34m.\u001b[0m\u001b[0mshape\u001b[0m\u001b[0;34m[\u001b[0m\u001b[0;36m1\u001b[0m\u001b[0;34m]\u001b[0m\u001b[0;34m)\u001b[0m\u001b[0;34m)\u001b[0m\u001b[0;34m)\u001b[0m\u001b[0;34m\u001b[0m\u001b[0;34m\u001b[0m\u001b[0m\n\u001b[0m\u001b[1;32m      3\u001b[0m model.add(tf.keras.layers.Masking(mask_value=2000,\n\u001b[1;32m      4\u001b[0m                                   input_shape=(0, features)))\n\u001b[1;32m      5\u001b[0m \u001b[0mmodel\u001b[0m\u001b[0;34m.\u001b[0m\u001b[0madd\u001b[0m\u001b[0;34m(\u001b[0m\u001b[0mLSTM\u001b[0m\u001b[0;34m(\u001b[0m\u001b[0;36m50\u001b[0m\u001b[0;34m,\u001b[0m \u001b[0mactivation\u001b[0m\u001b[0;34m=\u001b[0m\u001b[0;34m'relu'\u001b[0m\u001b[0;34m)\u001b[0m\u001b[0;34m)\u001b[0m\u001b[0;34m\u001b[0m\u001b[0;34m\u001b[0m\u001b[0m\n",
      "\u001b[0;31mNameError\u001b[0m: name 'Input' is not defined"
     ]
    }
   ],
   "source": [
    "model = Sequential()\n",
    "model.add(Input(input_shape=(X_train.shape[0], X_train.shape[1])))\n",
    "model.add(tf.keras.layers.Masking(mask_value=2000,\n",
    "                                  input_shape=(0, features)))\n",
    "model.add(LSTM(50, activation='relu'))\n",
    "model.add(Softmax(4000), activation='linear')\n",
    "print(model.summary())\n",
    "\n",
    "model.compile(optimizer='adam', loss='categorical_crossentropy', metrics=[])\n",
    "\n",
    "X_pred_train = model.fit(X_train)"
   ]
  },
  {
   "cell_type": "markdown",
   "id": "f8c3ebe9-34a1-4cd5-9915-feaa7bba93dd",
   "metadata": {
    "tags": []
   },
   "source": [
    "### 2) Random Forest - Multiclass"
   ]
  },
  {
   "cell_type": "code",
   "execution_count": null,
   "id": "93841203-2714-40fc-8749-294af58efa98",
   "metadata": {},
   "outputs": [],
   "source": [
    "from sklearn.ensemble import RandomForestRegressor, RandomForestClassifier"
   ]
  },
  {
   "cell_type": "code",
   "execution_count": null,
   "id": "6487cf91-3089-42e6-bad1-030f5c472a95",
   "metadata": {},
   "outputs": [],
   "source": [
    "train_data = preprocessing.create_fix_length_sequences(train_data, 10)\n",
    "test_data = preprocessing.create_fix_length_sequences(test_data, 10)"
   ]
  },
  {
   "cell_type": "code",
   "execution_count": null,
   "id": "f5f61f22-6720-4ac6-9624-bf46b7b7baf5",
   "metadata": {},
   "outputs": [],
   "source": [
    "features_config_1 = ['N_COORDINATE_POINTS','TOTAL_DISTANCE_KM', 'START_POINT_LON','START_POINT_LAT','2013_10',\n",
    "       '2013_11', '2013_12', '2013_7', '2013_8', '2013_9', '2014_1', '2014_2',\n",
    "       '2014_3', '2014_4', '2014_5', '2014_6', '2014_7', '10.0', '12.0',\n",
    "       '13.0', '14.0', '15.0', '18.0', '20.0', '21.0', '23.0', '25.0', '26.0',\n",
    "       '27.0', '28.0', '33.0', '34.0', '35.0', '36.0', '38.0', '40.0', '42.0',\n",
    "       '52.0', '53.0', '54.0', '56.0', '57.0', '58.0', '6.0', '60.0', '61.0',\n",
    "       '63.0', '7.0', '9.0', 'OTHER', 'Cloudy', 'Foggy', 'Rainy', 'Sunny',\n",
    "       'Windy', 'A', 'B', 'C', '16.0', '2014_10', '2014_11', '2014_12',\n",
    "       '2014_8', '2014_9', '47.0', '49.0','START_SEQUENCE_STACK','STOP_SEQUENCE_STACK']\n",
    "label_config_1 = ['cluster_label']"
   ]
  },
  {
   "cell_type": "code",
   "execution_count": null,
   "id": "f335c1a8-9e88-41db-afde-08ee5d0c36a2",
   "metadata": {},
   "outputs": [],
   "source": [
    "estimator = RandomForestClassifier(n_jobs=-1, random_state=0, n_estimators=200, min_samples_split=0.001)"
   ]
  },
  {
   "cell_type": "code",
   "execution_count": null,
   "id": "13f1d23c-eb6c-4ec2-922e-5f04af5f8a55",
   "metadata": {},
   "outputs": [],
   "source": [
    "X = train_data[features_config_1]\n",
    "y = train_data[label_config_1]'"
   ]
  },
  {
   "cell_type": "code",
   "execution_count": null,
   "id": "d8ffcb48-ebc0-4ff7-a328-4c534597b79c",
   "metadata": {},
   "outputs": [],
   "source": [
    "from sklearn.ensemble import RandomForestRegressor, RandomForestCl\n",
    "from sklearn.multioutput import MultiOutputRegressor\n",
    "rf = RandomForestRegressor(random_state=0)\n",
    "wrapper = MultiOutputRegressor(rf)\n",
    "cv = RepeatedKFold(n_splits=10,random_state=1)\n",
    "n_scores = cross_val_score(wrapper, X, y, scoring='mean_squared_error', cv=cv)"
   ]
  }
 ],
 "metadata": {
  "kernelspec": {
   "display_name": "conda_tensorflow2_p310",
   "language": "python",
   "name": "conda_tensorflow2_p310"
  },
  "language_info": {
   "codemirror_mode": {
    "name": "ipython",
    "version": 3
   },
   "file_extension": ".py",
   "mimetype": "text/x-python",
   "name": "python",
   "nbconvert_exporter": "python",
   "pygments_lexer": "ipython3",
   "version": "3.10.6"
  }
 },
 "nbformat": 4,
 "nbformat_minor": 5
}
