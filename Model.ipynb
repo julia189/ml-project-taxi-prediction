{
 "cells": [
  {
   "cell_type": "markdown",
   "id": "1fd861eb",
   "metadata": {},
   "source": [
    "### Model training"
   ]
  },
  {
   "cell_type": "markdown",
   "id": "448c903b",
   "metadata": {},
   "source": [
    "The filtered, calculated and encoded features can now be trained with appropriate models.\n",
    "\n",
    "The following approaches are considered:\n",
    "- Multi classification problem with clustered data\n",
    "- Mutli regression problem with two outputs (longitude/latitude)\n",
    "\n",
    "In terms of the data we have the following approaches:\n",
    "- variable sequence length - can take all points in POLYLINE in consideration, zero-padd start of sequence if necessary\n",
    "- fixed sequence length - take 5 points from beginning of POLYLINE and 5 points from end of polyline \n",
    "\n",
    "\n",
    "Algorithms:\n",
    "- Long term short term NN (multi-class classification and regression)\n",
    "    - able to handle variable sequence length, therefore the total trip POLYLINE can be used\n",
    "- Random forest(only regression) \n",
    "    - can handle outliers well as dataset still contains outliers\n",
    "    - runs efficiently on large data set"
   ]
  },
  {
   "cell_type": "code",
   "execution_count": 1,
   "id": "91cc7b30",
   "metadata": {},
   "outputs": [],
   "source": [
    "import tensorflow"
   ]
  },
  {
   "cell_type": "code",
   "execution_count": 2,
   "id": "ec22db62",
   "metadata": {},
   "outputs": [],
   "source": [
    "from tensorflow.keras import Sequential\n",
    "from tensorflow.keras.layers import LSTM, Dense \n",
    "from tensorflow.keras.optimizers import Adam"
   ]
  },
  {
   "cell_type": "code",
   "execution_count": 29,
   "id": "81e88351",
   "metadata": {},
   "outputs": [
    {
     "name": "stderr",
     "output_type": "stream",
     "text": [
      "Matplotlib is building the font cache; this may take a moment.\n"
     ]
    }
   ],
   "source": [
    "import pandas as pd \n",
    "import numpy as np \n",
    "import json\n",
    "import preprocessing"
   ]
  },
  {
   "cell_type": "markdown",
   "id": "f8c3ebe9-34a1-4cd5-9915-feaa7bba93dd",
   "metadata": {},
   "source": [
    "### 1) Random Forest - Multiclass"
   ]
  },
  {
   "cell_type": "code",
   "execution_count": 5,
   "id": "0b7f526e-3513-4c65-bb99-7666b35723c3",
   "metadata": {},
   "outputs": [],
   "source": [
    "n_cluster=1000"
   ]
  },
  {
   "cell_type": "code",
   "execution_count": 6,
   "id": "114e1aff",
   "metadata": {},
   "outputs": [],
   "source": [
    "train_data = pd.read_parquet(f's3://think-tank-casestudy/features_engineered/n_cluster_{n_cluster}/feature_engineered_train.parquet')\n",
    "test_data = pd.read_parquet(f's3://think-tank-casestudy/features_engineered/n_cluster_{n_cluster}/feature_engineered_test.parquet')"
   ]
  },
  {
   "cell_type": "code",
   "execution_count": 8,
   "id": "93841203-2714-40fc-8749-294af58efa98",
   "metadata": {},
   "outputs": [],
   "source": [
    "from sklearn.ensemble import RandomForestRegressor, RandomForestClassifier"
   ]
  },
  {
   "cell_type": "code",
   "execution_count": 30,
   "id": "6487cf91-3089-42e6-bad1-030f5c472a95",
   "metadata": {},
   "outputs": [],
   "source": [
    "train_data = preprocessing.create_fix_length_sequences(train_data, 10)"
   ]
  },
  {
   "cell_type": "code",
   "execution_count": 65,
   "id": "f5f61f22-6720-4ac6-9624-bf46b7b7baf5",
   "metadata": {},
   "outputs": [],
   "source": [
    "features_config_1 = ['N_COORDINATE_POINTS','TOTAL_DISTANCE_KM', 'START_POINT_LON','START_POINT_LAT','2013_10',\n",
    "       '2013_11', '2013_12', '2013_7', '2013_8', '2013_9', '2014_1', '2014_2',\n",
    "       '2014_3', '2014_4', '2014_5', '2014_6', '2014_7', '10.0', '12.0',\n",
    "       '13.0', '14.0', '15.0', '18.0', '20.0', '21.0', '23.0', '25.0', '26.0',\n",
    "       '27.0', '28.0', '33.0', '34.0', '35.0', '36.0', '38.0', '40.0', '42.0',\n",
    "       '52.0', '53.0', '54.0', '56.0', '57.0', '58.0', '6.0', '60.0', '61.0',\n",
    "       '63.0', '7.0', '9.0', 'OTHER', 'Cloudy', 'Foggy', 'Rainy', 'Sunny',\n",
    "       'Windy', 'A', 'B', 'C', '16.0', '2014_10', '2014_11', '2014_12',\n",
    "       '2014_8', '2014_9', '47.0', '49.0','START_SEQUENCE_STACK','STOP_SEQUENCE_STACK']\n",
    "label_config_1 = ['cluster_label']"
   ]
  },
  {
   "cell_type": "code",
   "execution_count": 36,
   "id": "f335c1a8-9e88-41db-afde-08ee5d0c36a2",
   "metadata": {},
   "outputs": [],
   "source": [
    "estimator = RandomForestClassifier(n_jobs=-1, random_state=0, n_estimators=200, min_samples_split=0.001)"
   ]
  },
  {
   "cell_type": "code",
   "execution_count": 52,
   "id": "13f1d23c-eb6c-4ec2-922e-5f04af5f8a55",
   "metadata": {},
   "outputs": [],
   "source": [
    "X = train_data[features_config_1]\n",
    "y = train_data[label_config_1]'"
   ]
  },
  {
   "cell_type": "code",
   "execution_count": null,
   "id": "d8ffcb48-ebc0-4ff7-a328-4c534597b79c",
   "metadata": {},
   "outputs": [],
   "source": [
    "from sklearn.ensemble import RandomForestRegressor, RandomForestCl\n",
    "from sklearn.multioutput import MultiOutputRegressor\n",
    "rf = RandomForestRegressor(random_state=0)\n",
    "wrapper = MultiOutputRegressor(rf)\n",
    "cv = RepeatedKFold(n_splits=10,random_state=1)\n",
    "n_scores = cross_val_score(wrapper, X, y, scoring='mean_squared_error', cv=cv)"
   ]
  },
  {
   "cell_type": "code",
   "execution_count": null,
   "id": "44a0ce96-357a-4472-ade7-dfeab32e4023",
   "metadata": {},
   "outputs": [],
   "source": [
    "model = Sequential()\n",
    "model.add(Input(input_shape=(X.shape[0], X.shape[1])))\n",
    "model.add(LSTM(50, activation='relu'))\n",
    "model.add(Dense(2), activation='linear')\n",
    "\n",
    "model.compile(optimizer='adam', loss='mse', metrics=['MeanSquaredError', 'MeanAbsoluteError'])\n",
    "model.add(Dense(n_outputs))\n",
    "X_pred_train = model.fit(X_train)"
   ]
  }
 ],
 "metadata": {
  "kernelspec": {
   "display_name": "conda_tensorflow2_p38",
   "language": "python",
   "name": "conda_tensorflow2_p38"
  },
  "language_info": {
   "codemirror_mode": {
    "name": "ipython",
    "version": 3
   },
   "file_extension": ".py",
   "mimetype": "text/x-python",
   "name": "python",
   "nbconvert_exporter": "python",
   "pygments_lexer": "ipython3",
   "version": "3.8.12"
  }
 },
 "nbformat": 4,
 "nbformat_minor": 5
}
