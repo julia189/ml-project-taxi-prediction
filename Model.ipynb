{
 "cells": [
  {
   "cell_type": "markdown",
   "id": "1fd861eb",
   "metadata": {},
   "source": [
    "### Model training"
   ]
  },
  {
   "cell_type": "markdown",
   "id": "448c903b",
   "metadata": {},
   "source": [
    "The filtered, calculated and encoded features can now be trained with appropriate models.\n",
    "\n",
    "The following approaches are considered:\n",
    "- Multi classification problem with clustered data\n",
    "- Mutli regression problem with two outputs (longitude/latitude)\n",
    "\n",
    "In terms of the data we have the following approaches:\n",
    "- variable sequence length\n",
    "- fixed sequence length\n",
    "\n",
    "\n",
    "Algorithms:\n",
    "- Long term short term  (multi-class classification and regression)\n",
    "    - able to handle variable sequence length, therefore the total trip POLYLINE can be used\n",
    "- Random forest(only regression) \n",
    "    - can handle outliers well and dataset still contains outliers"
   ]
  },
  {
   "cell_type": "code",
   "execution_count": null,
   "id": "91cc7b30",
   "metadata": {},
   "outputs": [],
   "source": [
    "import tensorflow"
   ]
  },
  {
   "cell_type": "code",
   "execution_count": null,
   "id": "ec22db62",
   "metadata": {},
   "outputs": [],
   "source": [
    "from tensorflow.keras import Sequential\n",
    "from tensorflow.keras.layers import LSTM, Dense \n",
    "from tensorflow.keras.optimizers import Adam"
   ]
  },
  {
   "cell_type": "code",
   "execution_count": null,
   "id": "81e88351",
   "metadata": {},
   "outputs": [],
   "source": [
    "import pandas as pd \n",
    "import numpy as np \n",
    "import json"
   ]
  },
  {
   "cell_type": "code",
   "execution_count": null,
   "id": "114e1aff",
   "metadata": {},
   "outputs": [],
   "source": [
    "train_data = pd.read_csv('s3://think-tank-casestudy/features_engineered/feature_engineered_regress_train.csv')"
   ]
  },
  {
   "cell_type": "code",
   "execution_count": null,
   "id": "5d425f49-4c20-4fa4-9f93-d1ba851ca4ca",
   "metadata": {},
   "outputs": [],
   "source": [
    "def polyline_to_sequences(data, n_start, n_end):\n",
    "    sequence_start = data.POLYLINE_LIST.apply(lambda sequence: json.loads(sequence)[:n_start])\n",
    "    sequence_end = data.POLYLINE_LIST.apply(lambda sequence: json.loads(sequence)[-n_end+1:-1])\n",
    "    return sequence_start, sequence_end"
   ]
  },
  {
   "cell_type": "code",
   "execution_count": null,
   "id": "13f1d23c-eb6c-4ec2-922e-5f04af5f8a55",
   "metadata": {},
   "outputs": [],
   "source": [
    "X = train_data.iloc[:,3:-2]\n",
    "y = train_data[[['DEST_LON','DEST_LAT']]"
   ]
  },
  {
   "cell_type": "code",
   "execution_count": null,
   "id": "d8ffcb48-ebc0-4ff7-a328-4c534597b79c",
   "metadata": {},
   "outputs": [],
   "source": [
    "from sklearn.ensemble import RandomForestRegressor\n",
    "from sklearn.multioutput import MultiOutputRegressor\n",
    "rf = RandomForestRegressor(random_state=0)\n",
    "wrapper = MultiOutputRegressor(rf)\n",
    "# define the evaluation procedure\n",
    "cv = RepeatedKFold(n_splits=10,random_state=1)\n",
    "# evaluate the model and collect the scores\n",
    "n_scores = cross_val_score(wrapper, X, y, scoring='mean_squared_error', cv=cv)"
   ]
  }
 ],
 "metadata": {
  "kernelspec": {
   "display_name": "conda_tensorflow2_p38",
   "language": "python",
   "name": "conda_tensorflow2_p38"
  },
  "language_info": {
   "codemirror_mode": {
    "name": "ipython",
    "version": 3
   },
   "file_extension": ".py",
   "mimetype": "text/x-python",
   "name": "python",
   "nbconvert_exporter": "python",
   "pygments_lexer": "ipython3",
   "version": "3.8.12"
  }
 },
 "nbformat": 4,
 "nbformat_minor": 5
}
