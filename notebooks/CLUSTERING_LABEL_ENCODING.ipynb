{
 "cells": [
  {
   "cell_type": "markdown",
   "id": "d0cbb67f",
   "metadata": {},
   "source": [
    "1) Multi-regression output problem --> predict two labels: longitude and latitude\n",
    "\n",
    "2) Re-write problem as multi-class problem through clustering\n",
    "To define the classes, the last points per trip from the training data will be divided into clusters. When we have a large enough number of clusters, the clusters should be small enough to have their points close to their centroids. \n",
    "\n",
    "K-Means is a good approach as it minimizes the sum of squared distances within the cluster. Also it scales well to a large number of clusters. \n",
    "\n",
    "So the approach then predicts: **Probability of final destination of a trip being located in a specific cluster**\n",
    "\n",
    "Steps:\n",
    "- Get optimal number of clusters with help of interia\n",
    "- Generate clusters with K-Means for each trip in training data\n",
    "- Predict cluster for each trip in testing data\n",
    "- Get centroids for each cluster \n",
    "- Calculate distance from points in cluster to centroid to evaluate"
   ]
  },
  {
   "cell_type": "code",
   "execution_count": 5,
   "id": "c8a5d153-9da9-4847-9cbe-c03e916f8aec",
   "metadata": {
    "tags": []
   },
   "outputs": [],
   "source": [
    "is_sagemaker_notebook = True"
   ]
  },
  {
   "cell_type": "code",
   "execution_count": 1,
   "id": "1fb99bb0",
   "metadata": {
    "collapsed": true,
    "jupyter": {
     "outputs_hidden": true
    },
    "tags": []
   },
   "outputs": [
    {
     "name": "stdout",
     "output_type": "stream",
     "text": [
      "Collecting dask_ml\n",
      "  Downloading dask_ml-2023.3.24-py3-none-any.whl (148 kB)\n",
      "\u001b[2K     \u001b[90m━━━━━━━━━━━━━━━━━━━━━━━━━━━━━━━━━━━━━━━\u001b[0m \u001b[32m148.7/148.7 kB\u001b[0m \u001b[31m2.1 MB/s\u001b[0m eta \u001b[36m0:00:00\u001b[0ma \u001b[36m0:00:01\u001b[0m\n",
      "\u001b[?25hRequirement already satisfied: dask>=2.4.0 in /home/ec2-user/anaconda3/envs/python3/lib/python3.10/site-packages (from dask[array,dataframe]>=2.4.0->dask_ml) (2023.10.0)\n",
      "Requirement already satisfied: distributed>=2.4.0 in /home/ec2-user/anaconda3/envs/python3/lib/python3.10/site-packages (from dask_ml) (2023.10.0)\n",
      "Requirement already satisfied: numba>=0.51.0 in /home/ec2-user/anaconda3/envs/python3/lib/python3.10/site-packages (from dask_ml) (0.57.1)\n",
      "Requirement already satisfied: numpy>=1.20.0 in /home/ec2-user/anaconda3/envs/python3/lib/python3.10/site-packages (from dask_ml) (1.22.4)\n",
      "Requirement already satisfied: pandas>=0.24.2 in /home/ec2-user/anaconda3/envs/python3/lib/python3.10/site-packages (from dask_ml) (2.1.1)\n",
      "Requirement already satisfied: scikit-learn>=1.2.0 in /home/ec2-user/anaconda3/envs/python3/lib/python3.10/site-packages (from dask_ml) (1.3.2)\n",
      "Requirement already satisfied: scipy in /home/ec2-user/anaconda3/envs/python3/lib/python3.10/site-packages (from dask_ml) (1.11.3)\n",
      "Collecting dask-glm>=0.2.0 (from dask_ml)\n",
      "  Downloading dask_glm-0.3.1-py2.py3-none-any.whl.metadata (1.5 kB)\n",
      "Collecting multipledispatch>=0.4.9 (from dask_ml)\n",
      "  Downloading multipledispatch-1.0.0-py3-none-any.whl.metadata (3.8 kB)\n",
      "Requirement already satisfied: packaging in /home/ec2-user/anaconda3/envs/python3/lib/python3.10/site-packages (from dask_ml) (21.3)\n",
      "Requirement already satisfied: click>=8.0 in /home/ec2-user/anaconda3/envs/python3/lib/python3.10/site-packages (from dask>=2.4.0->dask[array,dataframe]>=2.4.0->dask_ml) (8.1.7)\n",
      "Requirement already satisfied: cloudpickle>=1.5.0 in /home/ec2-user/anaconda3/envs/python3/lib/python3.10/site-packages (from dask>=2.4.0->dask[array,dataframe]>=2.4.0->dask_ml) (2.2.1)\n",
      "Requirement already satisfied: fsspec>=2021.09.0 in /home/ec2-user/anaconda3/envs/python3/lib/python3.10/site-packages (from dask>=2.4.0->dask[array,dataframe]>=2.4.0->dask_ml) (2023.10.0)\n",
      "Requirement already satisfied: partd>=1.2.0 in /home/ec2-user/anaconda3/envs/python3/lib/python3.10/site-packages (from dask>=2.4.0->dask[array,dataframe]>=2.4.0->dask_ml) (1.4.1)\n",
      "Requirement already satisfied: pyyaml>=5.3.1 in /home/ec2-user/anaconda3/envs/python3/lib/python3.10/site-packages (from dask>=2.4.0->dask[array,dataframe]>=2.4.0->dask_ml) (6.0.1)\n",
      "Requirement already satisfied: toolz>=0.10.0 in /home/ec2-user/anaconda3/envs/python3/lib/python3.10/site-packages (from dask>=2.4.0->dask[array,dataframe]>=2.4.0->dask_ml) (0.12.0)\n",
      "Requirement already satisfied: importlib-metadata>=4.13.0 in /home/ec2-user/anaconda3/envs/python3/lib/python3.10/site-packages (from dask>=2.4.0->dask[array,dataframe]>=2.4.0->dask_ml) (6.8.0)\n",
      "Collecting sparse>=0.7.0 (from dask-glm>=0.2.0->dask_ml)\n",
      "  Downloading sparse-0.14.0-py2.py3-none-any.whl (80 kB)\n",
      "\u001b[2K     \u001b[90m━━━━━━━━━━━━━━━━━━━━━━━━━━━━━━━━━━━━━━━━\u001b[0m \u001b[32m81.0/81.0 kB\u001b[0m \u001b[31m11.9 MB/s\u001b[0m eta \u001b[36m0:00:00\u001b[0m\n",
      "\u001b[?25hRequirement already satisfied: jinja2>=2.10.3 in /home/ec2-user/anaconda3/envs/python3/lib/python3.10/site-packages (from distributed>=2.4.0->dask_ml) (3.1.2)\n",
      "Requirement already satisfied: locket>=1.0.0 in /home/ec2-user/anaconda3/envs/python3/lib/python3.10/site-packages (from distributed>=2.4.0->dask_ml) (1.0.0)\n",
      "Requirement already satisfied: msgpack>=1.0.0 in /home/ec2-user/anaconda3/envs/python3/lib/python3.10/site-packages (from distributed>=2.4.0->dask_ml) (1.0.6)\n",
      "Requirement already satisfied: psutil>=5.7.2 in /home/ec2-user/anaconda3/envs/python3/lib/python3.10/site-packages (from distributed>=2.4.0->dask_ml) (5.9.5)\n",
      "Requirement already satisfied: sortedcontainers>=2.0.5 in /home/ec2-user/anaconda3/envs/python3/lib/python3.10/site-packages (from distributed>=2.4.0->dask_ml) (2.4.0)\n",
      "Requirement already satisfied: tblib>=1.6.0 in /home/ec2-user/anaconda3/envs/python3/lib/python3.10/site-packages (from distributed>=2.4.0->dask_ml) (1.7.0)\n",
      "Requirement already satisfied: tornado>=6.0.4 in /home/ec2-user/anaconda3/envs/python3/lib/python3.10/site-packages (from distributed>=2.4.0->dask_ml) (6.3.3)\n",
      "Requirement already satisfied: urllib3>=1.24.3 in /home/ec2-user/anaconda3/envs/python3/lib/python3.10/site-packages (from distributed>=2.4.0->dask_ml) (1.26.18)\n",
      "Requirement already satisfied: zict>=3.0.0 in /home/ec2-user/anaconda3/envs/python3/lib/python3.10/site-packages (from distributed>=2.4.0->dask_ml) (3.0.0)\n",
      "Requirement already satisfied: llvmlite<0.41,>=0.40.0dev0 in /home/ec2-user/anaconda3/envs/python3/lib/python3.10/site-packages (from numba>=0.51.0->dask_ml) (0.40.1)\n",
      "Requirement already satisfied: pyparsing!=3.0.5,>=2.0.2 in /home/ec2-user/anaconda3/envs/python3/lib/python3.10/site-packages (from packaging->dask_ml) (3.1.1)\n",
      "Requirement already satisfied: python-dateutil>=2.8.2 in /home/ec2-user/anaconda3/envs/python3/lib/python3.10/site-packages (from pandas>=0.24.2->dask_ml) (2.8.2)\n",
      "Requirement already satisfied: pytz>=2020.1 in /home/ec2-user/anaconda3/envs/python3/lib/python3.10/site-packages (from pandas>=0.24.2->dask_ml) (2023.3.post1)\n",
      "Requirement already satisfied: tzdata>=2022.1 in /home/ec2-user/anaconda3/envs/python3/lib/python3.10/site-packages (from pandas>=0.24.2->dask_ml) (2023.3)\n",
      "Requirement already satisfied: joblib>=1.1.1 in /home/ec2-user/anaconda3/envs/python3/lib/python3.10/site-packages (from scikit-learn>=1.2.0->dask_ml) (1.3.2)\n",
      "Requirement already satisfied: threadpoolctl>=2.0.0 in /home/ec2-user/anaconda3/envs/python3/lib/python3.10/site-packages (from scikit-learn>=1.2.0->dask_ml) (3.2.0)\n",
      "Requirement already satisfied: zipp>=0.5 in /home/ec2-user/anaconda3/envs/python3/lib/python3.10/site-packages (from importlib-metadata>=4.13.0->dask>=2.4.0->dask[array,dataframe]>=2.4.0->dask_ml) (3.17.0)\n",
      "Requirement already satisfied: MarkupSafe>=2.0 in /home/ec2-user/anaconda3/envs/python3/lib/python3.10/site-packages (from jinja2>=2.10.3->distributed>=2.4.0->dask_ml) (2.1.3)\n",
      "Requirement already satisfied: six>=1.5 in /home/ec2-user/anaconda3/envs/python3/lib/python3.10/site-packages (from python-dateutil>=2.8.2->pandas>=0.24.2->dask_ml) (1.16.0)\n",
      "Downloading dask_glm-0.3.1-py2.py3-none-any.whl (13 kB)\n",
      "Downloading multipledispatch-1.0.0-py3-none-any.whl (12 kB)\n",
      "Installing collected packages: multipledispatch, sparse, dask-glm, dask_ml\n",
      "Successfully installed dask-glm-0.3.1 dask_ml-2023.3.24 multipledispatch-1.0.0 sparse-0.14.0\n"
     ]
    }
   ],
   "source": [
    "!pip install dask_ml"
   ]
  },
  {
   "cell_type": "code",
   "execution_count": 2,
   "id": "883f9d2c",
   "metadata": {
    "tags": []
   },
   "outputs": [
    {
     "name": "stderr",
     "output_type": "stream",
     "text": [
      "/home/ec2-user/anaconda3/envs/python3/lib/python3.10/site-packages/pandas/core/computation/expressions.py:21: UserWarning: Pandas requires version '2.8.0' or newer of 'numexpr' (version '2.7.3' currently installed).\n",
      "  from pandas.core.computation.check import NUMEXPR_INSTALLED\n"
     ]
    }
   ],
   "source": [
    "import os\n",
    "import sys\n",
    "import pandas as pd\n",
    "import numpy as np\n",
    "import datetime\n",
    "from datetime import datetime\n",
    "import time\n",
    "import json\n",
    "import matplotlib.pyplot as plt\n",
    "import seaborn as sns\n",
    "import sklearn\n",
    "import awswrangler as wr\n",
    "import random"
   ]
  },
  {
   "cell_type": "code",
   "execution_count": 3,
   "id": "6b2f31ee-0d41-4708-a913-d19001db25cb",
   "metadata": {
    "collapsed": true,
    "jupyter": {
     "outputs_hidden": true
    },
    "tags": []
   },
   "outputs": [
    {
     "name": "stdout",
     "output_type": "stream",
     "text": [
      "Collecting numpy==1.24\n",
      "  Downloading numpy-1.24.0-cp310-cp310-manylinux_2_17_x86_64.manylinux2014_x86_64.whl (17.3 MB)\n",
      "\u001b[2K     \u001b[90m━━━━━━━━━━━━━━━━━━━━━━━━━━━━━━━━━━━━━━━━\u001b[0m \u001b[32m17.3/17.3 MB\u001b[0m \u001b[31m24.0 MB/s\u001b[0m eta \u001b[36m0:00:00\u001b[0m00:01\u001b[0m00:01\u001b[0m\n",
      "\u001b[?25hInstalling collected packages: numpy\n",
      "  Attempting uninstall: numpy\n",
      "    Found existing installation: numpy 1.22.4\n",
      "    Uninstalling numpy-1.22.4:\n",
      "      Successfully uninstalled numpy-1.22.4\n",
      "\u001b[31mERROR: pip's dependency resolver does not currently take into account all the packages that are installed. This behaviour is the source of the following dependency conflicts.\n",
      "mkl-fft 1.3.8 requires mkl, which is not installed.\n",
      "hdijupyterutils 0.21.0 requires pandas<2.0.0,>=0.17.1, but you have pandas 2.1.1 which is incompatible.\n",
      "seaborn 0.13.0 requires numpy!=1.24.0,>=1.20, but you have numpy 1.24.0 which is incompatible.\n",
      "sparkmagic 0.21.0 requires pandas<2.0.0,>=0.17.1, but you have pandas 2.1.1 which is incompatible.\u001b[0m\u001b[31m\n",
      "\u001b[0mSuccessfully installed numpy-1.24.0\n"
     ]
    }
   ],
   "source": [
    "!pip install numpy==1.24"
   ]
  },
  {
   "cell_type": "code",
   "execution_count": 4,
   "id": "aa92e488",
   "metadata": {
    "tags": []
   },
   "outputs": [],
   "source": [
    "from sklearn.cluster import KMeans\n",
    "import dask.array as da\n",
    "from dask_ml import cluster\n",
    "from sklearn.pipeline import Pipeline\n",
    "from sklearn.preprocessing import StandardScaler"
   ]
  },
  {
   "cell_type": "code",
   "execution_count": 6,
   "id": "a5bcafe9-cf0e-4af6-bf4f-acfa8eb14813",
   "metadata": {
    "tags": []
   },
   "outputs": [],
   "source": [
    "if is_sagemaker_notebook:\n",
    "    prefix = \"/home/ec2-user/SageMaker\"\n",
    "else:\n",
    "    prefix = \"/Users/Q619505/PycharmProjects\"\n",
    "\n",
    "utils_path = os.path.join(f'{prefix}/ml-project-taxi-prediction/src/utils/')\n",
    "pp_path = os.path.join(f'{prefix}/ml-project-taxi-prediction/src/preprocessing/')\n",
    "\n",
    "if utils_path not in sys.path:\n",
    "    sys.path.append(utils_path)\n",
    "\n",
    "if pp_path not in sys.path:\n",
    "    sys.path.append(pp_path)"
   ]
  },
  {
   "cell_type": "code",
   "execution_count": 7,
   "id": "a73853fa",
   "metadata": {
    "tags": []
   },
   "outputs": [],
   "source": [
    "from utils import *"
   ]
  },
  {
   "cell_type": "code",
   "execution_count": 8,
   "id": "d612d9e3",
   "metadata": {
    "tags": []
   },
   "outputs": [],
   "source": [
    "train_data = wr.s3.read_parquet('s3://think-tank-casestudy/preprocessed_data/train_data_preprocess.parquet')\n",
    "test_data = wr.s3.read_parquet('s3://think-tank-casestudy/preprocessed_data/test_data_preprocess.parquet')"
   ]
  },
  {
   "cell_type": "code",
   "execution_count": 9,
   "id": "1d579768-2aed-4bd8-8824-6d4852840d78",
   "metadata": {
    "tags": []
   },
   "outputs": [
    {
     "data": {
      "text/html": [
       "<div>\n",
       "<style scoped>\n",
       "    .dataframe tbody tr th:only-of-type {\n",
       "        vertical-align: middle;\n",
       "    }\n",
       "\n",
       "    .dataframe tbody tr th {\n",
       "        vertical-align: top;\n",
       "    }\n",
       "\n",
       "    .dataframe thead th {\n",
       "        text-align: right;\n",
       "    }\n",
       "</style>\n",
       "<table border=\"1\" class=\"dataframe\">\n",
       "  <thead>\n",
       "    <tr style=\"text-align: right;\">\n",
       "      <th></th>\n",
       "      <th>trip_id</th>\n",
       "      <th>call_type</th>\n",
       "      <th>origin_call</th>\n",
       "      <th>origin_stand</th>\n",
       "      <th>taxi_id</th>\n",
       "      <th>weather</th>\n",
       "      <th>n_coordinate_points</th>\n",
       "      <th>total_flight_time_minutes</th>\n",
       "      <th>start_point</th>\n",
       "      <th>dest_point</th>\n",
       "      <th>total_distance_km</th>\n",
       "      <th>sequence</th>\n",
       "    </tr>\n",
       "  </thead>\n",
       "  <tbody>\n",
       "    <tr>\n",
       "      <th>0</th>\n",
       "      <td>T1</td>\n",
       "      <td>B</td>\n",
       "      <td>NaN</td>\n",
       "      <td>15.0</td>\n",
       "      <td>20000542</td>\n",
       "      <td>Foggy</td>\n",
       "      <td>11</td>\n",
       "      <td>2.50</td>\n",
       "      <td>[-8.585676, 41.148522]</td>\n",
       "      <td>[-8.584884, 41.146623]</td>\n",
       "      <td>0.226606</td>\n",
       "      <td>[-8.585676, 41.148522, -8.585712, 41.148639, -...</td>\n",
       "    </tr>\n",
       "    <tr>\n",
       "      <th>1</th>\n",
       "      <td>T2</td>\n",
       "      <td>B</td>\n",
       "      <td>NaN</td>\n",
       "      <td>57.0</td>\n",
       "      <td>20000108</td>\n",
       "      <td>Cloudy</td>\n",
       "      <td>40</td>\n",
       "      <td>9.75</td>\n",
       "      <td>[-8.610876, 41.14557]</td>\n",
       "      <td>[-8.601894, 41.163597]</td>\n",
       "      <td>2.219367</td>\n",
       "      <td>[-8.610876, 41.14557, -8.610858, 41.145579, -8...</td>\n",
       "    </tr>\n",
       "    <tr>\n",
       "      <th>2</th>\n",
       "      <td>T3</td>\n",
       "      <td>B</td>\n",
       "      <td>NaN</td>\n",
       "      <td>15.0</td>\n",
       "      <td>20000370</td>\n",
       "      <td>Foggy</td>\n",
       "      <td>40</td>\n",
       "      <td>9.75</td>\n",
       "      <td>[-8.585739, 41.148558]</td>\n",
       "      <td>[-8.574903, 41.167719]</td>\n",
       "      <td>2.426982</td>\n",
       "      <td>[-8.585739, 41.148558, -8.58573, 41.148828, -8...</td>\n",
       "    </tr>\n",
       "    <tr>\n",
       "      <th>3</th>\n",
       "      <td>T6</td>\n",
       "      <td>A</td>\n",
       "      <td>42612.0</td>\n",
       "      <td>NaN</td>\n",
       "      <td>20000607</td>\n",
       "      <td>Cloudy</td>\n",
       "      <td>137</td>\n",
       "      <td>34.00</td>\n",
       "      <td>[-8.630613, 41.178249]</td>\n",
       "      <td>[-8.62641, 41.171958]</td>\n",
       "      <td>0.834711</td>\n",
       "      <td>[-8.630613, 41.178249, -8.630613, 41.178249, -...</td>\n",
       "    </tr>\n",
       "    <tr>\n",
       "      <th>4</th>\n",
       "      <td>T7</td>\n",
       "      <td>B</td>\n",
       "      <td>NaN</td>\n",
       "      <td>15.0</td>\n",
       "      <td>20000310</td>\n",
       "      <td>Sunny</td>\n",
       "      <td>24</td>\n",
       "      <td>5.75</td>\n",
       "      <td>[-8.585622, 41.148918]</td>\n",
       "      <td>[-8.582049, 41.153778]</td>\n",
       "      <td>0.665869</td>\n",
       "      <td>[-8.585622, 41.148918, -8.58564, 41.1489, -8.5...</td>\n",
       "    </tr>\n",
       "  </tbody>\n",
       "</table>\n",
       "</div>"
      ],
      "text/plain": [
       "  trip_id call_type  origin_call  origin_stand   taxi_id weather  \\\n",
       "0      T1         B          NaN          15.0  20000542   Foggy   \n",
       "1      T2         B          NaN          57.0  20000108  Cloudy   \n",
       "2      T3         B          NaN          15.0  20000370   Foggy   \n",
       "3      T6         A      42612.0           NaN  20000607  Cloudy   \n",
       "4      T7         B          NaN          15.0  20000310   Sunny   \n",
       "\n",
       "   n_coordinate_points  total_flight_time_minutes             start_point  \\\n",
       "0                   11                       2.50  [-8.585676, 41.148522]   \n",
       "1                   40                       9.75   [-8.610876, 41.14557]   \n",
       "2                   40                       9.75  [-8.585739, 41.148558]   \n",
       "3                  137                      34.00  [-8.630613, 41.178249]   \n",
       "4                   24                       5.75  [-8.585622, 41.148918]   \n",
       "\n",
       "               dest_point  total_distance_km  \\\n",
       "0  [-8.584884, 41.146623]           0.226606   \n",
       "1  [-8.601894, 41.163597]           2.219367   \n",
       "2  [-8.574903, 41.167719]           2.426982   \n",
       "3   [-8.62641, 41.171958]           0.834711   \n",
       "4  [-8.582049, 41.153778]           0.665869   \n",
       "\n",
       "                                            sequence  \n",
       "0  [-8.585676, 41.148522, -8.585712, 41.148639, -...  \n",
       "1  [-8.610876, 41.14557, -8.610858, 41.145579, -8...  \n",
       "2  [-8.585739, 41.148558, -8.58573, 41.148828, -8...  \n",
       "3  [-8.630613, 41.178249, -8.630613, 41.178249, -...  \n",
       "4  [-8.585622, 41.148918, -8.58564, 41.1489, -8.5...  "
      ]
     },
     "execution_count": 9,
     "metadata": {},
     "output_type": "execute_result"
    }
   ],
   "source": [
    "test_data.head()"
   ]
  },
  {
   "cell_type": "code",
   "execution_count": 10,
   "id": "66fb203e",
   "metadata": {
    "tags": []
   },
   "outputs": [],
   "source": [
    "def extract_lat_lon(data, column_):\n",
    "    data[column_+'_LON'] = data[column_].apply(lambda value: value[0])\n",
    "    data[column_+'_LAT'] = data[column_].apply(lambda value: value[1])\n",
    "    return data"
   ]
  },
  {
   "cell_type": "code",
   "execution_count": 11,
   "id": "c7758bbd",
   "metadata": {
    "tags": []
   },
   "outputs": [],
   "source": [
    "train_data = extract_lat_lon(train_data,'start_point')\n",
    "test_data = extract_lat_lon(test_data,'start_point')\n",
    "\n",
    "train_data = extract_lat_lon(train_data,'dest_point')\n",
    "test_data = extract_lat_lon(test_data,'dest_point')"
   ]
  },
  {
   "cell_type": "code",
   "execution_count": 16,
   "id": "91865d31",
   "metadata": {
    "scrolled": true,
    "tags": []
   },
   "outputs": [],
   "source": [
    "X = np.vstack(train_data.dest_point)\n",
    "# transform destintion point to dask format\n",
    "X_da = da.from_array(X)"
   ]
  },
  {
   "cell_type": "markdown",
   "id": "c651170a-fa13-41f1-bb9e-dcb595a39951",
   "metadata": {},
   "source": [
    "- Inertia/sum of squared distance shows still significant reduction for 4000 clusters, therefore choose n_clusters = 4000\n",
    "- Due to high execution time more iterations are not considered"
   ]
  },
  {
   "cell_type": "code",
   "execution_count": 17,
   "id": "67014015",
   "metadata": {
    "tags": []
   },
   "outputs": [],
   "source": [
    "#inertia_per_k = [(k, KMeans(n_clusters=k, init='k-means++', verbose=True, random_state=1).fit(X_da).inertia_)\n",
    "#  for k in range(1000,5000,1000)]"
   ]
  },
  {
   "cell_type": "markdown",
   "id": "866260be-69fa-429a-9501-3ece308bcf57",
   "metadata": {},
   "source": [
    "One iteration is sufficient as single points need to be clustered, the nature of the data already provides the clusters"
   ]
  },
  {
   "cell_type": "code",
   "execution_count": 19,
   "id": "e5e134c3",
   "metadata": {
    "tags": []
   },
   "outputs": [],
   "source": [
    "random.seed(5)"
   ]
  },
  {
   "cell_type": "code",
   "execution_count": 20,
   "id": "9a745a54",
   "metadata": {
    "tags": []
   },
   "outputs": [],
   "source": [
    "pipe = Pipeline([('scaler', StandardScaler()),\n",
    "                 ('clustering', KMeans(n_clusters = 4000,\n",
    "                                       init ='k-means++',\n",
    "                                       n_init = 1, \n",
    "                                       verbose=True,\n",
    "                                       random_state=1\n",
    "                                      )\n",
    "                 )])"
   ]
  },
  {
   "cell_type": "code",
   "execution_count": null,
   "id": "1971b746",
   "metadata": {
    "scrolled": true,
    "tags": []
   },
   "outputs": [
    {
     "name": "stderr",
     "output_type": "stream",
     "text": [
      "/home/ec2-user/anaconda3/envs/python3/lib/python3.10/site-packages/dask/array/core.py:1712: FutureWarning: The `numpy.may_share_memory` function is not implemented by Dask array. You may want to use the da.map_blocks function or something similar to silence this warning. Your code may stop working in a future release.\n",
      "  warnings.warn(\n"
     ]
    }
   ],
   "source": [
    "X['cluster_label'] = pipe.fit_predict(X_da)\n",
    "centers_scaled = pipe[1].cluster_centers_"
   ]
  },
  {
   "cell_type": "code",
   "execution_count": 19,
   "id": "bc1b8546",
   "metadata": {
    "tags": []
   },
   "outputs": [],
   "source": [
    "centers = pipe[0].inverse_transform(centers_scaled)"
   ]
  },
  {
   "cell_type": "code",
   "execution_count": 20,
   "id": "4f297593",
   "metadata": {
    "tags": []
   },
   "outputs": [],
   "source": [
    "centers = pd.DataFrame(centers, columns=['CENTER_LON','CENTER_LAT'])"
   ]
  },
  {
   "cell_type": "code",
   "execution_count": 21,
   "id": "966d4aa2",
   "metadata": {
    "tags": []
   },
   "outputs": [],
   "source": [
    "centers = centers.reset_index()"
   ]
  },
  {
   "cell_type": "code",
   "execution_count": 22,
   "id": "1accd1d2",
   "metadata": {
    "tags": []
   },
   "outputs": [
    {
     "data": {
      "image/png": "[encoded data removed]",
      "text/plain": [
       "<Figure size 640x480 with 1 Axes>"
      ]
     },
     "metadata": {},
     "output_type": "display_data"
    }
   ],
   "source": [
    "plt.hist(X.cluster_label)\n",
    "plt.show()"
   ]
  },
  {
   "cell_type": "code",
   "execution_count": 23,
   "id": "3e6e0fdf",
   "metadata": {
    "scrolled": true,
    "tags": []
   },
   "outputs": [
    {
     "name": "stderr",
     "output_type": "stream",
     "text": [
      "/home/ec2-user/anaconda3/envs/python3/lib/python3.10/site-packages/dask/array/core.py:1712: FutureWarning: The `numpy.may_share_memory` function is not implemented by Dask array. You may want to use the da.map_blocks function or something similar to silence this warning. Your code may stop working in a future release.\n",
      "  warnings.warn(\n",
      "/tmp/ipykernel_8693/1233280834.py:3: SettingWithCopyWarning: \n",
      "A value is trying to be set on a copy of a slice from a DataFrame.\n",
      "Try using .loc[row_indexer,col_indexer] = value instead\n",
      "\n",
      "See the caveats in the documentation: https://pandas.pydata.org/pandas-docs/stable/user_guide/indexing.html#returning-a-view-versus-a-copy\n",
      "  X_test['CLUSTER_LABEL'] = pipe.predict(X_da_test)\n"
     ]
    }
   ],
   "source": [
    "X_test = test_data[test_data.columns[-3:-1]]\n",
    "X_da_test = da.from_array(np.array(X_test))\n",
    "X_test['CLUSTER_LABEL'] = pipe.predict(X_da_test)"
   ]
  },
  {
   "cell_type": "code",
   "execution_count": 24,
   "id": "10ac51df",
   "metadata": {
    "tags": []
   },
   "outputs": [],
   "source": [
    "train_data['CLUSTER_LABEL'] = X['cluster_label']\n",
    "test_data['CLUSTER_LABEL'] = X_test['CLUSTER_LABEL']\n",
    "\n",
    "test_data = pd.merge(test_data, centers[['index','CENTER_LON','CENTER_LAT']], \n",
    "                           how='left', \n",
    "                           left_on='CLUSTER_LABEL',\n",
    "                           right_on='index')\n",
    "train_data = pd.merge(train_data, centers[['index','CENTER_LON','CENTER_LAT']], \n",
    "                           how='left', \n",
    "                           left_on='CLUSTER_LABEL',\n",
    "                           right_on='index')"
   ]
  },
  {
   "cell_type": "code",
   "execution_count": 25,
   "id": "9833cad9",
   "metadata": {
    "tags": []
   },
   "outputs": [],
   "source": [
    "n_cluster = train_data.CLUSTER_LABEL.nunique()"
   ]
  },
  {
   "cell_type": "code",
   "execution_count": 26,
   "id": "7bfaf635",
   "metadata": {
    "tags": []
   },
   "outputs": [
    {
     "data": {
      "text/plain": [
       "{'paths': ['s3://think-tank-casestudy/preprocessed_data/n_cluster_4000/test_data_clustered.parquet'],\n",
       " 'partitions_values': {}}"
      ]
     },
     "execution_count": 26,
     "metadata": {},
     "output_type": "execute_result"
    }
   ],
   "source": [
    "wr.s3.to_parquet(df=train_data, path=f's3://think-tank-casestudy/preprocessed_data/n_cluster_{n_cluster}/train_data_clustered.parquet')\n",
    "wr.s3.to_parquet(df=test_data, path=f's3://think-tank-casestudy/preprocessed_data/n_cluster_{n_cluster}/test_data_clustered.parquet')"
   ]
  }
 ],
 "metadata": {
  "kernelspec": {
   "display_name": "conda_python3",
   "language": "python",
   "name": "conda_python3"
  },
  "language_info": {
   "codemirror_mode": {
    "name": "ipython",
    "version": 3
   },
   "file_extension": ".py",
   "mimetype": "text/x-python",
   "name": "python",
   "nbconvert_exporter": "python",
   "pygments_lexer": "ipython3",
   "version": "3.10.13"
  }
 },
 "nbformat": 4,
 "nbformat_minor": 5
}
