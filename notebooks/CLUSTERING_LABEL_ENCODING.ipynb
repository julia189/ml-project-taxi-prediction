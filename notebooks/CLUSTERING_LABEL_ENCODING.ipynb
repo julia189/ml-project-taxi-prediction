{
 "cells": [
  {
   "cell_type": "markdown",
   "id": "d0cbb67f",
   "metadata": {},
   "source": [
    "1) Multi-regression output problem --> predict two labels: longitude and latitude\n",
    "\n",
    "2) Re-write problem as multi-class problem through clustering\n",
    "To define the classes, the last points per trip from the training data will be divided into clusters. When we have a large enough number of clusters, the clusters should be small enough to have their points close to their centroids. \n",
    "\n",
    "K-Means is a good approach as it minimizes the sum of squared distances within the cluster. Also it scales well to a large number of clusters. \n",
    "\n",
    "So the approach then predicts: **Probability of final destination of a trip being located in a specific cluster**\n",
    "\n",
    "Steps:\n",
    "- Get optimal number of clusters with help of interia\n",
    "- Generate clusters with K-Means for each trip in training data\n",
    "- Predict cluster for each trip in testing data\n",
    "- Get centroids for each cluster \n",
    "- Calculate distance from points in cluster to centroid to evaluate"
   ]
  },
  {
   "cell_type": "code",
   "execution_count": 16,
   "id": "1fb99bb0",
   "metadata": {
    "tags": []
   },
   "outputs": [
    {
     "name": "stdout",
     "output_type": "stream",
     "text": [
      "Requirement already satisfied: dask_ml in /home/ec2-user/anaconda3/envs/python3/lib/python3.10/site-packages (2023.3.24)\n",
      "Requirement already satisfied: dask>=2.4.0 in /home/ec2-user/anaconda3/envs/python3/lib/python3.10/site-packages (from dask[array,dataframe]>=2.4.0->dask_ml) (2023.10.0)\n",
      "Requirement already satisfied: distributed>=2.4.0 in /home/ec2-user/anaconda3/envs/python3/lib/python3.10/site-packages (from dask_ml) (2023.10.0)\n",
      "Requirement already satisfied: numba>=0.51.0 in /home/ec2-user/anaconda3/envs/python3/lib/python3.10/site-packages (from dask_ml) (0.57.1)\n",
      "Requirement already satisfied: numpy>=1.20.0 in /home/ec2-user/anaconda3/envs/python3/lib/python3.10/site-packages (from dask_ml) (1.22.4)\n",
      "Requirement already satisfied: pandas>=0.24.2 in /home/ec2-user/anaconda3/envs/python3/lib/python3.10/site-packages (from dask_ml) (2.1.1)\n",
      "Requirement already satisfied: scikit-learn>=1.2.0 in /home/ec2-user/anaconda3/envs/python3/lib/python3.10/site-packages (from dask_ml) (1.3.2)\n",
      "Requirement already satisfied: scipy in /home/ec2-user/anaconda3/envs/python3/lib/python3.10/site-packages (from dask_ml) (1.11.3)\n",
      "Requirement already satisfied: dask-glm>=0.2.0 in /home/ec2-user/anaconda3/envs/python3/lib/python3.10/site-packages (from dask_ml) (0.3.1)\n",
      "Requirement already satisfied: multipledispatch>=0.4.9 in /home/ec2-user/anaconda3/envs/python3/lib/python3.10/site-packages (from dask_ml) (1.0.0)\n",
      "Requirement already satisfied: packaging in /home/ec2-user/anaconda3/envs/python3/lib/python3.10/site-packages (from dask_ml) (21.3)\n",
      "Requirement already satisfied: click>=8.0 in /home/ec2-user/anaconda3/envs/python3/lib/python3.10/site-packages (from dask>=2.4.0->dask[array,dataframe]>=2.4.0->dask_ml) (8.1.7)\n",
      "Requirement already satisfied: cloudpickle>=1.5.0 in /home/ec2-user/anaconda3/envs/python3/lib/python3.10/site-packages (from dask>=2.4.0->dask[array,dataframe]>=2.4.0->dask_ml) (2.2.1)\n",
      "Requirement already satisfied: fsspec>=2021.09.0 in /home/ec2-user/anaconda3/envs/python3/lib/python3.10/site-packages (from dask>=2.4.0->dask[array,dataframe]>=2.4.0->dask_ml) (2023.10.0)\n",
      "Requirement already satisfied: partd>=1.2.0 in /home/ec2-user/anaconda3/envs/python3/lib/python3.10/site-packages (from dask>=2.4.0->dask[array,dataframe]>=2.4.0->dask_ml) (1.4.1)\n",
      "Requirement already satisfied: pyyaml>=5.3.1 in /home/ec2-user/anaconda3/envs/python3/lib/python3.10/site-packages (from dask>=2.4.0->dask[array,dataframe]>=2.4.0->dask_ml) (6.0.1)\n",
      "Requirement already satisfied: toolz>=0.10.0 in /home/ec2-user/anaconda3/envs/python3/lib/python3.10/site-packages (from dask>=2.4.0->dask[array,dataframe]>=2.4.0->dask_ml) (0.12.0)\n",
      "Requirement already satisfied: importlib-metadata>=4.13.0 in /home/ec2-user/anaconda3/envs/python3/lib/python3.10/site-packages (from dask>=2.4.0->dask[array,dataframe]>=2.4.0->dask_ml) (6.8.0)\n",
      "Requirement already satisfied: sparse>=0.7.0 in /home/ec2-user/anaconda3/envs/python3/lib/python3.10/site-packages (from dask-glm>=0.2.0->dask_ml) (0.14.0)\n",
      "Requirement already satisfied: jinja2>=2.10.3 in /home/ec2-user/anaconda3/envs/python3/lib/python3.10/site-packages (from distributed>=2.4.0->dask_ml) (3.1.2)\n",
      "Requirement already satisfied: locket>=1.0.0 in /home/ec2-user/anaconda3/envs/python3/lib/python3.10/site-packages (from distributed>=2.4.0->dask_ml) (1.0.0)\n",
      "Requirement already satisfied: msgpack>=1.0.0 in /home/ec2-user/anaconda3/envs/python3/lib/python3.10/site-packages (from distributed>=2.4.0->dask_ml) (1.0.6)\n",
      "Requirement already satisfied: psutil>=5.7.2 in /home/ec2-user/anaconda3/envs/python3/lib/python3.10/site-packages (from distributed>=2.4.0->dask_ml) (5.9.5)\n",
      "Requirement already satisfied: sortedcontainers>=2.0.5 in /home/ec2-user/anaconda3/envs/python3/lib/python3.10/site-packages (from distributed>=2.4.0->dask_ml) (2.4.0)\n",
      "Requirement already satisfied: tblib>=1.6.0 in /home/ec2-user/anaconda3/envs/python3/lib/python3.10/site-packages (from distributed>=2.4.0->dask_ml) (1.7.0)\n",
      "Requirement already satisfied: tornado>=6.0.4 in /home/ec2-user/anaconda3/envs/python3/lib/python3.10/site-packages (from distributed>=2.4.0->dask_ml) (6.3.3)\n",
      "Requirement already satisfied: urllib3>=1.24.3 in /home/ec2-user/anaconda3/envs/python3/lib/python3.10/site-packages (from distributed>=2.4.0->dask_ml) (1.26.18)\n",
      "Requirement already satisfied: zict>=3.0.0 in /home/ec2-user/anaconda3/envs/python3/lib/python3.10/site-packages (from distributed>=2.4.0->dask_ml) (3.0.0)\n",
      "Requirement already satisfied: llvmlite<0.41,>=0.40.0dev0 in /home/ec2-user/anaconda3/envs/python3/lib/python3.10/site-packages (from numba>=0.51.0->dask_ml) (0.40.1)\n",
      "Requirement already satisfied: pyparsing!=3.0.5,>=2.0.2 in /home/ec2-user/anaconda3/envs/python3/lib/python3.10/site-packages (from packaging->dask_ml) (3.1.1)\n",
      "Requirement already satisfied: python-dateutil>=2.8.2 in /home/ec2-user/anaconda3/envs/python3/lib/python3.10/site-packages (from pandas>=0.24.2->dask_ml) (2.8.2)\n",
      "Requirement already satisfied: pytz>=2020.1 in /home/ec2-user/anaconda3/envs/python3/lib/python3.10/site-packages (from pandas>=0.24.2->dask_ml) (2023.3.post1)\n",
      "Requirement already satisfied: tzdata>=2022.1 in /home/ec2-user/anaconda3/envs/python3/lib/python3.10/site-packages (from pandas>=0.24.2->dask_ml) (2023.3)\n",
      "Requirement already satisfied: joblib>=1.1.1 in /home/ec2-user/anaconda3/envs/python3/lib/python3.10/site-packages (from scikit-learn>=1.2.0->dask_ml) (1.3.2)\n",
      "Requirement already satisfied: threadpoolctl>=2.0.0 in /home/ec2-user/anaconda3/envs/python3/lib/python3.10/site-packages (from scikit-learn>=1.2.0->dask_ml) (3.2.0)\n",
      "Requirement already satisfied: zipp>=0.5 in /home/ec2-user/anaconda3/envs/python3/lib/python3.10/site-packages (from importlib-metadata>=4.13.0->dask>=2.4.0->dask[array,dataframe]>=2.4.0->dask_ml) (3.17.0)\n",
      "Requirement already satisfied: MarkupSafe>=2.0 in /home/ec2-user/anaconda3/envs/python3/lib/python3.10/site-packages (from jinja2>=2.10.3->distributed>=2.4.0->dask_ml) (2.1.3)\n",
      "Requirement already satisfied: six>=1.5 in /home/ec2-user/anaconda3/envs/python3/lib/python3.10/site-packages (from python-dateutil>=2.8.2->pandas>=0.24.2->dask_ml) (1.16.0)\n"
     ]
    }
   ],
   "source": [
    "!pip install dask_ml"
   ]
  },
  {
   "cell_type": "code",
   "execution_count": 17,
   "id": "883f9d2c",
   "metadata": {
    "tags": []
   },
   "outputs": [],
   "source": [
    "import os\n",
    "import sys\n",
    "import pandas as pd\n",
    "import numpy as np\n",
    "import datetime\n",
    "from datetime import datetime\n",
    "import time\n",
    "import json\n",
    "import matplotlib.pyplot as plt\n",
    "import seaborn as sns\n",
    "import sklearn\n",
    "import awswrangler as wr\n",
    "import random"
   ]
  },
  {
   "cell_type": "code",
   "execution_count": 18,
   "id": "aa92e488",
   "metadata": {
    "tags": []
   },
   "outputs": [],
   "source": [
    "from sklearn.cluster import KMeans\n",
    "import dask.array as da\n",
    "from dask_ml import cluster\n",
    "from sklearn.pipeline import Pipeline\n",
    "from sklearn.preprocessing import StandardScaler"
   ]
  },
  {
   "cell_type": "code",
   "execution_count": 19,
   "id": "a5bcafe9-cf0e-4af6-bf4f-acfa8eb14813",
   "metadata": {
    "tags": []
   },
   "outputs": [],
   "source": [
    "utils_path = os.path.join('/home/ec2-user/SageMaker/thinktank_casestudy/src/utils/')\n",
    "pp_path = os.path.join('/home/ec2-user/SageMaker/thinktank_casestudy/src/preprocessing/')\n",
    "\n",
    "sys.path.append(utils_path)\n",
    "sys.path.append(pp_path)"
   ]
  },
  {
   "cell_type": "code",
   "execution_count": 20,
   "id": "a73853fa",
   "metadata": {
    "tags": []
   },
   "outputs": [],
   "source": [
    "from utils import *"
   ]
  },
  {
   "cell_type": "code",
   "execution_count": 21,
   "id": "d612d9e3",
   "metadata": {
    "tags": []
   },
   "outputs": [],
   "source": [
    "train_data = wr.s3.read_parquet('s3://think-tank-casestudy/preprocessed_data/train_data_preprocess.parquet')\n",
    "test_data = wr.s3.read_parquet('s3://think-tank-casestudy/preprocessed_data/test_data_preprocess.parquet')"
   ]
  },
  {
   "cell_type": "code",
   "execution_count": 22,
   "id": "66fb203e",
   "metadata": {
    "tags": []
   },
   "outputs": [],
   "source": [
    "def extract_lat_lon(data, column_):\n",
    "    data[column_+'_LON'] = data[column_].apply(lambda value: value[0])    \n",
    "    data[column_+'_LAT'] = data[column_].apply(lambda value: value[1])\n",
    "    return data"
   ]
  },
  {
   "cell_type": "code",
   "execution_count": 23,
   "id": "c7758bbd",
   "metadata": {
    "tags": []
   },
   "outputs": [],
   "source": [
    "train_data = extract_lat_lon(train_data,'START_POINT')\n",
    "test_data = extract_lat_lon(test_data,'START_POINT')\n",
    "\n",
    "train_data = extract_lat_lon(train_data,'DEST_POINT')\n",
    "test_data = extract_lat_lon(test_data,'DEST_POINT')"
   ]
  },
  {
   "cell_type": "code",
   "execution_count": 41,
   "id": "91865d31",
   "metadata": {
    "scrolled": true,
    "tags": []
   },
   "outputs": [],
   "source": [
    "X = np.vstack(train_data.DEST_POINT)"
   ]
  },
  {
   "cell_type": "code",
   "execution_count": 35,
   "id": "236e3081",
   "metadata": {
    "tags": []
   },
   "outputs": [],
   "source": [
    "#transform destintion point to dask format\n",
    "X_da = da.from_array(X)"
   ]
  },
  {
   "cell_type": "code",
   "execution_count": 42,
   "id": "6e97994f-5c42-4772-883a-d83e496b2934",
   "metadata": {
    "tags": []
   },
   "outputs": [],
   "source": [
    "X = pd.DataFrame(X, columns=['LAT', 'LON'])"
   ]
  },
  {
   "cell_type": "code",
   "execution_count": 43,
   "id": "baaf2db5-00bb-4dcb-89b4-139077e54809",
   "metadata": {
    "tags": []
   },
   "outputs": [
    {
     "data": {
      "text/html": [
       "<div>\n",
       "<style scoped>\n",
       "    .dataframe tbody tr th:only-of-type {\n",
       "        vertical-align: middle;\n",
       "    }\n",
       "\n",
       "    .dataframe tbody tr th {\n",
       "        vertical-align: top;\n",
       "    }\n",
       "\n",
       "    .dataframe thead th {\n",
       "        text-align: right;\n",
       "    }\n",
       "</style>\n",
       "<table border=\"1\" class=\"dataframe\">\n",
       "  <thead>\n",
       "    <tr style=\"text-align: right;\">\n",
       "      <th></th>\n",
       "      <th>LAT</th>\n",
       "      <th>LON</th>\n",
       "    </tr>\n",
       "  </thead>\n",
       "  <tbody>\n",
       "    <tr>\n",
       "      <th>0</th>\n",
       "      <td>-8.630838</td>\n",
       "      <td>41.154489</td>\n",
       "    </tr>\n",
       "    <tr>\n",
       "      <th>1</th>\n",
       "      <td>-8.665740</td>\n",
       "      <td>41.170671</td>\n",
       "    </tr>\n",
       "    <tr>\n",
       "      <th>2</th>\n",
       "      <td>-8.615970</td>\n",
       "      <td>41.140530</td>\n",
       "    </tr>\n",
       "    <tr>\n",
       "      <th>3</th>\n",
       "      <td>-8.607996</td>\n",
       "      <td>41.142915</td>\n",
       "    </tr>\n",
       "    <tr>\n",
       "      <th>4</th>\n",
       "      <td>-8.687268</td>\n",
       "      <td>41.178087</td>\n",
       "    </tr>\n",
       "    <tr>\n",
       "      <th>...</th>\n",
       "      <td>...</td>\n",
       "      <td>...</td>\n",
       "    </tr>\n",
       "    <tr>\n",
       "      <th>1371130</th>\n",
       "      <td>-8.611713</td>\n",
       "      <td>41.171004</td>\n",
       "    </tr>\n",
       "    <tr>\n",
       "      <th>1371131</th>\n",
       "      <td>-8.611344</td>\n",
       "      <td>41.171013</td>\n",
       "    </tr>\n",
       "    <tr>\n",
       "      <th>1371132</th>\n",
       "      <td>-8.627454</td>\n",
       "      <td>41.158755</td>\n",
       "    </tr>\n",
       "    <tr>\n",
       "      <th>1371133</th>\n",
       "      <td>-8.587026</td>\n",
       "      <td>41.173524</td>\n",
       "    </tr>\n",
       "    <tr>\n",
       "      <th>1371134</th>\n",
       "      <td>-8.620893</td>\n",
       "      <td>41.149881</td>\n",
       "    </tr>\n",
       "  </tbody>\n",
       "</table>\n",
       "<p>1371135 rows × 2 columns</p>\n",
       "</div>"
      ],
      "text/plain": [
       "              LAT        LON\n",
       "0       -8.630838  41.154489\n",
       "1       -8.665740  41.170671\n",
       "2       -8.615970  41.140530\n",
       "3       -8.607996  41.142915\n",
       "4       -8.687268  41.178087\n",
       "...           ...        ...\n",
       "1371130 -8.611713  41.171004\n",
       "1371131 -8.611344  41.171013\n",
       "1371132 -8.627454  41.158755\n",
       "1371133 -8.587026  41.173524\n",
       "1371134 -8.620893  41.149881\n",
       "\n",
       "[1371135 rows x 2 columns]"
      ]
     },
     "execution_count": 43,
     "metadata": {},
     "output_type": "execute_result"
    }
   ],
   "source": [
    "X"
   ]
  },
  {
   "cell_type": "code",
   "execution_count": 47,
   "id": "9a745a54",
   "metadata": {
    "tags": []
   },
   "outputs": [],
   "source": [
    "pipe = Pipeline([('scaler', StandardScaler()), \n",
    "                 ('clustering', KMeans(n_clusters = 4000,init ='k-means++', n_init = 1, verbose=True,random_state=1))])"
   ]
  },
  {
   "cell_type": "code",
   "execution_count": 48,
   "id": "e5e134c3",
   "metadata": {
    "tags": []
   },
   "outputs": [],
   "source": [
    "random.seed(5)"
   ]
  },
  {
   "cell_type": "code",
   "execution_count": 28,
   "id": "67014015",
   "metadata": {
    "tags": []
   },
   "outputs": [],
   "source": [
    "#inertia_per_k = [(k, KMeans(n_clusters=k, init='k-means++', verbose=True, random_state=1).fit(X_da).inertia_)\n",
    "#  for k in range(1000,5000,1000)]"
   ]
  },
  {
   "cell_type": "code",
   "execution_count": 29,
   "id": "bcd94415",
   "metadata": {},
   "outputs": [],
   "source": [
    "#inertia_per_k"
   ]
  },
  {
   "cell_type": "markdown",
   "id": "69f2fd79",
   "metadata": {},
   "source": [
    "- Inertia/sum of squared distance shows still significant reduction for 4000 clusters, therefore choose n_clusters = 4000\n",
    "- Due to high execution time more iterations are not considered"
   ]
  },
  {
   "cell_type": "code",
   "execution_count": 49,
   "id": "1971b746",
   "metadata": {
    "scrolled": true,
    "tags": []
   },
   "outputs": [
    {
     "name": "stderr",
     "output_type": "stream",
     "text": [
      "/home/ec2-user/anaconda3/envs/python3/lib/python3.10/site-packages/dask/array/core.py:1712: FutureWarning: The `numpy.may_share_memory` function is not implemented by Dask array. You may want to use the da.map_blocks function or something similar to silence this warning. Your code may stop working in a future release.\n",
      "  warnings.warn(\n"
     ]
    },
    {
     "name": "stdout",
     "output_type": "stream",
     "text": [
      "Initialization complete\n",
      "Iteration 0, inertia 548.5433659924788.\n",
      "Iteration 1, inertia 455.5509319150276.\n",
      "Iteration 2, inertia 441.4589416753229.\n",
      "Iteration 3, inertia 435.74956665087313.\n",
      "Iteration 4, inertia 432.5476963884231.\n",
      "Iteration 5, inertia 430.35455517226444.\n",
      "Iteration 6, inertia 428.83351532189045.\n",
      "Iteration 7, inertia 427.82663665912065.\n",
      "Iteration 8, inertia 427.0414523395923.\n",
      "Iteration 9, inertia 426.4170854620296.\n",
      "Iteration 10, inertia 425.98162526739185.\n",
      "Iteration 11, inertia 425.64023984280135.\n",
      "Iteration 12, inertia 425.3883474822001.\n",
      "Iteration 13, inertia 425.17197197390783.\n",
      "Iteration 14, inertia 424.98951700417706.\n",
      "Iteration 15, inertia 424.82573081771653.\n",
      "Iteration 16, inertia 424.64345479443097.\n",
      "Iteration 17, inertia 424.4287177467577.\n",
      "Iteration 18, inertia 424.2294680060612.\n",
      "Iteration 19, inertia 424.04677327233946.\n",
      "Iteration 20, inertia 423.8905794791589.\n",
      "Iteration 21, inertia 423.75548055900515.\n",
      "Iteration 22, inertia 423.6533150361518.\n",
      "Iteration 23, inertia 423.57514261638477.\n",
      "Iteration 24, inertia 423.48715569987155.\n",
      "Iteration 25, inertia 423.38577139360405.\n",
      "Iteration 26, inertia 423.2954615596904.\n",
      "Iteration 27, inertia 423.2284453855817.\n",
      "Converged at iteration 27: center shift 8.865389855417744e-05 within tolerance 0.00010000000000001269.\n"
     ]
    }
   ],
   "source": [
    "X['cluster_label'] = pipe.fit_predict(X_da)\n",
    "centers_scaled = pipe[1].cluster_centers_ "
   ]
  },
  {
   "cell_type": "code",
   "execution_count": null,
   "id": "bc1b8546",
   "metadata": {
    "tags": []
   },
   "outputs": [],
   "source": [
    "centers = pipe[0].inverse_transform(centers_scaled)"
   ]
  },
  {
   "cell_type": "code",
   "execution_count": 77,
   "id": "4f297593",
   "metadata": {},
   "outputs": [],
   "source": [
    "centers = pd.DataFrame(centers, columns=['CENTER_LON','CENTER_LAT'])"
   ]
  },
  {
   "cell_type": "code",
   "execution_count": 92,
   "id": "966d4aa2",
   "metadata": {},
   "outputs": [],
   "source": [
    "centers = centers.reset_index()"
   ]
  },
  {
   "cell_type": "code",
   "execution_count": 78,
   "id": "1accd1d2",
   "metadata": {},
   "outputs": [
    {
     "data": {
      "image/png": "[encoded data removed]",
      "text/plain": [
       "<Figure size 432x288 with 1 Axes>"
      ]
     },
     "metadata": {
      "needs_background": "light"
     },
     "output_type": "display_data"
    }
   ],
   "source": [
    "plt.hist(X.cluster_label)\n",
    "plt.show()"
   ]
  },
  {
   "cell_type": "code",
   "execution_count": 87,
   "id": "3e6e0fdf",
   "metadata": {
    "scrolled": true
   },
   "outputs": [
    {
     "name": "stderr",
     "output_type": "stream",
     "text": [
      "/Users/julia.hehl/opt/anaconda3/lib/python3.9/site-packages/dask/array/core.py:1638: FutureWarning: The `numpy.may_share_memory` function is not implemented by Dask array. You may want to use the da.map_blocks function or something similar to silence this warning. Your code may stop working in a future release.\n",
      "  warnings.warn(\n",
      "/var/folders/98/blj_ctsx7kj90yq1wpxpkthh0000gn/T/ipykernel_28630/1233280834.py:3: SettingWithCopyWarning: \n",
      "A value is trying to be set on a copy of a slice from a DataFrame.\n",
      "Try using .loc[row_indexer,col_indexer] = value instead\n",
      "\n",
      "See the caveats in the documentation: https://pandas.pydata.org/pandas-docs/stable/user_guide/indexing.html#returning-a-view-versus-a-copy\n",
      "  X_test['CLUSTER_LABEL'] = pipe.predict(X_da_test)\n"
     ]
    }
   ],
   "source": [
    "X_test = test_data[test_data.columns[-3:-1]]\n",
    "X_da_test = da.from_array(np.array(X_test))\n",
    "X_test['CLUSTER_LABEL'] = pipe.predict(X_da_test)"
   ]
  },
  {
   "cell_type": "code",
   "execution_count": 97,
   "id": "10ac51df",
   "metadata": {},
   "outputs": [],
   "source": [
    "train_data['CLUSTER_LABEL'] = X['cluster_label']\n",
    "test_data['CLUSTER_LABEL'] = X_test['CLUSTER_LABEL']\n",
    "\n",
    "test_data = pd.merge(test_data, centers[['index','CENTER_LON','CENTER_LAT']], \n",
    "                           how='left', \n",
    "                           left_on='CLUSTER_LABEL',\n",
    "                           right_on='index')\n",
    "train_data = pd.merge(train_data, centers[['index','CENTER_LON','CENTER_LAT']], \n",
    "                           how='left', \n",
    "                           left_on='CLUSTER_LABEL',\n",
    "                           right_on='index')"
   ]
  },
  {
   "cell_type": "code",
   "execution_count": 99,
   "id": "9833cad9",
   "metadata": {},
   "outputs": [],
   "source": [
    "n_cluster = train_data.CLUSTER_LABEL.nunique()"
   ]
  },
  {
   "cell_type": "code",
   "execution_count": 101,
   "id": "7bfaf635",
   "metadata": {},
   "outputs": [
    {
     "data": {
      "text/plain": [
       "{'paths': ['s3://think-tank-casestudy/preprocessed_data/n_cluster_4000/test_data_clustered.parquet'],\n",
       " 'partitions_values': {}}"
      ]
     },
     "execution_count": 101,
     "metadata": {},
     "output_type": "execute_result"
    }
   ],
   "source": [
    "wr.s3.to_parquet(df=train_data, path=f's3://think-tank-casestudy/preprocessed_data/n_cluster_{n_cluster}/train_data_clustered.parquet')\n",
    "wr.s3.to_parquet(df=test_data, path=f's3://think-tank-casestudy/preprocessed_data/n_cluster_{n_cluster}/test_data_clustered.parquet')"
   ]
  }
 ],
 "metadata": {
  "kernelspec": {
   "display_name": "conda_python3",
   "language": "python",
   "name": "conda_python3"
  },
  "language_info": {
   "codemirror_mode": {
    "name": "ipython",
    "version": 3
   },
   "file_extension": ".py",
   "mimetype": "text/x-python",
   "name": "python",
   "nbconvert_exporter": "python",
   "pygments_lexer": "ipython3",
   "version": "3.10.13"
  }
 },
 "nbformat": 4,
 "nbformat_minor": 5
}
