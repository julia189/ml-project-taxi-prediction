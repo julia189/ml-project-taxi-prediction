{
 "cells": [
  {
   "cell_type": "code",
   "execution_count": 1,
   "id": "deadc33d",
   "metadata": {
    "tags": []
   },
   "outputs": [
    {
     "name": "stderr",
     "output_type": "stream",
     "text": [
      "/home/ec2-user/anaconda3/envs/python3/lib/python3.10/site-packages/pandas/core/computation/expressions.py:21: UserWarning: Pandas requires version '2.8.0' or newer of 'numexpr' (version '2.7.3' currently installed).\n",
      "  from pandas.core.computation.check import NUMEXPR_INSTALLED\n"
     ]
    }
   ],
   "source": [
    "import os, sys\n",
    "import pandas as pd\n",
    "import numpy as np\n",
    "import datetime\n",
    "from datetime import datetime\n",
    "import time\n",
    "import json\n",
    "import matplotlib.pyplot as plt\n",
    "import seaborn as sns\n",
    "import sklearn\n",
    "import awswrangler as wr"
   ]
  },
  {
   "cell_type": "code",
   "execution_count": 2,
   "id": "8dd03332-5d78-4c77-8f88-c69543ec1356",
   "metadata": {
    "tags": []
   },
   "outputs": [],
   "source": [
    "utils_path = os.path.join('/home/ec2-user/SageMaker/thinktank_casestudy/src/utils/')\n",
    "pp_path = os.path.join('/home/ec2-user/SageMaker/thinktank_casestudy/src/preprocessing/')\n",
    "\n",
    "sys.path.append(utils_path)\n",
    "sys.path.append(pp_path)"
   ]
  },
  {
   "cell_type": "code",
   "execution_count": 3,
   "id": "98e57095",
   "metadata": {
    "tags": []
   },
   "outputs": [
    {
     "name": "stdout",
     "output_type": "stream",
     "text": [
      "sagemaker.config INFO - Not applying SDK defaults from location: /etc/xdg/sagemaker/config.yaml\n",
      "sagemaker.config INFO - Not applying SDK defaults from location: /home/ec2-user/.config/sagemaker/config.yaml\n"
     ]
    }
   ],
   "source": [
    "import preprocessing\n",
    "import utils"
   ]
  },
  {
   "cell_type": "code",
   "execution_count": 4,
   "id": "362f3e44",
   "metadata": {
    "tags": []
   },
   "outputs": [],
   "source": [
    "prefix_path = 's3://think-tank-casestudy/preprocessed_data'"
   ]
  },
  {
   "cell_type": "code",
   "execution_count": 5,
   "id": "c03c4c04",
   "metadata": {
    "tags": []
   },
   "outputs": [],
   "source": [
    "n_cluster = 4000"
   ]
  },
  {
   "cell_type": "code",
   "execution_count": 6,
   "id": "197a6d59",
   "metadata": {
    "tags": []
   },
   "outputs": [],
   "source": [
    "train_data = wr.s3.read_parquet(path=f'{prefix_path}/n_cluster_{n_cluster}/train_data_clustered.parquet')\n",
    "test_data = wr.s3.read_parquet(path=f'{prefix_path}/n_cluster_{n_cluster}/test_data_clustered.parquet')"
   ]
  },
  {
   "cell_type": "markdown",
   "id": "b735b886",
   "metadata": {},
   "source": [
    "- CALL TYPE -> ONE_HOT ENCODING, no ordinal relationship\n",
    "- WEATHER --> ONE HOT ENCODING, no ordinal relationship\n",
    "- ORIGIN STAND --> Reduction of High cardinality + ONE HOT ENCODING\n",
    "- MONTH/WEEK per year --> ONE HOT ENCODING or ORDINAL ENCODING"
   ]
  },
  {
   "cell_type": "code",
   "execution_count": 7,
   "id": "0b781e40",
   "metadata": {
    "tags": []
   },
   "outputs": [],
   "source": [
    "train_data = utils.extend_timestamps(train_data)\n",
    "test_data = utils.extend_timestamps(test_data)"
   ]
  },
  {
   "cell_type": "code",
   "execution_count": 8,
   "id": "0bea9d7e",
   "metadata": {
    "tags": []
   },
   "outputs": [],
   "source": [
    "train_data = utils.reduce_high_cardinality(train_data, ['ORIGIN_STAND'])\n",
    "test_data = utils.reduce_high_cardinality(test_data, ['ORIGIN_STAND'])"
   ]
  },
  {
   "cell_type": "code",
   "execution_count": 9,
   "id": "9190b8c5",
   "metadata": {
    "tags": []
   },
   "outputs": [],
   "source": [
    "categories_oh = ['CALL_TYPE','WEATHER','ORIGIN_STAND_agg','YEAR_MONTH']"
   ]
  },
  {
   "cell_type": "code",
   "execution_count": 10,
   "id": "8a964291",
   "metadata": {
    "tags": []
   },
   "outputs": [],
   "source": [
    "df_fenc_oh = utils.feature_encoding_oh(train_data, categories_oh)\n",
    "train_data = pd.concat([train_data, df_fenc_oh],axis=1)"
   ]
  },
  {
   "cell_type": "code",
   "execution_count": 11,
   "id": "62eb000d",
   "metadata": {
    "tags": []
   },
   "outputs": [],
   "source": [
    "df_fenc_oh = utils.feature_encoding_oh(test_data, categories_oh)\n",
    "test_data = pd.concat([test_data, df_fenc_oh],axis=1)"
   ]
  },
  {
   "cell_type": "code",
   "execution_count": 12,
   "id": "ef1fcabc",
   "metadata": {
    "tags": []
   },
   "outputs": [],
   "source": [
    "test_data, train_data = utils.add_binary_features(train_data, test_data)"
   ]
  },
  {
   "cell_type": "code",
   "execution_count": 13,
   "id": "668ab230",
   "metadata": {
    "tags": []
   },
   "outputs": [],
   "source": [
    "assert(train_data.shape[1] == test_data.shape[1])"
   ]
  },
  {
   "cell_type": "code",
   "execution_count": 14,
   "id": "121bd319",
   "metadata": {
    "tags": []
   },
   "outputs": [],
   "source": [
    "non_features = ['CALL_TYPE','ORIGIN_CALL','ORIGIN_STAND', 'START_POINT','DEST_POINT',\n",
    "                'TIMESTAMP_MONTH','TIMESTAMP_DAY','TIMESTAMP_WEEK','TIMESTAMP_YEAR','YEAR_MONTH','ORIGIN_STAND_agg',\n",
    "               'MISSING_DATA','POLYLINE','WEATHER','TAXI_ID','TIMESTAMP_DT','TIMESTAMP']"
   ]
  },
  {
   "cell_type": "code",
   "execution_count": 15,
   "id": "0f4fcda7",
   "metadata": {
    "scrolled": true,
    "tags": []
   },
   "outputs": [],
   "source": [
    "train_data = train_data[[column_ for column_ in train_data.columns if column_ not in non_features]]\n",
    "test_data = test_data[[column_ for column_ in train_data.columns if column_ not in non_features]]"
   ]
  },
  {
   "cell_type": "code",
   "execution_count": 16,
   "id": "3bd3bb13",
   "metadata": {
    "tags": []
   },
   "outputs": [],
   "source": [
    "n_cluster =train_data.CLUSTER_LABEL.nunique()"
   ]
  },
  {
   "cell_type": "code",
   "execution_count": 17,
   "id": "0b3685bb",
   "metadata": {
    "scrolled": true,
    "tags": []
   },
   "outputs": [
    {
     "data": {
      "text/plain": [
       "{'paths': ['s3://think-tank-casestudy/features_engineered/n_cluster_4000/feature_engineered_test.parquet'],\n",
       " 'partitions_values': {}}"
      ]
     },
     "execution_count": 17,
     "metadata": {},
     "output_type": "execute_result"
    }
   ],
   "source": [
    "wr.s3.to_parquet(df=train_data, index=train_data.index, path=f's3://think-tank-casestudy/features_engineered/n_cluster_{n_cluster}/feature_engineered_train.parquet')\n",
    "wr.s3.to_parquet(df=test_data, index=test_data.index, path=f's3://think-tank-casestudy/features_engineered/n_cluster_{n_cluster}/feature_engineered_test.parquet')"
   ]
  }
 ],
 "metadata": {
  "kernelspec": {
   "display_name": "conda_python3",
   "language": "python",
   "name": "conda_python3"
  },
  "language_info": {
   "codemirror_mode": {
    "name": "ipython",
    "version": 3
   },
   "file_extension": ".py",
   "mimetype": "text/x-python",
   "name": "python",
   "nbconvert_exporter": "python",
   "pygments_lexer": "ipython3",
   "version": "3.10.13"
  }
 },
 "nbformat": 4,
 "nbformat_minor": 5
}
