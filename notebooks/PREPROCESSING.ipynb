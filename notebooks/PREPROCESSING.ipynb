{
 "cells": [
  {
   "cell_type": "markdown",
   "id": "f83d6a38",
   "metadata": {},
   "source": [
    "### 0.1 Case Study\n",
    "\n",
    "#### Scenario\n",
    "At BMW, we reimagine the future of mobility. Lets fast forward to 2030, and flying taxis are roaming above our cities, bringing people to\n",
    "their desired destination. You work for, Duoro Hawk a company that is pioneering the world's first large fleet of fully electric, self-piloting\n",
    "autonomous flying taxis. The company wants to deploy the first network of autonomous air taxis in the coming year. As part of our data\n",
    "science and enginering team, you are responsible for predicting the destination of our fleet of autonomous flying taxis based on the\n",
    "manned test flights that have been performed.\n",
    "\n",
    "#### About the Dataset\n",
    "A fictional dataset describing a complete year (from 01/07/2014 to 30/06/2014) of all the trajectories for all 442 of our flying taxis that\n",
    "were simulated in the city of Porto. Our autonomous fleet of taxis fly from a central ground station\n",
    "• There are three different types of rides: A) phone call-based, B) stand-based where people wait at a stand for their flying taxi or C) \n",
    "random place. For type A, we provide an anonymized ID, to represent the telephone call. Categories B and C refers to cases where the\n",
    "taxis were directly called by the customer.\n",
    "\n",
    "#### Dataset\n",
    "##### train.csv\n",
    "Each data sample corresponds to one completed trip. It contains a total of 9 (nine) features, described as follows:\n",
    "\n",
    "- TRIP_ID: (String) It contains an unique identifier for each trip;\n",
    "\n",
    "- CALL_TYPE: (char) It identifies the way used to demand this service. It may contain one of three possible values:\n",
    "     - ‘A’ if this trip was dispatched from the central;\n",
    "     - ‘B’ if this trip was demanded directly to a taxi driver on a specific stand;\n",
    "     - ‘C’ otherwise (i.e. a trip demanded on a random street).\n",
    "     \n",
    "- ORIGIN_CALL: (integer) It contains an unique identifier for each phone number which was used to demand, at least, one service. It identifies the trip’s customer if CALLTYPE=’A’. Otherwise, it assumes a NULL value;\n",
    "\n",
    "- ORIGINSTAND: (integer): It contains an unique identifier for the taxi stand. It identifies the starting point of the trip if CALLTYPE=’B’. Otherwise, it assumes a NULL value;\n",
    "\n",
    "- WEATHER: (String): Information on the weather that day, unique values include: Sunny, Rainy, Cloudy, Windy, and Foggy\n",
    "- TAXI_ID: (integer): It contains an unique identifier for the flying taxi that performed each trip;\n",
    "- TIMESTAMP: (integer) Unix Timestamp (in seconds). It identifies the trip’s start;\n",
    "- MISSING_DATA: (Boolean) It is FALSE when the GPS data stream is complete and TRUE whenever one (or more) locations are missing\n",
    "- POLYLINE: (String): It contains a list of GPS coordinates (i.e. WGS84 format) mapped as a string. The beginning and the end of the string are identified with brackets (i.e. [ and ], respectively). Each pair of coordinates is also identified by the same brackets as\n",
    "- [LONGITUDE, LATITUDE]. This list contains one pair of coordinates for each 15 seconds of trip. The last list item corresponds to the trip’s destination while the first one represents its start\n",
    "\n",
    "\n",
    "##### test.csv\n",
    "Personal records for the remaining one-third (~110) of the trips, to be used as test data. Your task is to predict the value of coordinates of the trip‘s destination\n",
    "\n",
    "##### sample_submission.csv \n",
    "A submission file in the correct format.\n",
    "- TripId - Id for each Tip in the test set\n",
    "- Longitude - the longitude of the destination of the flying taxi\n",
    "- Latitude – the latitude of the destination of the flying taxi\n",
    "\n",
    "The total travel time of the trip (the prediction target of this competition) is defined as the (number of points-1) x 15 seconds. For example, a trip with 101 data points in POLYLINE has a length of (101-1) * 15 = 1500 seconds. Some trips have missing data points in POLYLINE, indicated by MISSING_DATA column, and it is part of the challenge how you utilize this knowledge."
   ]
  },
  {
   "cell_type": "markdown",
   "id": "6c11c59d",
   "metadata": {},
   "source": [
    "### Imports"
   ]
  },
  {
   "cell_type": "code",
   "execution_count": 57,
   "id": "94ce6436-3233-4994-9e06-543f81293c7d",
   "metadata": {
    "collapsed": true,
    "jupyter": {
     "outputs_hidden": true
    },
    "tags": []
   },
   "outputs": [
    {
     "name": "stdout",
     "output_type": "stream",
     "text": [
      "Requirement already satisfied: awswrangler in /home/ec2-user/anaconda3/envs/python3/lib/python3.10/site-packages (3.4.2)\n",
      "Requirement already satisfied: geojson in /home/ec2-user/anaconda3/envs/python3/lib/python3.10/site-packages (3.1.0)\n",
      "Requirement already satisfied: scikit-learn in /home/ec2-user/anaconda3/envs/python3/lib/python3.10/site-packages (1.3.2)\n",
      "Collecting shapely\n",
      "\u001b[33m  WARNING: Retrying (Retry(total=4, connect=None, read=None, redirect=None, status=None)) after connection broken by 'NewConnectionError('<pip._vendor.urllib3.connection.HTTPSConnection object at 0x7f6a3d8cd150>: Failed to establish a new connection: [Errno 101] Network is unreachable')': /packages/99/e9/a996a080d8478f4ab5ea82f64a5f39aaa8e05c99c2703e0ee03ec8c9e924/shapely-2.0.2-cp310-cp310-manylinux_2_17_x86_64.manylinux2014_x86_64.whl.metadata\u001b[0m\u001b[33m\n",
      "\u001b[0m  Downloading shapely-2.0.2-cp310-cp310-manylinux_2_17_x86_64.manylinux2014_x86_64.whl.metadata (7.0 kB)\n",
      "Requirement already satisfied: boto3<2.0.0,>=1.20.32 in /home/ec2-user/anaconda3/envs/python3/lib/python3.10/site-packages (from awswrangler) (1.28.80)\n",
      "Requirement already satisfied: botocore<2.0.0,>=1.23.32 in /home/ec2-user/anaconda3/envs/python3/lib/python3.10/site-packages (from awswrangler) (1.31.80)\n",
      "Requirement already satisfied: numpy<2.0,>=1.18 in /home/ec2-user/anaconda3/envs/python3/lib/python3.10/site-packages (from awswrangler) (1.22.4)\n",
      "Requirement already satisfied: packaging<24.0,>=21.1 in /home/ec2-user/anaconda3/envs/python3/lib/python3.10/site-packages (from awswrangler) (21.3)\n",
      "Requirement already satisfied: pandas<3.0.0,>=1.2.0 in /home/ec2-user/anaconda3/envs/python3/lib/python3.10/site-packages (from awswrangler) (2.1.1)\n",
      "Requirement already satisfied: pyarrow>=7.0.0 in /home/ec2-user/anaconda3/envs/python3/lib/python3.10/site-packages (from awswrangler) (13.0.0)\n",
      "Requirement already satisfied: typing-extensions<5.0.0,>=4.4.0 in /home/ec2-user/anaconda3/envs/python3/lib/python3.10/site-packages (from awswrangler) (4.8.0)\n",
      "Requirement already satisfied: scipy>=1.5.0 in /home/ec2-user/anaconda3/envs/python3/lib/python3.10/site-packages (from scikit-learn) (1.11.3)\n",
      "Requirement already satisfied: joblib>=1.1.1 in /home/ec2-user/anaconda3/envs/python3/lib/python3.10/site-packages (from scikit-learn) (1.3.2)\n",
      "Requirement already satisfied: threadpoolctl>=2.0.0 in /home/ec2-user/anaconda3/envs/python3/lib/python3.10/site-packages (from scikit-learn) (3.2.0)\n",
      "Requirement already satisfied: jmespath<2.0.0,>=0.7.1 in /home/ec2-user/anaconda3/envs/python3/lib/python3.10/site-packages (from boto3<2.0.0,>=1.20.32->awswrangler) (1.0.1)\n",
      "Requirement already satisfied: s3transfer<0.8.0,>=0.7.0 in /home/ec2-user/anaconda3/envs/python3/lib/python3.10/site-packages (from boto3<2.0.0,>=1.20.32->awswrangler) (0.7.0)\n",
      "Requirement already satisfied: python-dateutil<3.0.0,>=2.1 in /home/ec2-user/anaconda3/envs/python3/lib/python3.10/site-packages (from botocore<2.0.0,>=1.23.32->awswrangler) (2.8.2)\n",
      "Requirement already satisfied: urllib3<2.1,>=1.25.4 in /home/ec2-user/anaconda3/envs/python3/lib/python3.10/site-packages (from botocore<2.0.0,>=1.23.32->awswrangler) (1.26.18)\n",
      "Requirement already satisfied: pyparsing!=3.0.5,>=2.0.2 in /home/ec2-user/anaconda3/envs/python3/lib/python3.10/site-packages (from packaging<24.0,>=21.1->awswrangler) (3.1.1)\n",
      "Requirement already satisfied: pytz>=2020.1 in /home/ec2-user/anaconda3/envs/python3/lib/python3.10/site-packages (from pandas<3.0.0,>=1.2.0->awswrangler) (2023.3.post1)\n",
      "Requirement already satisfied: tzdata>=2022.1 in /home/ec2-user/anaconda3/envs/python3/lib/python3.10/site-packages (from pandas<3.0.0,>=1.2.0->awswrangler) (2023.3)\n",
      "Requirement already satisfied: six>=1.5 in /home/ec2-user/anaconda3/envs/python3/lib/python3.10/site-packages (from python-dateutil<3.0.0,>=2.1->botocore<2.0.0,>=1.23.32->awswrangler) (1.16.0)\n",
      "Downloading shapely-2.0.2-cp310-cp310-manylinux_2_17_x86_64.manylinux2014_x86_64.whl (2.5 MB)\n",
      "\u001b[2K   \u001b[90m━━━━━━━━━━━━━━━━━━━━━━━━━━━━━━━━━━━━━━━━\u001b[0m \u001b[32m2.5/2.5 MB\u001b[0m \u001b[31m146.0 kB/s\u001b[0m eta \u001b[36m0:00:00\u001b[0m00:01\u001b[0m00:01\u001b[0m\n",
      "\u001b[?25hInstalling collected packages: shapely\n",
      "Successfully installed shapely-2.0.2\n",
      "Note: you may need to restart the kernel to use updated packages.\n"
     ]
    }
   ],
   "source": [
    "%pip install awswrangler geojson scikit-learn shapely"
   ]
  },
  {
   "cell_type": "code",
   "execution_count": 111,
   "id": "fc49bb0d-54f4-4b27-ba92-197b9f9245b7",
   "metadata": {
    "tags": []
   },
   "outputs": [],
   "source": [
    "import os\n",
    "import sys\n",
    "import pandas as pd\n",
    "import numpy as np\n",
    "import datetime\n",
    "from datetime import datetime\n",
    "import time\n",
    "import json\n",
    "import awswrangler as aw\n",
    "import geojson\n",
    "from shapely import geometry\n",
    "import matplotlib.pyplot as plt\n",
    "import seaborn as sns"
   ]
  },
  {
   "cell_type": "code",
   "execution_count": 28,
   "id": "55465a0a",
   "metadata": {
    "tags": []
   },
   "outputs": [],
   "source": [
    "is_sagemaker_notebook = True"
   ]
  },
  {
   "cell_type": "code",
   "execution_count": 29,
   "id": "e9ca2c20-80e5-417a-898f-f655838fc693",
   "metadata": {
    "tags": []
   },
   "outputs": [],
   "source": [
    "if is_sagemaker_notebook:\n",
    "    prefix = \"/home/ec2-user/SageMaker\"\n",
    "else:\n",
    "    prefix = \"/Users/Q619505/PycharmProjects\"\n",
    "\n",
    "utils_path = os.path.join(f'{prefix}/ml-project-taxi-prediction/src/utils/')\n",
    "pp_path = os.path.join(f'{prefix}/ml-project-taxi-prediction/src/preprocessing/')\n",
    "\n",
    "if utils_path not in sys.path:\n",
    "    sys.path.append(utils_path)\n",
    "\n",
    "if pp_path not in sys.path:\n",
    "    sys.path.append(pp_path)"
   ]
  },
  {
   "cell_type": "code",
   "execution_count": 85,
   "id": "b58a018a-1467-48fa-a9ad-975d7935f9b2",
   "metadata": {
    "scrolled": true,
    "tags": []
   },
   "outputs": [
    {
     "ename": "ImportError",
     "evalue": "cannot import name 'calculate_polyline_features' from 'geo_spatial' (/home/ec2-user/SageMaker/ml-project-taxi-prediction/src/preprocessing/geo_spatial.py)",
     "output_type": "error",
     "traceback": [
      "\u001b[0;31m---------------------------------------------------------------------------\u001b[0m",
      "\u001b[0;31mImportError\u001b[0m                               Traceback (most recent call last)",
      "Cell \u001b[0;32mIn[85], line 2\u001b[0m\n\u001b[1;32m      1\u001b[0m \u001b[38;5;66;03m#from utils import convert_datatypes\u001b[39;00m\n\u001b[0;32m----> 2\u001b[0m \u001b[38;5;28;01mfrom\u001b[39;00m \u001b[38;5;21;01mgeo_spatial\u001b[39;00m \u001b[38;5;28;01mimport\u001b[39;00m convert_polyline_to_geojson_format, calculate_polyline_features, haversine_distance, calculate_total_distance\n\u001b[1;32m      3\u001b[0m \u001b[38;5;28;01mfrom\u001b[39;00m \u001b[38;5;21;01mdata_cleaning\u001b[39;00m \u001b[38;5;28;01mimport\u001b[39;00m filter_invalid_trips\n",
      "\u001b[0;31mImportError\u001b[0m: cannot import name 'calculate_polyline_features' from 'geo_spatial' (/home/ec2-user/SageMaker/ml-project-taxi-prediction/src/preprocessing/geo_spatial.py)"
     ]
    }
   ],
   "source": [
    "#from utils import convert_datatypes\n",
    "from geo_spatial import convert_polyline_to_geojson_format, calculate_polyline_features, haversine_distance, calculate_total_distance\n",
    "from data_cleaning import filter_invalid_trips"
   ]
  },
  {
   "cell_type": "markdown",
   "id": "ac948fb9",
   "metadata": {},
   "source": [
    "### Load Data"
   ]
  },
  {
   "cell_type": "code",
   "execution_count": 31,
   "id": "34ffaf14-9691-42eb-9fef-da502c836a63",
   "metadata": {
    "tags": []
   },
   "outputs": [],
   "source": [
    "train_data = pd.read_parquet('s3://think-tank-casestudy/train_df.parquet')\n",
    "test_data = pd.read_parquet('s3://think-tank-casestudy/test_df.parquet')"
   ]
  },
  {
   "cell_type": "markdown",
   "id": "9b5f8a89-5dfe-4691-a369-f8de9d455d6e",
   "metadata": {},
   "source": [
    "#### Dropping unuseful columns \n",
    "- **Unnamed: 0** column is default index and not appropriately named\n",
    "- **DAY_TYPE** column is deterministic, therefore will not add any value/information gain to an ML approach"
   ]
  },
  {
   "cell_type": "code",
   "execution_count": 32,
   "id": "6ddc0174-1ddc-49e8-9ba7-3713d168aa31",
   "metadata": {
    "tags": []
   },
   "outputs": [],
   "source": [
    "train_data = train_data.drop(['Unnamed: 0'], axis=1)\n",
    "train_data = train_data.drop(['DAY_TYPE'], axis=1)\n",
    "test_data = test_data.drop(['DAY_TYPE'], axis=1)"
   ]
  },
  {
   "cell_type": "markdown",
   "id": "342974f7-e3f9-4ffd-af71-28a5fa581b98",
   "metadata": {},
   "source": [
    "#### Converting column names\n",
    "Converting columns names to lowercase as more appropriate to formatting standards"
   ]
  },
  {
   "cell_type": "code",
   "execution_count": 33,
   "id": "83748c04-a4ee-46d7-83dc-e05cbdf0c7a9",
   "metadata": {
    "tags": []
   },
   "outputs": [],
   "source": [
    "train_data.columns = [column_.lower() for column_ in train_data.columns]\n",
    "test_data.columns = [column_.lower() for column_ in test_data.columns]"
   ]
  },
  {
   "cell_type": "markdown",
   "id": "dfd3fe78-a061-4723-9529-41faeeb79e4e",
   "metadata": {},
   "source": [
    "#### Converting datatypes \n",
    "- **TRIP_ID** object type in python is appropriate to string\n",
    "- **CALL_TYPE** object type in python is appropriate to char\n",
    "- **ORIGIN_CALL** integer type --> int\n",
    "- **ORIGIN_STAND** object type in python is appropriate to string\n",
    "- **WEATHER** object type in python is appropriate to string\n",
    "- **TAXI_ID** integer type --> int\n",
    "- **TIMESTAMP** Unix Timestamps --> convert to datetime timestamp\n",
    "- **MISSING_DATA** boolean --> bool \n",
    "- **POLYLINE** String --> convert to geojson format for proper future processing"
   ]
  },
  {
   "cell_type": "code",
   "execution_count": 34,
   "id": "2e1ae877-65cf-4ff6-b14e-90b2fd5c0ce1",
   "metadata": {
    "tags": []
   },
   "outputs": [],
   "source": [
    "train_data = convert_polyline_to_geojson_format(data=train_data, name_column='polyline')\n",
    "test_data = convert_polyline_to_geojson_format(data=test_data, name_column='polyline')"
   ]
  },
  {
   "cell_type": "code",
   "execution_count": 35,
   "id": "561d0880-cc5e-447f-8837-e763124f0fc9",
   "metadata": {
    "tags": []
   },
   "outputs": [],
   "source": [
    "columns_datatypes_dict = {\n",
    "    'trip_id': 'object',\n",
    "    'call_type': 'object',\n",
    "    'origin_call': 'object',\n",
    "    'origin_stand': 'object',\n",
    "    'taxi_id': 'int',\n",
    "    'timestamp': 'datetime',\n",
    "}"
   ]
  },
  {
   "cell_type": "code",
   "execution_count": 37,
   "id": "cf612ce7-3570-4f11-b866-c6bc1221e9cd",
   "metadata": {
    "tags": []
   },
   "outputs": [],
   "source": [
    "train_data = convert_datatypes(data=train_data.copy(), columns_datatypes_dict=columns_datatypes_dict)\n",
    "test_data = convert_datatypes(data=test_data.copy(), columns_datatypes_dict=columns_datatypes_dict)"
   ]
  },
  {
   "cell_type": "markdown",
   "id": "8077d4e7-d965-4022-9418-8b5f854a51c4",
   "metadata": {
    "tags": []
   },
   "source": [
    "All dates are in previously defined valid ranges"
   ]
  },
  {
   "cell_type": "code",
   "execution_count": 38,
   "id": "3e81075f",
   "metadata": {
    "tags": []
   },
   "outputs": [
    {
     "name": "stdout",
     "output_type": "stream",
     "text": [
      "2013-07-01 00:00:53\n",
      "2014-06-30 23:59:56\n",
      "2014-08-14 16:02:23\n",
      "2014-12-21 14:29:19\n"
     ]
    }
   ],
   "source": [
    "print(train_data.timestamp.min())\n",
    "print(train_data.timestamp.max())\n",
    "print(test_data.timestamp.min())\n",
    "print(test_data.timestamp.max())"
   ]
  },
  {
   "cell_type": "markdown",
   "id": "ec3dc64f",
   "metadata": {},
   "source": [
    "### Sanity Checks\n",
    "Assert that train and test data have same column shape\n",
    "and that the trip id is in fact unique identifier of the record"
   ]
  },
  {
   "cell_type": "code",
   "execution_count": 40,
   "id": "24d68863",
   "metadata": {
    "tags": []
   },
   "outputs": [
    {
     "name": "stdout",
     "output_type": "stream",
     "text": [
      "Column shape train vs test passed\n",
      "Column naming train vs test passed\n",
      "Sanity Check failed\n"
     ]
    }
   ],
   "source": [
    "try:\n",
    "    assert(train_data.shape[1] == test_data.shape[1])\n",
    "    print(\"Column shape train vs test passed\")\n",
    "    assert((train_data.columns == test_data.columns).all())\n",
    "    print(\"Column naming train vs test passed\")\n",
    "    assert(train_data.trip_id.nunique() == train_data.shape[0])\n",
    "    print(\"Check for unique trips passed - train data\")\n",
    "    assert(test_data.trip_id.nunique() == test_data.shape[0])\n",
    "    print(\"Check for unique trips passed - test data\")\n",
    "    print('All checks passed!')\n",
    "except:\n",
    "    print(\"Sanity Check failed\")"
   ]
  },
  {
   "cell_type": "markdown",
   "id": "f5377f66",
   "metadata": {
    "tags": []
   },
   "source": [
    "### Cleaning Data\n",
    "- Check showed that trip_id is not unique, so further investigation is needed\n",
    "- Checking on nan/null value \n",
    "- specific cleaning tasks to the geospatial data (polyline):\n",
    "    - Cleaning trips with no POLYLINE or only one coordinate point are assumed invalid and filtered from the dataset\n",
    "    - Assumption that only POLYLINEs with at least 10 coordinate points are interesting "
   ]
  },
  {
   "cell_type": "code",
   "execution_count": 46,
   "id": "cfcf96ef-6ae1-42f2-a2cc-b76b464b14be",
   "metadata": {
    "tags": []
   },
   "outputs": [
    {
     "name": "stdout",
     "output_type": "stream",
     "text": [
      "80 trip ids are duplicated\n",
      "0.0046767516919610725 % out of all unique TRIPs.\n"
     ]
    }
   ],
   "source": [
    "vc = train_data.trip_id.value_counts().reset_index()\n",
    "# get the trip ids that are duplicated\n",
    "duplicated_trip_ids = vc[vc['count'] > 1]['trip_id'].unique()\n",
    "\n",
    "print(f'{len(duplicated_trip_ids)} trip ids are duplicated')\n",
    "print(f'{(len(duplicated_trip_ids)/train_data.trip_id.nunique()*100)} % out of all unique TRIPs.')"
   ]
  },
  {
   "cell_type": "code",
   "execution_count": 48,
   "id": "bde0b7e0-dd01-4b87-9f5d-23132ca257e6",
   "metadata": {
    "tags": []
   },
   "outputs": [
    {
     "data": {
      "text/plain": [
       "array([], dtype=object)"
      ]
     },
     "execution_count": 48,
     "metadata": {},
     "output_type": "execute_result"
    }
   ],
   "source": [
    "vc_test = test_data.trip_id.value_counts().reset_index()\n",
    "# get the trip ids that are duplicated\n",
    "vc_test[vc_test['count'] > 1]['trip_id'].unique()"
   ]
  },
  {
   "cell_type": "markdown",
   "id": "6d0bc54e",
   "metadata": {},
   "source": [
    "**Findings**:\n",
    "- 159 cases\n",
    "- Missing Data column is set to False for all cases\n",
    "- 80 TRIP_IDs are duplicated\n",
    "- Affected data is insignifcant (less than 1% of all  TRIPs)\n",
    "\n",
    "**Assumptions**:\n",
    "- Potential reasons could be cancellation by dispatcher after a person called for some reasons, failed flight attempts, broken flight taxi etc.\n",
    "- The trips per ID with the longest POLYLINE are kept as these are assumed to be valid trips \n",
    "- Further investigation will should be done and analyzed together with sensor/technical data from flight taxi. Also the reason could be that a flight is interrupted and re-started again, that could be analyzed by plotting the POLYLINE and compare the start and end point of the duplicated TRIPs. Will be part of further optimization"
   ]
  },
  {
   "cell_type": "markdown",
   "id": "7c6ed32b",
   "metadata": {},
   "source": [
    "#### NAN/Null Missing values"
   ]
  },
  {
   "cell_type": "code",
   "execution_count": 55,
   "id": "72ba67ba",
   "metadata": {
    "tags": []
   },
   "outputs": [
    {
     "data": {
      "text/plain": [
       "trip_id               0\n",
       "call_type             0\n",
       "origin_call     1345900\n",
       "origin_stand     904091\n",
       "taxi_id               0\n",
       "timestamp             0\n",
       "missing_data          0\n",
       "polyline              0\n",
       "weather               0\n",
       "dtype: int64"
      ]
     },
     "execution_count": 55,
     "metadata": {},
     "output_type": "execute_result"
    }
   ],
   "source": [
    "train_data.isnull().sum()"
   ]
  },
  {
   "cell_type": "code",
   "execution_count": 54,
   "id": "b5088d90",
   "metadata": {
    "scrolled": true,
    "tags": []
   },
   "outputs": [
    {
     "data": {
      "text/plain": [
       "trip_id           0\n",
       "call_type         0\n",
       "origin_call     248\n",
       "origin_stand    197\n",
       "taxi_id           0\n",
       "timestamp         0\n",
       "missing_data      0\n",
       "polyline          0\n",
       "weather           0\n",
       "dtype: int64"
      ]
     },
     "execution_count": 54,
     "metadata": {},
     "output_type": "execute_result"
    }
   ],
   "source": [
    "test_data.isnull().sum()"
   ]
  },
  {
   "cell_type": "markdown",
   "id": "98693a1b",
   "metadata": {},
   "source": [
    "ORIGIN_CALL and ORIGIN_STAND have null values which is to be expected as they are determined dependent on the call type"
   ]
  },
  {
   "cell_type": "markdown",
   "id": "69791552",
   "metadata": {
    "tags": []
   },
   "source": [
    "#### Data Cleaning POLYLINE\n",
    "To do cleaning regarding the POLYLINE, a few more attributes are calculated:\n",
    "- **n_coordinate_points** - number of total points\n",
    "- **total_flight_time_seconds, total_flight_time_minutes** - flight time total\n",
    "- **start_point** - Starting point for each trip\n",
    "- **dest_point** - Last point for each trip \n",
    "- **total_distance** - total distance of trip in km with haversine formulam"
   ]
  },
  {
   "cell_type": "code",
   "execution_count": 75,
   "id": "3e0321d4-41de-4445-8f73-d44b8ba1df94",
   "metadata": {
    "tags": []
   },
   "outputs": [],
   "source": [
    "train_data = calculate_polyline_features(train_data)\n",
    "test_data = calculate_polyline_features(test_data)"
   ]
  },
  {
   "cell_type": "markdown",
   "id": "fb45d0c4-06f9-484d-95d1-20e0f829aae0",
   "metadata": {},
   "source": [
    "Based on assumption, keeping only polylines with at least 10 coordinate points"
   ]
  },
  {
   "cell_type": "code",
   "execution_count": 82,
   "id": "cfb1209d-11b5-4015-9b6c-dfad8be939c1",
   "metadata": {
    "tags": []
   },
   "outputs": [],
   "source": [
    "train_data = filter_invalid_trips(train_data, n_points=10)\n",
    "test_data = filter_invalid_trips(test_data, n_points=10)"
   ]
  },
  {
   "cell_type": "markdown",
   "id": "56ef2b99-1daa-40de-a7f3-a8d3698a7da3",
   "metadata": {},
   "source": [
    "Calculating the total distance of the trip in km"
   ]
  },
  {
   "cell_type": "code",
   "execution_count": 94,
   "id": "c12674b9-2a22-4587-a9fd-64bfb940c116",
   "metadata": {
    "tags": []
   },
   "outputs": [],
   "source": [
    "import geojson\n",
    "import pandas as pd\n",
    "from sklearn.metrics.pairwise import haversine_distances\n",
    "from math import radians\n"
   ]
  },
  {
   "cell_type": "code",
   "execution_count": 95,
   "id": "5ea1f209-4a66-44a8-9d2f-6cf4ccc14a36",
   "metadata": {
    "tags": []
   },
   "outputs": [],
   "source": [
    "def haversine_distance(lat1, lat2, lon1, lon2) -> float:\n",
    "    \"\"\"\n",
    "    :param lat1: Latitude of first point\n",
    "    :param lat2: Latitude of second point\n",
    "    :param lon1: Longitude of first point\n",
    "    :param lon2: Longitude of second point\n",
    "    :return: Method returns haversine distance between geo coordinates of two points\n",
    "    \"\"\"\n",
    "    # analog to following source -> https://scikit-\n",
    "    # learn.org/stable/modules/generated/sklearn.metrics.pairwise.haversine_distances.html\n",
    "\n",
    "    point_1 = [lon1, lat1]\n",
    "    point_2 = [lon2, lat2]\n",
    "    point1_in_radians = [radians(_) for _ in point_1]\n",
    "    point2_in_radians = [radians(_) for _ in point_2]\n",
    "    result = haversine_distances([point1_in_radians, point2_in_radians])\n",
    "    result = result * 6371000 / 1000\n",
    "    return result[0][1]"
   ]
  },
  {
   "cell_type": "code",
   "execution_count": 96,
   "id": "4b0f7d68-df65-4ab2-8c71-b5757ada8575",
   "metadata": {
    "tags": []
   },
   "outputs": [],
   "source": [
    "def calculate_total_distance(data) -> pd.DataFrame:\n",
    "    modified_data = data.copy()\n",
    "    modified_data[\"start_point\"] = modified_data[\"polyline\"].apply(\n",
    "        lambda value: value[0]\n",
    "    )\n",
    "    modified_data[\"dest_point\"] = modified_data[\"polyline\"].apply(\n",
    "        lambda value: value[-1]\n",
    "    )\n",
    "    modified_data[\"total_distance_km\"] = modified_data.apply(\n",
    "        lambda row: haversine_distance(\n",
    "            lat1=row.start_point[1],\n",
    "            lat2=row.dest_point[1],\n",
    "            lon1=row.start_point[0],\n",
    "            lon2=row.dest_point[0],\n",
    "        ),\n",
    "        axis=1,\n",
    "    )\n",
    "    return modified_data"
   ]
  },
  {
   "cell_type": "code",
   "execution_count": 97,
   "id": "79e3e66b",
   "metadata": {
    "scrolled": true,
    "tags": []
   },
   "outputs": [],
   "source": [
    "train_data = calculate_total_distance(train_data)\n",
    "test_data = calculate_total_distance(test_data)"
   ]
  },
  {
   "cell_type": "code",
   "execution_count": 99,
   "id": "fd1d516f",
   "metadata": {
    "scrolled": true,
    "tags": []
   },
   "outputs": [],
   "source": [
    "train_data['sequence'] = train_data.polyline.apply(lambda row: np.hstack(row))\n",
    "test_data['sequence'] = test_data.polyline.apply(lambda row: np.hstack(row))"
   ]
  },
  {
   "cell_type": "code",
   "execution_count": 100,
   "id": "e34594ba",
   "metadata": {
    "tags": []
   },
   "outputs": [],
   "source": [
    "train_data = train_data.drop(['polyline'], axis=1)\n",
    "test_data = test_data.drop(['polyline'], axis=1)"
   ]
  },
  {
   "cell_type": "markdown",
   "id": "e5b1825f",
   "metadata": {
    "tags": []
   },
   "source": [
    "#### Missing data columm"
   ]
  },
  {
   "cell_type": "code",
   "execution_count": 103,
   "id": "35352209",
   "metadata": {
    "tags": []
   },
   "outputs": [
    {
     "name": "stdout",
     "output_type": "stream",
     "text": [
      "Train Data: missing_data\n",
      "False    1641024\n",
      "True           8\n",
      "Name: count, dtype: int64 Trips with missing_data == True\n"
     ]
    }
   ],
   "source": [
    "print(f'Train Data: {train_data.missing_data.value_counts()} Trips with missing_data == True')"
   ]
  },
  {
   "cell_type": "code",
   "execution_count": 104,
   "id": "1d7adb70-ce4b-4e54-8c49-40ba026f62e5",
   "metadata": {
    "tags": []
   },
   "outputs": [
    {
     "name": "stdout",
     "output_type": "stream",
     "text": [
      "Test Data: missing_data\n",
      "False    269\n",
      "Name: count, dtype: int64 Trips with missing_data == True\n"
     ]
    }
   ],
   "source": [
    "print(f'Test Data: {test_data.missing_data.value_counts()} Trips with missing_data == True')"
   ]
  },
  {
   "cell_type": "code",
   "execution_count": 105,
   "id": "779cb316",
   "metadata": {
    "scrolled": true,
    "tags": []
   },
   "outputs": [
    {
     "data": {
      "text/html": [
       "<div>\n",
       "<style scoped>\n",
       "    .dataframe tbody tr th:only-of-type {\n",
       "        vertical-align: middle;\n",
       "    }\n",
       "\n",
       "    .dataframe tbody tr th {\n",
       "        vertical-align: top;\n",
       "    }\n",
       "\n",
       "    .dataframe thead th {\n",
       "        text-align: right;\n",
       "    }\n",
       "</style>\n",
       "<table border=\"1\" class=\"dataframe\">\n",
       "  <thead>\n",
       "    <tr style=\"text-align: right;\">\n",
       "      <th></th>\n",
       "      <th>trip_id</th>\n",
       "      <th>call_type</th>\n",
       "      <th>origin_call</th>\n",
       "      <th>origin_stand</th>\n",
       "      <th>taxi_id</th>\n",
       "      <th>timestamp</th>\n",
       "      <th>missing_data</th>\n",
       "      <th>weather</th>\n",
       "      <th>n_coordinate_points</th>\n",
       "      <th>total_flight_time_seconds</th>\n",
       "      <th>total_flight_time_minutes</th>\n",
       "      <th>start_point</th>\n",
       "      <th>dest_point</th>\n",
       "      <th>total_distance_km</th>\n",
       "      <th>sequence</th>\n",
       "    </tr>\n",
       "  </thead>\n",
       "  <tbody>\n",
       "    <tr>\n",
       "      <th>105621</th>\n",
       "      <td>1374554455620000625</td>\n",
       "      <td>B</td>\n",
       "      <td>NaN</td>\n",
       "      <td>23.0</td>\n",
       "      <td>20000625</td>\n",
       "      <td>2013-07-23 04:40:55</td>\n",
       "      <td>True</td>\n",
       "      <td>Sunny</td>\n",
       "      <td>43</td>\n",
       "      <td>630</td>\n",
       "      <td>10.50</td>\n",
       "      <td>[-8.612559, 41.145975]</td>\n",
       "      <td>[-8.603307, 41.124177]</td>\n",
       "      <td>2.608008</td>\n",
       "      <td>[-8.612559, 41.145975, -8.612577, 41.145975, -...</td>\n",
       "    </tr>\n",
       "    <tr>\n",
       "      <th>299137</th>\n",
       "      <td>1378544246620000057</td>\n",
       "      <td>B</td>\n",
       "      <td>NaN</td>\n",
       "      <td>55.0</td>\n",
       "      <td>20000057</td>\n",
       "      <td>2013-09-07 08:57:26</td>\n",
       "      <td>True</td>\n",
       "      <td>Rainy</td>\n",
       "      <td>11</td>\n",
       "      <td>150</td>\n",
       "      <td>2.50</td>\n",
       "      <td>[-8.569719, 41.166135]</td>\n",
       "      <td>[-8.555976, 41.277636]</td>\n",
       "      <td>12.355013</td>\n",
       "      <td>[-8.569719, 41.166135, -8.567928, 41.166477, -...</td>\n",
       "    </tr>\n",
       "    <tr>\n",
       "      <th>457486</th>\n",
       "      <td>1381233613620000387</td>\n",
       "      <td>C</td>\n",
       "      <td>NaN</td>\n",
       "      <td>NaN</td>\n",
       "      <td>20000387</td>\n",
       "      <td>2013-10-08 12:00:13</td>\n",
       "      <td>True</td>\n",
       "      <td>Foggy</td>\n",
       "      <td>483</td>\n",
       "      <td>7230</td>\n",
       "      <td>120.50</td>\n",
       "      <td>[-8.626347, 41.153436]</td>\n",
       "      <td>[-8.643879, 41.158908]</td>\n",
       "      <td>2.040173</td>\n",
       "      <td>[-8.626347, 41.153436, -8.626275, 41.152905, -...</td>\n",
       "    </tr>\n",
       "    <tr>\n",
       "      <th>738466</th>\n",
       "      <td>1386346894620000904</td>\n",
       "      <td>C</td>\n",
       "      <td>NaN</td>\n",
       "      <td>NaN</td>\n",
       "      <td>20000904</td>\n",
       "      <td>2013-12-06 16:21:34</td>\n",
       "      <td>True</td>\n",
       "      <td>Rainy</td>\n",
       "      <td>285</td>\n",
       "      <td>4260</td>\n",
       "      <td>71.00</td>\n",
       "      <td>[-8.652816, 40.636575]</td>\n",
       "      <td>[-7.990911, 41.337756]</td>\n",
       "      <td>106.623590</td>\n",
       "      <td>[-8.652816, 40.636575, -8.652807, 40.636566, -...</td>\n",
       "    </tr>\n",
       "    <tr>\n",
       "      <th>782321</th>\n",
       "      <td>1387137779620000640</td>\n",
       "      <td>C</td>\n",
       "      <td>NaN</td>\n",
       "      <td>NaN</td>\n",
       "      <td>20000640</td>\n",
       "      <td>2013-12-15 20:02:59</td>\n",
       "      <td>True</td>\n",
       "      <td>Rainy</td>\n",
       "      <td>51</td>\n",
       "      <td>750</td>\n",
       "      <td>12.50</td>\n",
       "      <td>[-8.604558, 41.161941]</td>\n",
       "      <td>[-8.653482, 41.174937]</td>\n",
       "      <td>5.624586</td>\n",
       "      <td>[-8.604558, 41.161941, -8.604477, 41.162013, -...</td>\n",
       "    </tr>\n",
       "    <tr>\n",
       "      <th>848552</th>\n",
       "      <td>1388351478620000678</td>\n",
       "      <td>A</td>\n",
       "      <td>9738.0</td>\n",
       "      <td>NaN</td>\n",
       "      <td>20000678</td>\n",
       "      <td>2013-12-29 21:11:18</td>\n",
       "      <td>True</td>\n",
       "      <td>Rainy</td>\n",
       "      <td>27</td>\n",
       "      <td>390</td>\n",
       "      <td>6.50</td>\n",
       "      <td>[-8.609697, 41.160276]</td>\n",
       "      <td>[-8.629848, 41.151492]</td>\n",
       "      <td>2.439933</td>\n",
       "      <td>[-8.609697, 41.160276, -8.609571, 41.16033, -8...</td>\n",
       "    </tr>\n",
       "    <tr>\n",
       "      <th>932391</th>\n",
       "      <td>1390005983620000640</td>\n",
       "      <td>C</td>\n",
       "      <td>NaN</td>\n",
       "      <td>NaN</td>\n",
       "      <td>20000640</td>\n",
       "      <td>2014-01-18 00:46:23</td>\n",
       "      <td>True</td>\n",
       "      <td>Rainy</td>\n",
       "      <td>14</td>\n",
       "      <td>195</td>\n",
       "      <td>3.25</td>\n",
       "      <td>[-8.604792, 41.16123]</td>\n",
       "      <td>[-8.611047, 41.149485]</td>\n",
       "      <td>1.466677</td>\n",
       "      <td>[-8.604792, 41.16123, -8.604801, 41.161167, -8...</td>\n",
       "    </tr>\n",
       "    <tr>\n",
       "      <th>1432196</th>\n",
       "      <td>1399405185620000508</td>\n",
       "      <td>C</td>\n",
       "      <td>NaN</td>\n",
       "      <td>NaN</td>\n",
       "      <td>20000508</td>\n",
       "      <td>2014-05-06 19:39:45</td>\n",
       "      <td>True</td>\n",
       "      <td>Rainy</td>\n",
       "      <td>53</td>\n",
       "      <td>780</td>\n",
       "      <td>13.00</td>\n",
       "      <td>[-8.620011, 41.14683]</td>\n",
       "      <td>[-8.578656, 41.145696]</td>\n",
       "      <td>4.600156</td>\n",
       "      <td>[-8.620011, 41.14683, -8.619957, 41.146659, -8...</td>\n",
       "    </tr>\n",
       "  </tbody>\n",
       "</table>\n",
       "</div>"
      ],
      "text/plain": [
       "                     trip_id call_type origin_call origin_stand   taxi_id  \\\n",
       "105621   1374554455620000625         B         NaN         23.0  20000625   \n",
       "299137   1378544246620000057         B         NaN         55.0  20000057   \n",
       "457486   1381233613620000387         C         NaN          NaN  20000387   \n",
       "738466   1386346894620000904         C         NaN          NaN  20000904   \n",
       "782321   1387137779620000640         C         NaN          NaN  20000640   \n",
       "848552   1388351478620000678         A      9738.0          NaN  20000678   \n",
       "932391   1390005983620000640         C         NaN          NaN  20000640   \n",
       "1432196  1399405185620000508         C         NaN          NaN  20000508   \n",
       "\n",
       "                   timestamp  missing_data weather  n_coordinate_points  \\\n",
       "105621   2013-07-23 04:40:55          True   Sunny                   43   \n",
       "299137   2013-09-07 08:57:26          True   Rainy                   11   \n",
       "457486   2013-10-08 12:00:13          True   Foggy                  483   \n",
       "738466   2013-12-06 16:21:34          True   Rainy                  285   \n",
       "782321   2013-12-15 20:02:59          True   Rainy                   51   \n",
       "848552   2013-12-29 21:11:18          True   Rainy                   27   \n",
       "932391   2014-01-18 00:46:23          True   Rainy                   14   \n",
       "1432196  2014-05-06 19:39:45          True   Rainy                   53   \n",
       "\n",
       "         total_flight_time_seconds  total_flight_time_minutes  \\\n",
       "105621                         630                      10.50   \n",
       "299137                         150                       2.50   \n",
       "457486                        7230                     120.50   \n",
       "738466                        4260                      71.00   \n",
       "782321                         750                      12.50   \n",
       "848552                         390                       6.50   \n",
       "932391                         195                       3.25   \n",
       "1432196                        780                      13.00   \n",
       "\n",
       "                    start_point              dest_point  total_distance_km  \\\n",
       "105621   [-8.612559, 41.145975]  [-8.603307, 41.124177]           2.608008   \n",
       "299137   [-8.569719, 41.166135]  [-8.555976, 41.277636]          12.355013   \n",
       "457486   [-8.626347, 41.153436]  [-8.643879, 41.158908]           2.040173   \n",
       "738466   [-8.652816, 40.636575]  [-7.990911, 41.337756]         106.623590   \n",
       "782321   [-8.604558, 41.161941]  [-8.653482, 41.174937]           5.624586   \n",
       "848552   [-8.609697, 41.160276]  [-8.629848, 41.151492]           2.439933   \n",
       "932391    [-8.604792, 41.16123]  [-8.611047, 41.149485]           1.466677   \n",
       "1432196   [-8.620011, 41.14683]  [-8.578656, 41.145696]           4.600156   \n",
       "\n",
       "                                                  sequence  \n",
       "105621   [-8.612559, 41.145975, -8.612577, 41.145975, -...  \n",
       "299137   [-8.569719, 41.166135, -8.567928, 41.166477, -...  \n",
       "457486   [-8.626347, 41.153436, -8.626275, 41.152905, -...  \n",
       "738466   [-8.652816, 40.636575, -8.652807, 40.636566, -...  \n",
       "782321   [-8.604558, 41.161941, -8.604477, 41.162013, -...  \n",
       "848552   [-8.609697, 41.160276, -8.609571, 41.16033, -8...  \n",
       "932391   [-8.604792, 41.16123, -8.604801, 41.161167, -8...  \n",
       "1432196  [-8.620011, 41.14683, -8.619957, 41.146659, -8...  "
      ]
     },
     "execution_count": 105,
     "metadata": {},
     "output_type": "execute_result"
    }
   ],
   "source": [
    "train_data[train_data.missing_data == True]"
   ]
  },
  {
   "cell_type": "markdown",
   "id": "4983008b",
   "metadata": {},
   "source": [
    "- Amount of data with missing values insignificant compared to total amount of data\n",
    "- Majority of trips is WEATHER == Rainy, however total amount of trips is not significant enought to draw a conclusion/make an assumption\n",
    "- Number of points/length of polyline is in general unequal so there is no indication in that sense how much data is missing, also no information if data is missing at the start/middle or end of POLYLINE \n",
    "\n",
    "Based on these Findings, I would simply drop these values, mainly as their effect is expected to be very little. If the number of data samples would be higher, I would try to impute the missing coordinates in this case with the Nearest Neighbour. However the problem of knowing if the cooordinates are missing in start/middle/end would prevail. In case I find very similar trips through additional logic (difference in n_coordinate_points <= 5 and overall_distance between points < threshold) I could minimize this problem. These tasks could be part of further optimization."
   ]
  },
  {
   "cell_type": "code",
   "execution_count": 106,
   "id": "12ebbd47",
   "metadata": {
    "tags": []
   },
   "outputs": [],
   "source": [
    "train_data = train_data[train_data.missing_data != True]"
   ]
  },
  {
   "cell_type": "markdown",
   "id": "ddf675a9",
   "metadata": {},
   "source": [
    "#### OUTLIER\n",
    "To handle the outliers, we look at statistical indicators and plot the boxplot."
   ]
  },
  {
   "cell_type": "code",
   "execution_count": 112,
   "id": "8828bcee",
   "metadata": {
    "scrolled": true,
    "tags": []
   },
   "outputs": [
    {
     "data": {
      "image/png": "[encoded data removed]",
      "text/plain": [
       "<Figure size 1000x1000 with 1 Axes>"
      ]
     },
     "metadata": {},
     "output_type": "display_data"
    }
   ],
   "source": [
    "plt.figure(figsize=(10, 10))\n",
    "sns.boxplot(data=train_data[['n_coordinate_points','total_flight_time_minutes','total_distance_km']])\n",
    "plt.show()"
   ]
  },
  {
   "cell_type": "markdown",
   "id": "b94ef896",
   "metadata": {},
   "source": [
    "The cotinous attributes show a high number of outliers, with the number of coordinate points the widest spread.\n",
    "To avoid loosing too much data, keeping the 95% quantile of the data regarding the N_COORDINATE_POINTS and TOTAL_DISTANCE seems to be the best choice. "
   ]
  },
  {
   "cell_type": "code",
   "execution_count": 113,
   "id": "6edd5d06",
   "metadata": {
    "tags": []
   },
   "outputs": [],
   "source": [
    "train_data = train_data[(train_data.n_coordinate_points <= train_data.n_coordinate_points.quantile(0.90))\n",
    "                 & (train_data.total_distance_km <= train_data.total_distance_km.quantile(0.90))]"
   ]
  },
  {
   "cell_type": "code",
   "execution_count": 114,
   "id": "a648c307",
   "metadata": {
    "tags": []
   },
   "outputs": [
    {
     "data": {
      "image/png": "[encoded data removed]",
      "text/plain": [
       "<Figure size 1000x1000 with 1 Axes>"
      ]
     },
     "metadata": {},
     "output_type": "display_data"
    }
   ],
   "source": [
    "plt.figure(figsize=(10, 10))\n",
    "sns.boxplot(data=train_data[['n_coordinate_points','total_flight_time_minutes','total_distance_km']])\n",
    "plt.show()"
   ]
  },
  {
   "cell_type": "markdown",
   "id": "cc39cc8e",
   "metadata": {},
   "source": [
    "We can see some outliers remaining, however the spread is significantly reduced. Outliers in the test data will be kept to avoid too much reduction."
   ]
  },
  {
   "cell_type": "code",
   "execution_count": 115,
   "id": "912bb117",
   "metadata": {
    "tags": []
   },
   "outputs": [
    {
     "data": {
      "image/png": "[encoded data removed]",
      "text/plain": [
       "<Figure size 640x480 with 1 Axes>"
      ]
     },
     "metadata": {},
     "output_type": "display_data"
    }
   ],
   "source": [
    "sns.set()\n",
    "plt.hist(train_data.total_flight_time_minutes,\n",
    "         label=f'Post invalid trips N={train_data.shape[0]}')\n",
    "plt.title('Distribution - total flight time in minutes (95% quantile for visualization reasons)')\n",
    "plt.legend()\n",
    "plt.show()"
   ]
  },
  {
   "cell_type": "code",
   "execution_count": 116,
   "id": "095ddc23",
   "metadata": {
    "tags": []
   },
   "outputs": [
    {
     "data": {
      "image/png": "[encoded data removed]",
      "text/plain": [
       "<Figure size 640x480 with 1 Axes>"
      ]
     },
     "metadata": {},
     "output_type": "display_data"
    }
   ],
   "source": [
    "sns.set()\n",
    "plt.hist(train_data.total_distance_km,\n",
    "         label=f'Post invalid trips N={train_data.shape[0]}')\n",
    "plt.title('Distribution - Count total distance km')\n",
    "plt.legend()\n",
    "plt.show()"
   ]
  },
  {
   "cell_type": "markdown",
   "id": "934840d5",
   "metadata": {},
   "source": [
    "The reduction of the training data does not have a major effect on the data distribution. Optimization could be to compare performance with/without outliers "
   ]
  },
  {
   "cell_type": "code",
   "execution_count": 118,
   "id": "ebf36a9d",
   "metadata": {
    "tags": []
   },
   "outputs": [
    {
     "name": "stdout",
     "output_type": "stream",
     "text": [
      "Column shape train vs test passed\n",
      "Column naming train vs test passed\n",
      "Check for unique trips passed - train data\n",
      "Check for unique trips passed - test data\n",
      "All checks passed!\n"
     ]
    }
   ],
   "source": [
    "try:\n",
    "    assert(train_data.shape[1] == test_data.shape[1])\n",
    "    print(\"Column shape train vs test passed\")\n",
    "    assert((train_data.columns == test_data.columns).all())\n",
    "    print(\"Column naming train vs test passed\")\n",
    "    assert(train_data.trip_id.nunique() == train_data.shape[0])\n",
    "    print(\"Check for unique trips passed - train data\")\n",
    "    assert(test_data.trip_id.nunique() == test_data.shape[0])\n",
    "    print(\"Check for unique trips passed - test data\")\n",
    "    print('All checks passed!')\n",
    "except:\n",
    "    print(\"Sanity Check failed\")"
   ]
  },
  {
   "cell_type": "markdown",
   "id": "384185cd",
   "metadata": {},
   "source": [
    "#### 0.5.5 CALL_TYPE LOGIC"
   ]
  },
  {
   "cell_type": "code",
   "execution_count": 121,
   "id": "5b74a333",
   "metadata": {
    "tags": []
   },
   "outputs": [],
   "source": [
    "def check_call_type(data):\n",
    "    data_A = data[(data.call_type == 'A') & (data.origin_call == np.NaN)]\n",
    "    data_B = data[(data.call_type == 'B') & (data.origin_stand == np.NaN)]\n",
    "    data_C = data[(data.call_type == 'C') & (data.origin_stand != np.NaN)].origin_stand.nunique()\n",
    "    return data_A, data_B, data_C"
   ]
  },
  {
   "cell_type": "code",
   "execution_count": 122,
   "id": "1c2c6a94",
   "metadata": {
    "tags": []
   },
   "outputs": [
    {
     "data": {
      "text/plain": [
       "(Empty DataFrame\n",
       " Columns: [trip_id, call_type, origin_call, origin_stand, taxi_id, timestamp, missing_data, weather, n_coordinate_points, total_flight_time_seconds, total_flight_time_minutes, start_point, dest_point, total_distance_km, sequence]\n",
       " Index: [],\n",
       " Empty DataFrame\n",
       " Columns: [trip_id, call_type, origin_call, origin_stand, taxi_id, timestamp, missing_data, weather, n_coordinate_points, total_flight_time_seconds, total_flight_time_minutes, start_point, dest_point, total_distance_km, sequence]\n",
       " Index: [],\n",
       " 0)"
      ]
     },
     "execution_count": 122,
     "metadata": {},
     "output_type": "execute_result"
    }
   ],
   "source": [
    "check_call_type(train_data)"
   ]
  },
  {
   "cell_type": "code",
   "execution_count": 123,
   "id": "2ca47ab5",
   "metadata": {
    "tags": []
   },
   "outputs": [
    {
     "data": {
      "text/plain": [
       "(Empty DataFrame\n",
       " Columns: [trip_id, call_type, origin_call, origin_stand, taxi_id, timestamp, missing_data, weather, n_coordinate_points, total_flight_time_seconds, total_flight_time_minutes, start_point, dest_point, total_distance_km, sequence]\n",
       " Index: [],\n",
       " Empty DataFrame\n",
       " Columns: [trip_id, call_type, origin_call, origin_stand, taxi_id, timestamp, missing_data, weather, n_coordinate_points, total_flight_time_seconds, total_flight_time_minutes, start_point, dest_point, total_distance_km, sequence]\n",
       " Index: [],\n",
       " 0)"
      ]
     },
     "execution_count": 123,
     "metadata": {},
     "output_type": "execute_result"
    }
   ],
   "source": [
    "check_call_type(test_data)"
   ]
  },
  {
   "cell_type": "code",
   "execution_count": 125,
   "id": "20c79ef3",
   "metadata": {
    "tags": []
   },
   "outputs": [
    {
     "name": "stderr",
     "output_type": "stream",
     "text": [
      "/tmp/ipykernel_30373/2380197590.py:1: SettingWithCopyWarning: \n",
      "A value is trying to be set on a copy of a slice from a DataFrame\n",
      "\n",
      "See the caveats in the documentation: https://pandas.pydata.org/pandas-docs/stable/user_guide/indexing.html#returning-a-view-versus-a-copy\n",
      "  train_data.drop(['timestamp','missing_data','total_flight_time_seconds'], axis=1, inplace=True)\n"
     ]
    }
   ],
   "source": [
    "train_data.drop(['timestamp','missing_data','total_flight_time_seconds'], axis=1, inplace=True)\n",
    "test_data.drop(['timestamp','missing_data','total_flight_time_seconds'], axis=1, inplace=True)"
   ]
  },
  {
   "cell_type": "code",
   "execution_count": 126,
   "id": "6ddcb8c7",
   "metadata": {
    "tags": []
   },
   "outputs": [
    {
     "name": "stdout",
     "output_type": "stream",
     "text": [
      "<class 'pandas.core.frame.DataFrame'>\n",
      "Index: 1371135 entries, 0 to 1710669\n",
      "Data columns (total 12 columns):\n",
      " #   Column                     Non-Null Count    Dtype  \n",
      "---  ------                     --------------    -----  \n",
      " 0   trip_id                    1371135 non-null  object \n",
      " 1   call_type                  1371135 non-null  object \n",
      " 2   origin_call                298391 non-null   object \n",
      " 3   origin_stand               689054 non-null   object \n",
      " 4   taxi_id                    1371135 non-null  int64  \n",
      " 5   weather                    1371135 non-null  object \n",
      " 6   n_coordinate_points        1371135 non-null  int64  \n",
      " 7   total_flight_time_minutes  1371135 non-null  float64\n",
      " 8   start_point                1371135 non-null  object \n",
      " 9   dest_point                 1371135 non-null  object \n",
      " 10  total_distance_km          1371135 non-null  float64\n",
      " 11  sequence                   1371135 non-null  object \n",
      "dtypes: float64(2), int64(2), object(8)\n",
      "memory usage: 136.0+ MB\n"
     ]
    }
   ],
   "source": [
    "train_data.info()"
   ]
  },
  {
   "cell_type": "code",
   "execution_count": 127,
   "id": "d298d356",
   "metadata": {
    "tags": []
   },
   "outputs": [
    {
     "data": {
      "text/plain": [
       "{'paths': ['s3://think-tank-casestudy/preprocessed_data/test_data_preprocess.parquet'],\n",
       " 'partitions_values': {}}"
      ]
     },
     "execution_count": 127,
     "metadata": {},
     "output_type": "execute_result"
    }
   ],
   "source": [
    "aw.s3.to_parquet(df=train_data, path='s3://think-tank-casestudy/preprocessed_data/train_data_preprocess.parquet')\n",
    "aw.s3.to_parquet(df=test_data, path='s3://think-tank-casestudy/preprocessed_data/test_data_preprocess.parquet')"
   ]
  }
 ],
 "metadata": {
  "kernelspec": {
   "display_name": "conda_python3",
   "language": "python",
   "name": "conda_python3"
  },
  "language_info": {
   "codemirror_mode": {
    "name": "ipython",
    "version": 3
   },
   "file_extension": ".py",
   "mimetype": "text/x-python",
   "name": "python",
   "nbconvert_exporter": "python",
   "pygments_lexer": "ipython3",
   "version": "3.10.13"
  }
 },
 "nbformat": 4,
 "nbformat_minor": 5
}
