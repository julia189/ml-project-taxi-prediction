{
 "cells": [
  {
   "cell_type": "markdown",
   "id": "f83d6a38",
   "metadata": {},
   "source": [
    "### 0.1 Case Study\n",
    "\n",
    "#### Scenario\n",
    "At BMW, we reimagine the future of mobility. Lets fast forward to 2030, and flying taxis are roaming above our cities, bringing people to\n",
    "their desired destination. You work for, Duoro Hawk a company that is pioneering the world's first large fleet of fully electric, self-piloting\n",
    "autonomous flying taxis. The company wants to deploy the first network of autonomous air taxis in the coming year. As part of our data\n",
    "science and enginering team, you are responsible for predicting the destination of our fleet of autonomous flying taxis based on the\n",
    "manned test flights that have been performed.\n",
    "\n",
    "#### About the Dataset\n",
    "A fictional dataset describing a complete year (from 01/07/2014 to 30/06/2014) of all the trajectories for all 442 of our flying taxis that\n",
    "were simulated in the city of Porto. Our autonomous fleet of taxis fly from a central ground station\n",
    "• There are three different types of rides: A) phone call-based, B) stand-based where people wait at a stand for their flying taxi or C) \n",
    "random place. For type A, we provide an anonymized ID, to represent the telephone call. Categories B and C refers to cases where the\n",
    "taxis were directly called by the customer.\n",
    "\n",
    "#### Dataset\n",
    "##### train.csv\n",
    "Each data sample corresponds to one completed trip. It contains a total of 9 (nine) features, described as follows:\n",
    "\n",
    "- TRIP_ID: (String) It contains an unique identifier for each trip;\n",
    "\n",
    "- CALL_TYPE: (char) It identifies the way used to demand this service. It may contain one of three possible values:\n",
    "     - ‘A’ if this trip was dispatched from the central;\n",
    "     - ‘B’ if this trip was demanded directly to a taxi driver on a specific stand;\n",
    "     - ‘C’ otherwise (i.e. a trip demanded on a random street).\n",
    "     \n",
    "- ORIGIN_CALL: (integer) It contains an unique identifier for each phone number which was used to demand, at least, one service. It identifies the trip’s customer if CALLTYPE=’A’. Otherwise, it assumes a NULL value;\n",
    "\n",
    "- ORIGINSTAND: (integer): It contains an unique identifier for the taxi stand. It identifies the starting point of the trip if CALLTYPE=’B’. Otherwise, it assumes a NULL value;\n",
    "\n",
    "- WEATHER: (String): Information on the weather that day, unique values include: Sunny, Rainy, Cloudy, Windy, and Foggy\n",
    "- TAXI_ID: (integer): It contains an unique identifier for the flying taxi that performed each trip;\n",
    "- TIMESTAMP: (integer) Unix Timestamp (in seconds). It identifies the trip’s start;\n",
    "- MISSING_DATA: (Boolean) It is FALSE when the GPS data stream is complete and TRUE whenever one (or more) locations are missing\n",
    "- POLYLINE: (String): It contains a list of GPS coordinates (i.e. WGS84 format) mapped as a string. The beginning and the end of the string are identified with brackets (i.e. [ and ], respectively). Each pair of coordinates is also identified by the same brackets as\n",
    "- [LONGITUDE, LATITUDE]. This list contains one pair of coordinates for each 15 seconds of trip. The last list item corresponds to the trip’s destination while the first one represents its start\n",
    "\n",
    "\n",
    "##### test.csv\n",
    "Personal records for the remaining one-third (~110) of the trips, to be used as test data. Your task is to predict the value of coordinates of the trip‘s destination\n",
    "\n",
    "##### sample_submission.csv \n",
    "A submission file in the correct format.\n",
    "- TripId - Id for each Tip in the test set\n",
    "- Longitude - the longitude of the destination of the flying taxi\n",
    "- Latitude – the latitude of the destination of the flying taxi\n",
    "\n",
    "The total travel time of the trip (the prediction target of this competition) is defined as the (number of points-1) x 15 seconds. For example, a trip with 101 data points in POLYLINE has a length of (101-1) * 15 = 1500 seconds. Some trips have missing data points in POLYLINE, indicated by MISSING_DATA column, and it is part of the challenge how you utilize this knowledge."
   ]
  },
  {
   "cell_type": "markdown",
   "id": "6c11c59d",
   "metadata": {},
   "source": [
    "### 0.2 Imports"
   ]
  },
  {
   "cell_type": "code",
   "execution_count": 1,
   "id": "55988adc-5ccf-4f9e-98ec-19d2fca184f6",
   "metadata": {
    "scrolled": true
   },
   "outputs": [
    {
     "name": "stdout",
     "output_type": "stream",
     "text": [
      "Looking in indexes: https://pypi.org/simple, https://pip.repos.neuron.amazonaws.com\n",
      "Collecting awswrangler\n",
      "  Downloading awswrangler-2.19.0-py3-none-any.whl (267 kB)\n",
      "\u001b[2K     \u001b[90m━━━━━━━━━━━━━━━━━━━━━━━━━━━━━━━━━━━━━━━\u001b[0m \u001b[32m267.1/267.1 kB\u001b[0m \u001b[31m3.3 MB/s\u001b[0m eta \u001b[36m0:00:00\u001b[0m00:01\u001b[0m\n",
      "\u001b[?25hCollecting gremlinpython<4.0.0,>=3.5.2\n",
      "  Downloading gremlinpython-3.6.1-py2.py3-none-any.whl (73 kB)\n",
      "\u001b[2K     \u001b[90m━━━━━━━━━━━━━━━━━━━━━━━━━━━━━━━━━━━━━━━━\u001b[0m \u001b[32m73.3/73.3 kB\u001b[0m \u001b[31m17.4 MB/s\u001b[0m eta \u001b[36m0:00:00\u001b[0m\n",
      "\u001b[?25hCollecting backoff<3.0.0,>=1.11.1\n",
      "  Downloading backoff-2.2.1-py3-none-any.whl (15 kB)\n",
      "Collecting botocore<2.0.0,>=1.27.11\n",
      "  Downloading botocore-1.29.54-py3-none-any.whl (10.3 MB)\n",
      "\u001b[2K     \u001b[90m━━━━━━━━━━━━━━━━━━━━━━━━━━━━━━━━━━━━━━━━\u001b[0m \u001b[32m10.3/10.3 MB\u001b[0m \u001b[31m57.3 MB/s\u001b[0m eta \u001b[36m0:00:00\u001b[0m00:01\u001b[0m0:01\u001b[0mm\n",
      "\u001b[?25hCollecting opensearch-py<3,>=1\n",
      "  Downloading opensearch_py-2.0.1-py2.py3-none-any.whl (214 kB)\n",
      "\u001b[2K     \u001b[90m━━━━━━━━━━━━━━━━━━━━━━━━━━━━━━━━━━━━━━━\u001b[0m \u001b[32m214.7/214.7 kB\u001b[0m \u001b[31m7.4 MB/s\u001b[0m eta \u001b[36m0:00:00\u001b[0m\n",
      "\u001b[?25hCollecting jsonpath-ng<2.0.0,>=1.5.3\n",
      "  Downloading jsonpath_ng-1.5.3-py3-none-any.whl (29 kB)\n",
      "Collecting progressbar2<5.0.0,>=4.0.0\n",
      "  Downloading progressbar2-4.2.0-py2.py3-none-any.whl (27 kB)\n",
      "Collecting pg8000<2.0.0,>=1.20.0\n",
      "  Downloading pg8000-1.29.4-py3-none-any.whl (51 kB)\n",
      "\u001b[2K     \u001b[90m━━━━━━━━━━━━━━━━━━━━━━━━━━━━━━━━━━━━━━━\u001b[0m \u001b[32m51.4/51.4 kB\u001b[0m \u001b[31m714.9 kB/s\u001b[0m eta \u001b[36m0:00:00\u001b[0m00:01\u001b[0m\n",
      "\u001b[?25hCollecting pyarrow<10.1.0,>=2.0.0\n",
      "  Downloading pyarrow-10.0.1-cp310-cp310-manylinux_2_17_x86_64.manylinux2014_x86_64.whl (35.9 MB)\n",
      "\u001b[2K     \u001b[90m━━━━━━━━━━━━━━━━━━━━━━━━━━━━━━━━━━━━━━━━\u001b[0m \u001b[32m35.9/35.9 MB\u001b[0m \u001b[31m20.4 MB/s\u001b[0m eta \u001b[36m0:00:00\u001b[0m00:01\u001b[0m00:01\u001b[0m\n",
      "\u001b[?25hRequirement already satisfied: boto3<2.0.0,>=1.24.11 in /home/ec2-user/anaconda3/envs/python3/lib/python3.10/site-packages (from awswrangler) (1.26.44)\n",
      "Requirement already satisfied: numpy<=1.23.4,>=1.21.0 in /home/ec2-user/anaconda3/envs/python3/lib/python3.10/site-packages (from awswrangler) (1.22.4)\n",
      "Collecting requests-aws4auth<2.0.0,>=1.1.1\n",
      "  Downloading requests_aws4auth-1.2.0-py2.py3-none-any.whl (24 kB)\n",
      "Requirement already satisfied: openpyxl<3.1.0,>=3.0.0 in /home/ec2-user/anaconda3/envs/python3/lib/python3.10/site-packages (from awswrangler) (3.0.10)\n",
      "Collecting pymysql<2.0.0,>=1.0.0\n",
      "  Downloading PyMySQL-1.0.2-py3-none-any.whl (43 kB)\n",
      "\u001b[2K     \u001b[90m━━━━━━━━━━━━━━━━━━━━━━━━━━━━━━━━━━━━━━━━\u001b[0m \u001b[32m43.8/43.8 kB\u001b[0m \u001b[31m8.8 MB/s\u001b[0m eta \u001b[36m0:00:00\u001b[0m\n",
      "\u001b[?25hCollecting redshift-connector<2.1.0,>=2.0.889\n",
      "  Downloading redshift_connector-2.0.909-py3-none-any.whl (112 kB)\n",
      "\u001b[2K     \u001b[90m━━━━━━━━━━━━━━━━━━━━━━━━━━━━━━━━━━━━━━━\u001b[0m \u001b[32m112.1/112.1 kB\u001b[0m \u001b[31m1.9 MB/s\u001b[0m eta \u001b[36m0:00:00\u001b[0ma \u001b[36m0:00:01\u001b[0m\n",
      "\u001b[?25hRequirement already satisfied: pandas!=1.5.0,<2.0.0,<=1.5.1,>=1.2.0 in /home/ec2-user/anaconda3/envs/python3/lib/python3.10/site-packages (from awswrangler) (1.5.1)\n",
      "Requirement already satisfied: s3transfer<0.7.0,>=0.6.0 in /home/ec2-user/anaconda3/envs/python3/lib/python3.10/site-packages (from boto3<2.0.0,>=1.24.11->awswrangler) (0.6.0)\n",
      "Requirement already satisfied: jmespath<2.0.0,>=0.7.1 in /home/ec2-user/anaconda3/envs/python3/lib/python3.10/site-packages (from boto3<2.0.0,>=1.24.11->awswrangler) (0.10.0)\n",
      "Requirement already satisfied: urllib3<1.27,>=1.25.4 in /home/ec2-user/anaconda3/envs/python3/lib/python3.10/site-packages (from botocore<2.0.0,>=1.27.11->awswrangler) (1.26.8)\n",
      "Requirement already satisfied: python-dateutil<3.0.0,>=2.1 in /home/ec2-user/anaconda3/envs/python3/lib/python3.10/site-packages (from botocore<2.0.0,>=1.27.11->awswrangler) (2.8.2)\n",
      "Collecting isodate<1.0.0,>=0.6.0\n",
      "  Downloading isodate-0.6.1-py2.py3-none-any.whl (41 kB)\n",
      "\u001b[2K     \u001b[90m━━━━━━━━━━━━━━━━━━━━━━━━━━━━━━━━━━━━━━━━\u001b[0m \u001b[32m41.7/41.7 kB\u001b[0m \u001b[31m8.6 MB/s\u001b[0m eta \u001b[36m0:00:00\u001b[0m\n",
      "\u001b[?25hCollecting aenum<4.0.0,>=1.4.5\n",
      "  Downloading aenum-3.1.11-py3-none-any.whl (131 kB)\n",
      "\u001b[2K     \u001b[90m━━━━━━━━━━━━━━━━━━━━━━━━━━━━━━━━━━━━━━\u001b[0m \u001b[32m131.5/131.5 kB\u001b[0m \u001b[31m24.9 MB/s\u001b[0m eta \u001b[36m0:00:00\u001b[0m\n",
      "\u001b[?25hCollecting aiohttp<=3.8.1,>=3.8.0\n",
      "  Downloading aiohttp-3.8.1-cp310-cp310-manylinux_2_5_x86_64.manylinux1_x86_64.manylinux_2_12_x86_64.manylinux2010_x86_64.whl (1.2 MB)\n",
      "\u001b[2K     \u001b[90m━━━━━━━━━━━━━━━━━━━━━━━━━━━━━━━━━━━━━━━━\u001b[0m \u001b[32m1.2/1.2 MB\u001b[0m \u001b[31m33.2 MB/s\u001b[0m eta \u001b[36m0:00:00\u001b[0m:00:01\u001b[0m\n",
      "\u001b[?25hRequirement already satisfied: nest-asyncio in /home/ec2-user/anaconda3/envs/python3/lib/python3.10/site-packages (from gremlinpython<4.0.0,>=3.5.2->awswrangler) (1.5.6)\n",
      "Requirement already satisfied: six in /home/ec2-user/anaconda3/envs/python3/lib/python3.10/site-packages (from jsonpath-ng<2.0.0,>=1.5.3->awswrangler) (1.16.0)\n",
      "Requirement already satisfied: decorator in /home/ec2-user/anaconda3/envs/python3/lib/python3.10/site-packages (from jsonpath-ng<2.0.0,>=1.5.3->awswrangler) (5.1.1)\n",
      "Requirement already satisfied: ply in /home/ec2-user/anaconda3/envs/python3/lib/python3.10/site-packages (from jsonpath-ng<2.0.0,>=1.5.3->awswrangler) (3.11)\n",
      "Requirement already satisfied: et_xmlfile in /home/ec2-user/anaconda3/envs/python3/lib/python3.10/site-packages (from openpyxl<3.1.0,>=3.0.0->awswrangler) (1.0.1)\n",
      "Requirement already satisfied: requests<3.0.0,>=2.4.0 in /home/ec2-user/anaconda3/envs/python3/lib/python3.10/site-packages (from opensearch-py<3,>=1->awswrangler) (2.28.1)\n",
      "Requirement already satisfied: certifi in /home/ec2-user/anaconda3/envs/python3/lib/python3.10/site-packages (from opensearch-py<3,>=1->awswrangler) (2022.9.24)\n",
      "Requirement already satisfied: pytz>=2020.1 in /home/ec2-user/anaconda3/envs/python3/lib/python3.10/site-packages (from pandas!=1.5.0,<2.0.0,<=1.5.1,>=1.2.0->awswrangler) (2022.5)\n",
      "Collecting scramp>=1.4.3\n",
      "  Downloading scramp-1.4.4-py3-none-any.whl (13 kB)\n",
      "Collecting python-utils>=3.0.0\n",
      "  Downloading python_utils-3.4.5-py2.py3-none-any.whl (23 kB)\n",
      "Requirement already satisfied: setuptools in /home/ec2-user/anaconda3/envs/python3/lib/python3.10/site-packages (from redshift-connector<2.1.0,>=2.0.889->awswrangler) (65.5.0)\n",
      "Collecting lxml>=4.6.5\n",
      "  Downloading lxml-4.9.2-cp310-cp310-manylinux_2_17_x86_64.manylinux2014_x86_64.manylinux_2_24_x86_64.whl (7.1 MB)\n",
      "\u001b[2K     \u001b[90m━━━━━━━━━━━━━━━━━━━━━━━━━━━━━━━━━━━━━━━━\u001b[0m \u001b[32m7.1/7.1 MB\u001b[0m \u001b[31m36.6 MB/s\u001b[0m eta \u001b[36m0:00:00\u001b[0m00:01\u001b[0m:00:01\u001b[0m\n",
      "\u001b[?25hRequirement already satisfied: beautifulsoup4<5.0.0,>=4.7.0 in /home/ec2-user/anaconda3/envs/python3/lib/python3.10/site-packages (from redshift-connector<2.1.0,>=2.0.889->awswrangler) (4.11.1)\n",
      "Requirement already satisfied: packaging in /home/ec2-user/anaconda3/envs/python3/lib/python3.10/site-packages (from redshift-connector<2.1.0,>=2.0.889->awswrangler) (21.3)\n",
      "Requirement already satisfied: async-timeout<5.0,>=4.0.0a3 in /home/ec2-user/anaconda3/envs/python3/lib/python3.10/site-packages (from aiohttp<=3.8.1,>=3.8.0->gremlinpython<4.0.0,>=3.5.2->awswrangler) (4.0.2)\n",
      "Requirement already satisfied: charset-normalizer<3.0,>=2.0 in /home/ec2-user/anaconda3/envs/python3/lib/python3.10/site-packages (from aiohttp<=3.8.1,>=3.8.0->gremlinpython<4.0.0,>=3.5.2->awswrangler) (2.1.1)\n",
      "Requirement already satisfied: aiosignal>=1.1.2 in /home/ec2-user/anaconda3/envs/python3/lib/python3.10/site-packages (from aiohttp<=3.8.1,>=3.8.0->gremlinpython<4.0.0,>=3.5.2->awswrangler) (1.2.0)\n",
      "Requirement already satisfied: multidict<7.0,>=4.5 in /home/ec2-user/anaconda3/envs/python3/lib/python3.10/site-packages (from aiohttp<=3.8.1,>=3.8.0->gremlinpython<4.0.0,>=3.5.2->awswrangler) (6.0.2)\n",
      "Requirement already satisfied: yarl<2.0,>=1.0 in /home/ec2-user/anaconda3/envs/python3/lib/python3.10/site-packages (from aiohttp<=3.8.1,>=3.8.0->gremlinpython<4.0.0,>=3.5.2->awswrangler) (1.8.1)\n",
      "Requirement already satisfied: frozenlist>=1.1.1 in /home/ec2-user/anaconda3/envs/python3/lib/python3.10/site-packages (from aiohttp<=3.8.1,>=3.8.0->gremlinpython<4.0.0,>=3.5.2->awswrangler) (1.3.1)\n",
      "Requirement already satisfied: attrs>=17.3.0 in /home/ec2-user/anaconda3/envs/python3/lib/python3.10/site-packages (from aiohttp<=3.8.1,>=3.8.0->gremlinpython<4.0.0,>=3.5.2->awswrangler) (22.1.0)\n",
      "Requirement already satisfied: soupsieve>1.2 in /home/ec2-user/anaconda3/envs/python3/lib/python3.10/site-packages (from beautifulsoup4<5.0.0,>=4.7.0->redshift-connector<2.1.0,>=2.0.889->awswrangler) (2.3.2.post1)\n",
      "Requirement already satisfied: idna<4,>=2.5 in /home/ec2-user/anaconda3/envs/python3/lib/python3.10/site-packages (from requests<3.0.0,>=2.4.0->opensearch-py<3,>=1->awswrangler) (3.4)\n",
      "Collecting asn1crypto>=1.5.1\n",
      "  Downloading asn1crypto-1.5.1-py2.py3-none-any.whl (105 kB)\n",
      "\u001b[2K     \u001b[90m━━━━━━━━━━━━━━━━━━━━━━━━━━━━━━━━━━━━━━━\u001b[0m \u001b[32m105.0/105.0 kB\u001b[0m \u001b[31m1.9 MB/s\u001b[0m eta \u001b[36m0:00:00\u001b[0m00:01\u001b[0m\n",
      "\u001b[?25hRequirement already satisfied: pyparsing!=3.0.5,>=2.0.2 in /home/ec2-user/anaconda3/envs/python3/lib/python3.10/site-packages (from packaging->redshift-connector<2.1.0,>=2.0.889->awswrangler) (3.0.9)\n",
      "Installing collected packages: asn1crypto, aenum, scramp, python-utils, pymysql, pyarrow, lxml, jsonpath-ng, isodate, backoff, requests-aws4auth, progressbar2, pg8000, opensearch-py, botocore, aiohttp, gremlinpython, redshift-connector, awswrangler\n",
      "  Attempting uninstall: botocore\n",
      "    Found existing installation: botocore 1.24.19\n",
      "    Uninstalling botocore-1.24.19:\n",
      "      Successfully uninstalled botocore-1.24.19\n",
      "  Attempting uninstall: aiohttp\n",
      "    Found existing installation: aiohttp 3.8.3\n",
      "    Uninstalling aiohttp-3.8.3:\n",
      "      Successfully uninstalled aiohttp-3.8.3\n",
      "\u001b[31mERROR: pip's dependency resolver does not currently take into account all the packages that are installed. This behaviour is the source of the following dependency conflicts.\n",
      "awscli 1.27.44 requires botocore==1.29.44, but you have botocore 1.29.54 which is incompatible.\n",
      "aiobotocore 2.0.1 requires botocore<1.22.9,>=1.22.8, but you have botocore 1.29.54 which is incompatible.\u001b[0m\u001b[31m\n",
      "\u001b[0mSuccessfully installed aenum-3.1.11 aiohttp-3.8.1 asn1crypto-1.5.1 awswrangler-2.19.0 backoff-2.2.1 botocore-1.29.54 gremlinpython-3.6.1 isodate-0.6.1 jsonpath-ng-1.5.3 lxml-4.9.2 opensearch-py-2.0.1 pg8000-1.29.4 progressbar2-4.2.0 pyarrow-10.0.1 pymysql-1.0.2 python-utils-3.4.5 redshift-connector-2.0.909 requests-aws4auth-1.2.0 scramp-1.4.4\n"
     ]
    }
   ],
   "source": [
    "#!pip install sagemaker==2.127.0\n",
    "!pip install awswrangler"
   ]
  },
  {
   "cell_type": "code",
   "execution_count": 2,
   "id": "fc49bb0d-54f4-4b27-ba92-197b9f9245b7",
   "metadata": {},
   "outputs": [],
   "source": [
    "import os\n",
    "import pandas as pd\n",
    "import numpy as np\n",
    "import datetime\n",
    "from datetime import datetime\n",
    "import time\n",
    "import json\n",
    "import matplotlib.pyplot as plt\n",
    "import seaborn as sns\n",
    "import sklearn\n",
    "import boto3\n",
    "import sagemaker\n",
    "import awswrangler as wr"
   ]
  },
  {
   "cell_type": "code",
   "execution_count": 3,
   "id": "b58a018a-1467-48fa-a9ad-975d7935f9b2",
   "metadata": {},
   "outputs": [],
   "source": [
    "import utils\n",
    "import preprocessing"
   ]
  },
  {
   "cell_type": "markdown",
   "id": "ac948fb9",
   "metadata": {},
   "source": [
    "### 0.3 Load Data"
   ]
  },
  {
   "cell_type": "markdown",
   "id": "201d1fbd",
   "metadata": {},
   "source": [
    "#### (!) Due to multiple issues caused by the size of the train_df file, all files will be uploaded to a S3 location as parquet files and loaded from there. "
   ]
  },
  {
   "cell_type": "code",
   "execution_count": 4,
   "id": "34ffaf14-9691-42eb-9fef-da502c836a63",
   "metadata": {},
   "outputs": [],
   "source": [
    "train_data = wr.s3.read_parquet('s3://think-tank-casestudy/raw_data/train_data.parquet')\n",
    "test_data = wr.s3.read_parquet('s3://think-tank-casestudy/raw_data/test_data.parquet')"
   ]
  },
  {
   "cell_type": "code",
   "execution_count": 5,
   "id": "b2d4438c",
   "metadata": {},
   "outputs": [],
   "source": [
    "#sample_submission = pd.read_csv('data/sampleSubmission.csv', header=0, index_col=False)\n",
    "#sample_submission.head()"
   ]
  },
  {
   "cell_type": "markdown",
   "id": "04f3c497",
   "metadata": {},
   "source": [
    "Target prediction is longitude and latitude for each TRIP in test_data --> **MULTI REGRESSION OUTPUT**\n",
    "Relevant for modelling later on"
   ]
  },
  {
   "cell_type": "code",
   "execution_count": 6,
   "id": "f0e29098",
   "metadata": {},
   "outputs": [
    {
     "name": "stdout",
     "output_type": "stream",
     "text": [
      "A    1710670\n",
      "Name: DAY_TYPE, dtype: Int64\n",
      "A    320\n",
      "Name: DAY_TYPE, dtype: Int64\n"
     ]
    }
   ],
   "source": [
    "print(train_data.DAY_TYPE.value_counts())\n",
    "print(test_data.DAY_TYPE.value_counts())"
   ]
  },
  {
   "cell_type": "markdown",
   "id": "ff5d3a7c",
   "metadata": {},
   "source": [
    "DAY_TYPE is not mentioned in list of attributes and attribute is uniformly distributed for both train and test data --> no information gain and can therefore be dropped"
   ]
  },
  {
   "cell_type": "code",
   "execution_count": 5,
   "id": "64f4fb91",
   "metadata": {},
   "outputs": [],
   "source": [
    "train_data = train_data.drop(train_data.columns[0],axis=1).drop(['DAY_TYPE'],axis=1)\n",
    "test_data = test_data.drop(['DAY_TYPE'], axis=1)"
   ]
  },
  {
   "cell_type": "code",
   "execution_count": 6,
   "id": "d2bde36b",
   "metadata": {},
   "outputs": [],
   "source": [
    "train_data = utils.adjust_datatypes(train_data)\n",
    "test_data = utils.adjust_datatypes(test_data)"
   ]
  },
  {
   "cell_type": "code",
   "execution_count": 7,
   "id": "3e81075f",
   "metadata": {},
   "outputs": [
    {
     "name": "stdout",
     "output_type": "stream",
     "text": [
      "2013-07-01 00:00:53\n",
      "2014-06-30 23:59:56\n",
      "2014-08-14 16:02:23\n",
      "2014-12-21 14:29:19\n"
     ]
    }
   ],
   "source": [
    "print(train_data.TIMESTAMP_DT.min())\n",
    "print(train_data.TIMESTAMP_DT.max())\n",
    "print(test_data.TIMESTAMP_DT.min())\n",
    "print(test_data.TIMESTAMP_DT.max())"
   ]
  },
  {
   "cell_type": "markdown",
   "id": "a5add455",
   "metadata": {},
   "source": [
    "All dates are in previously defined valid ranges"
   ]
  },
  {
   "cell_type": "markdown",
   "id": "ec3dc64f",
   "metadata": {},
   "source": [
    "### 0.4 Sanity Checks"
   ]
  },
  {
   "cell_type": "code",
   "execution_count": 8,
   "id": "24d68863",
   "metadata": {},
   "outputs": [],
   "source": [
    "#Assert that train and test data have same column shape and attributes\n",
    "def perform_sanity_checks():\n",
    "    try:\n",
    "        assert(train_data.shape[1] == test_data.shape[1])\n",
    "        print(\"Column shape train vs test passed\")\n",
    "        assert((train_data.columns == test_data.columns).all())\n",
    "        print(\"Column naming train vs test passed\")\n",
    "        assert(train_data.TRIP_ID.nunique() == train_data.shape[0])\n",
    "        print(\"Check for unique trips passed - train data\")\n",
    "        assert(test_data.TRIP_ID.nunique() == test_data.shape[0])\n",
    "        print(\"Check for unique trips passed - test data\")\n",
    "        print('All checks passed!')\n",
    "    except:\n",
    "        print(\"Sanity Check failed\")"
   ]
  },
  {
   "cell_type": "code",
   "execution_count": 9,
   "id": "a1ef81d9",
   "metadata": {},
   "outputs": [
    {
     "name": "stdout",
     "output_type": "stream",
     "text": [
      "Column shape train vs test passed\n",
      "Column naming train vs test passed\n",
      "Sanity Check failed\n"
     ]
    }
   ],
   "source": [
    "perform_sanity_checks()"
   ]
  },
  {
   "cell_type": "markdown",
   "id": "f5377f66",
   "metadata": {},
   "source": [
    "### 0.5 Cleaning Data"
   ]
  },
  {
   "cell_type": "markdown",
   "id": "7c6ed32b",
   "metadata": {},
   "source": [
    "#### 0.5.1 NAN/Null Missing values"
   ]
  },
  {
   "cell_type": "code",
   "execution_count": 10,
   "id": "72ba67ba",
   "metadata": {},
   "outputs": [
    {
     "data": {
      "text/plain": [
       "TRIP_ID               0\n",
       "CALL_TYPE             0\n",
       "ORIGIN_CALL     1345900\n",
       "ORIGIN_STAND     904091\n",
       "TAXI_ID               0\n",
       "TIMESTAMP             0\n",
       "MISSING_DATA          0\n",
       "POLYLINE              0\n",
       "WEATHER               0\n",
       "TIMESTAMP_DT          0\n",
       "dtype: int64"
      ]
     },
     "execution_count": 10,
     "metadata": {},
     "output_type": "execute_result"
    }
   ],
   "source": [
    "train_data.isnull().sum()"
   ]
  },
  {
   "cell_type": "code",
   "execution_count": 11,
   "id": "b5088d90",
   "metadata": {
    "scrolled": true
   },
   "outputs": [
    {
     "data": {
      "text/plain": [
       "TRIP_ID           0\n",
       "CALL_TYPE         0\n",
       "ORIGIN_CALL     248\n",
       "ORIGIN_STAND    197\n",
       "TAXI_ID           0\n",
       "TIMESTAMP         0\n",
       "MISSING_DATA      0\n",
       "POLYLINE          0\n",
       "WEATHER           0\n",
       "TIMESTAMP_DT      0\n",
       "dtype: int64"
      ]
     },
     "execution_count": 11,
     "metadata": {},
     "output_type": "execute_result"
    }
   ],
   "source": [
    "test_data.isnull().sum()"
   ]
  },
  {
   "cell_type": "markdown",
   "id": "98693a1b",
   "metadata": {},
   "source": [
    "ORIGIN_CALL and ORIGIN_STAND have null values which is to be expected as they are determined dependent on the call type"
   ]
  },
  {
   "cell_type": "markdown",
   "id": "b24ae5af",
   "metadata": {},
   "source": [
    "#### 0.5.2 Duplicated TRIP_IDs\n",
    "The Sanity Checks in 0.4 showed that the TRIP_IDs are not unique. "
   ]
  },
  {
   "cell_type": "code",
   "execution_count": 12,
   "id": "0e017b87",
   "metadata": {},
   "outputs": [
    {
     "name": "stdout",
     "output_type": "stream",
     "text": [
      "80 TRIP_IDs are duplicated\n",
      "0.0046767516919610725 % out of all unique TRIPs.\n"
     ]
    }
   ],
   "source": [
    "vc = train_data.TRIP_ID.value_counts().reset_index()\n",
    "DUPLICATED_IDs = vc[vc.TRIP_ID > 1]['index'].unique()\n",
    "print(f'{len(DUPLICATED_IDs)} TRIP_IDs are duplicated')\n",
    "print(f'{(len(DUPLICATED_IDs)/train_data.TRIP_ID.nunique()*100)} % out of all unique TRIPs.')"
   ]
  },
  {
   "cell_type": "markdown",
   "id": "6d0bc54e",
   "metadata": {},
   "source": [
    "**Findings**:\n",
    "- 159 cases\n",
    "- Missing Data == False for all cases\n",
    "- 80 TRIP_IDs are duplicated\n",
    "- Affected data is insignifcant (less than 1% of all  TRIPs)\n",
    "\n",
    "**Assumptions**:\n",
    "- Potential reasons could be cancellation by dispatcher after a person called for some reasons, failed flight attempts, broken flight taxi etc.\n",
    "- The trips per ID with the longest POLYLINE are kept as these are assumed to be valid trips. Additionally trips with no POLYLINE or only one coordinate point are assumed invalid and filtered from the dataset. \n",
    "- Also it is assumed that only POLYLINEs with at least 10 coordinate points are sufficient. \n",
    "- Further investigation will should be done and analyzed together with sensor/technical data from flight taxi. Also the reason could be that a flight is interrupted and re-started again, that could be analyzed by plotting the POLYLINE and compare the start and end point of the duplicated TRIPs. Will be part of further optimization\n",
    "\n",
    "To do as mentioned in Assumptions, the number of points in the POLYLINE needs to be calculated. In addition we calculate the total flight time at this point."
   ]
  },
  {
   "cell_type": "markdown",
   "id": "69791552",
   "metadata": {},
   "source": [
    "#### 0.5.3 Data Cleaning POLYLINE\n",
    "To do cleaning regarding the POLYLINE, a few more attributes are calculated:\n",
    "- N_COORDINATE_POINTS - number of total points\n",
    "- TOTAL_FLIGHT_TIME_SECONDS, TOTAL_FLIGHT_TIME_MINUTES - flight time total\n",
    "- START_POINT - Starting point for each trip\n",
    "- DEST_POINT - Last point for each trip \n",
    "- TOTAL_DISTANCE - total distance of trip in km with haversine formulam"
   ]
  },
  {
   "cell_type": "code",
   "execution_count": 17,
   "id": "3e0321d4-41de-4445-8f73-d44b8ba1df94",
   "metadata": {},
   "outputs": [],
   "source": [
    "train_data = preprocessing.calculate_POLYLINE_features(train_data)\n",
    "test_data = preprocessing.calculate_POLYLINE_features(test_data)"
   ]
  },
  {
   "cell_type": "code",
   "execution_count": 18,
   "id": "cfb1209d-11b5-4015-9b6c-dfad8be939c1",
   "metadata": {},
   "outputs": [],
   "source": [
    "train_data = preprocessing.filter_invalid_trips(train_data)\n",
    "test_data = preprocessing.filter_invalid_trips(test_data)"
   ]
  },
  {
   "cell_type": "code",
   "execution_count": 19,
   "id": "79e3e66b",
   "metadata": {
    "scrolled": true,
    "tags": []
   },
   "outputs": [
    {
     "name": "stderr",
     "output_type": "stream",
     "text": [
      "/Users/julia.hehl/PycharmProjects/thinktank_casestudy/preprocessing.py:66: SettingWithCopyWarning: \n",
      "A value is trying to be set on a copy of a slice from a DataFrame.\n",
      "Try using .loc[row_indexer,col_indexer] = value instead\n",
      "\n",
      "See the caveats in the documentation: https://pandas.pydata.org/pandas-docs/stable/user_guide/indexing.html#returning-a-view-versus-a-copy\n",
      "  data['START_POINT'] = data['POLYLINE'].apply(lambda value: value[0])\n",
      "/Users/julia.hehl/PycharmProjects/thinktank_casestudy/preprocessing.py:67: SettingWithCopyWarning: \n",
      "A value is trying to be set on a copy of a slice from a DataFrame.\n",
      "Try using .loc[row_indexer,col_indexer] = value instead\n",
      "\n",
      "See the caveats in the documentation: https://pandas.pydata.org/pandas-docs/stable/user_guide/indexing.html#returning-a-view-versus-a-copy\n",
      "  data['DEST_POINT'] = data['POLYLINE'].apply(lambda value: value[-1])\n",
      "/Users/julia.hehl/PycharmProjects/thinktank_casestudy/preprocessing.py:68: SettingWithCopyWarning: \n",
      "A value is trying to be set on a copy of a slice from a DataFrame.\n",
      "Try using .loc[row_indexer,col_indexer] = value instead\n",
      "\n",
      "See the caveats in the documentation: https://pandas.pydata.org/pandas-docs/stable/user_guide/indexing.html#returning-a-view-versus-a-copy\n",
      "  data['TOTAL_DISTANCE_KM'] = data.apply(lambda row:\n"
     ]
    }
   ],
   "source": [
    "train_data = preprocessing.calculate_total_distance(train_data)\n",
    "test_data = preprocessing.calculate_total_distance(test_data)"
   ]
  },
  {
   "cell_type": "code",
   "execution_count": 20,
   "id": "fd1d516f",
   "metadata": {
    "scrolled": true
   },
   "outputs": [
    {
     "name": "stderr",
     "output_type": "stream",
     "text": [
      "/var/folders/98/blj_ctsx7kj90yq1wpxpkthh0000gn/T/ipykernel_2394/2068669544.py:1: SettingWithCopyWarning: \n",
      "A value is trying to be set on a copy of a slice from a DataFrame.\n",
      "Try using .loc[row_indexer,col_indexer] = value instead\n",
      "\n",
      "See the caveats in the documentation: https://pandas.pydata.org/pandas-docs/stable/user_guide/indexing.html#returning-a-view-versus-a-copy\n",
      "  train_data['SEQUENCE'] = train_data.POLYLINE.apply(lambda row: np.hstack(row))\n"
     ]
    }
   ],
   "source": [
    "train_data['SEQUENCE'] = train_data.POLYLINE.apply(lambda row: np.hstack(row))\n",
    "test_data['SEQUENCE'] = test_data.POLYLINE.apply(lambda row: np.hstack(row))"
   ]
  },
  {
   "cell_type": "code",
   "execution_count": 21,
   "id": "e34594ba",
   "metadata": {},
   "outputs": [],
   "source": [
    "train_data = train_data.drop(['POLYLINE'],axis=1)\n",
    "test_data = test_data.drop(['POLYLINE'],axis=1)"
   ]
  },
  {
   "cell_type": "markdown",
   "id": "e5b1825f",
   "metadata": {},
   "source": [
    "#### 0.5.4 MISSING_DATA == TRUE"
   ]
  },
  {
   "cell_type": "code",
   "execution_count": 22,
   "id": "35352209",
   "metadata": {},
   "outputs": [
    {
     "name": "stdout",
     "output_type": "stream",
     "text": [
      "Train Data: 8 Trips with MISSING_DATA == True\n"
     ]
    }
   ],
   "source": [
    "print(f'Train Data: {train_data.MISSING_DATA.value_counts()[1]} Trips with MISSING_DATA == True')"
   ]
  },
  {
   "cell_type": "code",
   "execution_count": 23,
   "id": "48b5cbfa",
   "metadata": {},
   "outputs": [
    {
     "data": {
      "text/plain": [
       "False    269\n",
       "Name: MISSING_DATA, dtype: Int64"
      ]
     },
     "execution_count": 23,
     "metadata": {},
     "output_type": "execute_result"
    }
   ],
   "source": [
    "test_data.MISSING_DATA.value_counts()"
   ]
  },
  {
   "cell_type": "code",
   "execution_count": 24,
   "id": "779cb316",
   "metadata": {
    "scrolled": true
   },
   "outputs": [
    {
     "data": {
      "text/html": [
       "<div>\n",
       "<style scoped>\n",
       "    .dataframe tbody tr th:only-of-type {\n",
       "        vertical-align: middle;\n",
       "    }\n",
       "\n",
       "    .dataframe tbody tr th {\n",
       "        vertical-align: top;\n",
       "    }\n",
       "\n",
       "    .dataframe thead th {\n",
       "        text-align: right;\n",
       "    }\n",
       "</style>\n",
       "<table border=\"1\" class=\"dataframe\">\n",
       "  <thead>\n",
       "    <tr style=\"text-align: right;\">\n",
       "      <th></th>\n",
       "      <th>TRIP_ID</th>\n",
       "      <th>CALL_TYPE</th>\n",
       "      <th>ORIGIN_CALL</th>\n",
       "      <th>ORIGIN_STAND</th>\n",
       "      <th>TAXI_ID</th>\n",
       "      <th>TIMESTAMP</th>\n",
       "      <th>MISSING_DATA</th>\n",
       "      <th>WEATHER</th>\n",
       "      <th>TIMESTAMP_DT</th>\n",
       "      <th>N_COORDINATE_POINTS</th>\n",
       "      <th>TOTAL_FLIGHT_TIME_SECONDS</th>\n",
       "      <th>TOTAL_FLIGHT_TIME_MINUTES</th>\n",
       "      <th>START_POINT</th>\n",
       "      <th>DEST_POINT</th>\n",
       "      <th>TOTAL_DISTANCE_KM</th>\n",
       "      <th>SEQUENCE</th>\n",
       "    </tr>\n",
       "  </thead>\n",
       "  <tbody>\n",
       "    <tr>\n",
       "      <th>105621</th>\n",
       "      <td>1374554455620000625</td>\n",
       "      <td>B</td>\n",
       "      <td>NaN</td>\n",
       "      <td>23.0</td>\n",
       "      <td>20000625</td>\n",
       "      <td>1374554455</td>\n",
       "      <td>True</td>\n",
       "      <td>Sunny</td>\n",
       "      <td>2013-07-23 06:40:55</td>\n",
       "      <td>43</td>\n",
       "      <td>630</td>\n",
       "      <td>10.50</td>\n",
       "      <td>[-8.612559, 41.145975]</td>\n",
       "      <td>[-8.603307, 41.124177]</td>\n",
       "      <td>2.608008</td>\n",
       "      <td>[-8.612559, 41.145975, -8.612577, 41.145975, -...</td>\n",
       "    </tr>\n",
       "    <tr>\n",
       "      <th>299137</th>\n",
       "      <td>1378544246620000057</td>\n",
       "      <td>B</td>\n",
       "      <td>NaN</td>\n",
       "      <td>55.0</td>\n",
       "      <td>20000057</td>\n",
       "      <td>1378544246</td>\n",
       "      <td>True</td>\n",
       "      <td>Rainy</td>\n",
       "      <td>2013-09-07 10:57:26</td>\n",
       "      <td>11</td>\n",
       "      <td>150</td>\n",
       "      <td>2.50</td>\n",
       "      <td>[-8.569719, 41.166135]</td>\n",
       "      <td>[-8.555976, 41.277636]</td>\n",
       "      <td>12.355013</td>\n",
       "      <td>[-8.569719, 41.166135, -8.567928, 41.166477, -...</td>\n",
       "    </tr>\n",
       "    <tr>\n",
       "      <th>457486</th>\n",
       "      <td>1381233613620000387</td>\n",
       "      <td>C</td>\n",
       "      <td>NaN</td>\n",
       "      <td>NaN</td>\n",
       "      <td>20000387</td>\n",
       "      <td>1381233613</td>\n",
       "      <td>True</td>\n",
       "      <td>Foggy</td>\n",
       "      <td>2013-10-08 14:00:13</td>\n",
       "      <td>483</td>\n",
       "      <td>7230</td>\n",
       "      <td>120.50</td>\n",
       "      <td>[-8.626347, 41.153436]</td>\n",
       "      <td>[-8.643879, 41.158908]</td>\n",
       "      <td>2.040173</td>\n",
       "      <td>[-8.626347, 41.153436, -8.626275, 41.152905, -...</td>\n",
       "    </tr>\n",
       "    <tr>\n",
       "      <th>738466</th>\n",
       "      <td>1386346894620000904</td>\n",
       "      <td>C</td>\n",
       "      <td>NaN</td>\n",
       "      <td>NaN</td>\n",
       "      <td>20000904</td>\n",
       "      <td>1386346894</td>\n",
       "      <td>True</td>\n",
       "      <td>Rainy</td>\n",
       "      <td>2013-12-06 17:21:34</td>\n",
       "      <td>285</td>\n",
       "      <td>4260</td>\n",
       "      <td>71.00</td>\n",
       "      <td>[-8.652816, 40.636575]</td>\n",
       "      <td>[-7.990911, 41.337756]</td>\n",
       "      <td>106.623590</td>\n",
       "      <td>[-8.652816, 40.636575, -8.652807, 40.636566, -...</td>\n",
       "    </tr>\n",
       "    <tr>\n",
       "      <th>782321</th>\n",
       "      <td>1387137779620000640</td>\n",
       "      <td>C</td>\n",
       "      <td>NaN</td>\n",
       "      <td>NaN</td>\n",
       "      <td>20000640</td>\n",
       "      <td>1387137779</td>\n",
       "      <td>True</td>\n",
       "      <td>Rainy</td>\n",
       "      <td>2013-12-15 21:02:59</td>\n",
       "      <td>51</td>\n",
       "      <td>750</td>\n",
       "      <td>12.50</td>\n",
       "      <td>[-8.604558, 41.161941]</td>\n",
       "      <td>[-8.653482, 41.174937]</td>\n",
       "      <td>5.624586</td>\n",
       "      <td>[-8.604558, 41.161941, -8.604477, 41.162013, -...</td>\n",
       "    </tr>\n",
       "    <tr>\n",
       "      <th>848552</th>\n",
       "      <td>1388351478620000678</td>\n",
       "      <td>A</td>\n",
       "      <td>9738.0</td>\n",
       "      <td>NaN</td>\n",
       "      <td>20000678</td>\n",
       "      <td>1388351478</td>\n",
       "      <td>True</td>\n",
       "      <td>Rainy</td>\n",
       "      <td>2013-12-29 22:11:18</td>\n",
       "      <td>27</td>\n",
       "      <td>390</td>\n",
       "      <td>6.50</td>\n",
       "      <td>[-8.609697, 41.160276]</td>\n",
       "      <td>[-8.629848, 41.151492]</td>\n",
       "      <td>2.439933</td>\n",
       "      <td>[-8.609697, 41.160276, -8.609571, 41.16033, -8...</td>\n",
       "    </tr>\n",
       "    <tr>\n",
       "      <th>932391</th>\n",
       "      <td>1390005983620000640</td>\n",
       "      <td>C</td>\n",
       "      <td>NaN</td>\n",
       "      <td>NaN</td>\n",
       "      <td>20000640</td>\n",
       "      <td>1390005983</td>\n",
       "      <td>True</td>\n",
       "      <td>Rainy</td>\n",
       "      <td>2014-01-18 01:46:23</td>\n",
       "      <td>14</td>\n",
       "      <td>195</td>\n",
       "      <td>3.25</td>\n",
       "      <td>[-8.604792, 41.16123]</td>\n",
       "      <td>[-8.611047, 41.149485]</td>\n",
       "      <td>1.466677</td>\n",
       "      <td>[-8.604792, 41.16123, -8.604801, 41.161167, -8...</td>\n",
       "    </tr>\n",
       "    <tr>\n",
       "      <th>1432196</th>\n",
       "      <td>1399405185620000508</td>\n",
       "      <td>C</td>\n",
       "      <td>NaN</td>\n",
       "      <td>NaN</td>\n",
       "      <td>20000508</td>\n",
       "      <td>1399405185</td>\n",
       "      <td>True</td>\n",
       "      <td>Rainy</td>\n",
       "      <td>2014-05-06 21:39:45</td>\n",
       "      <td>53</td>\n",
       "      <td>780</td>\n",
       "      <td>13.00</td>\n",
       "      <td>[-8.620011, 41.14683]</td>\n",
       "      <td>[-8.578656, 41.145696]</td>\n",
       "      <td>4.600156</td>\n",
       "      <td>[-8.620011, 41.14683, -8.619957, 41.146659, -8...</td>\n",
       "    </tr>\n",
       "  </tbody>\n",
       "</table>\n",
       "</div>"
      ],
      "text/plain": [
       "                     TRIP_ID CALL_TYPE ORIGIN_CALL ORIGIN_STAND   TAXI_ID  \\\n",
       "105621   1374554455620000625         B         NaN         23.0  20000625   \n",
       "299137   1378544246620000057         B         NaN         55.0  20000057   \n",
       "457486   1381233613620000387         C         NaN          NaN  20000387   \n",
       "738466   1386346894620000904         C         NaN          NaN  20000904   \n",
       "782321   1387137779620000640         C         NaN          NaN  20000640   \n",
       "848552   1388351478620000678         A      9738.0          NaN  20000678   \n",
       "932391   1390005983620000640         C         NaN          NaN  20000640   \n",
       "1432196  1399405185620000508         C         NaN          NaN  20000508   \n",
       "\n",
       "          TIMESTAMP  MISSING_DATA WEATHER        TIMESTAMP_DT  \\\n",
       "105621   1374554455          True   Sunny 2013-07-23 06:40:55   \n",
       "299137   1378544246          True   Rainy 2013-09-07 10:57:26   \n",
       "457486   1381233613          True   Foggy 2013-10-08 14:00:13   \n",
       "738466   1386346894          True   Rainy 2013-12-06 17:21:34   \n",
       "782321   1387137779          True   Rainy 2013-12-15 21:02:59   \n",
       "848552   1388351478          True   Rainy 2013-12-29 22:11:18   \n",
       "932391   1390005983          True   Rainy 2014-01-18 01:46:23   \n",
       "1432196  1399405185          True   Rainy 2014-05-06 21:39:45   \n",
       "\n",
       "         N_COORDINATE_POINTS  TOTAL_FLIGHT_TIME_SECONDS  \\\n",
       "105621                    43                        630   \n",
       "299137                    11                        150   \n",
       "457486                   483                       7230   \n",
       "738466                   285                       4260   \n",
       "782321                    51                        750   \n",
       "848552                    27                        390   \n",
       "932391                    14                        195   \n",
       "1432196                   53                        780   \n",
       "\n",
       "         TOTAL_FLIGHT_TIME_MINUTES             START_POINT  \\\n",
       "105621                       10.50  [-8.612559, 41.145975]   \n",
       "299137                        2.50  [-8.569719, 41.166135]   \n",
       "457486                      120.50  [-8.626347, 41.153436]   \n",
       "738466                       71.00  [-8.652816, 40.636575]   \n",
       "782321                       12.50  [-8.604558, 41.161941]   \n",
       "848552                        6.50  [-8.609697, 41.160276]   \n",
       "932391                        3.25   [-8.604792, 41.16123]   \n",
       "1432196                      13.00   [-8.620011, 41.14683]   \n",
       "\n",
       "                     DEST_POINT  TOTAL_DISTANCE_KM  \\\n",
       "105621   [-8.603307, 41.124177]           2.608008   \n",
       "299137   [-8.555976, 41.277636]          12.355013   \n",
       "457486   [-8.643879, 41.158908]           2.040173   \n",
       "738466   [-7.990911, 41.337756]         106.623590   \n",
       "782321   [-8.653482, 41.174937]           5.624586   \n",
       "848552   [-8.629848, 41.151492]           2.439933   \n",
       "932391   [-8.611047, 41.149485]           1.466677   \n",
       "1432196  [-8.578656, 41.145696]           4.600156   \n",
       "\n",
       "                                                  SEQUENCE  \n",
       "105621   [-8.612559, 41.145975, -8.612577, 41.145975, -...  \n",
       "299137   [-8.569719, 41.166135, -8.567928, 41.166477, -...  \n",
       "457486   [-8.626347, 41.153436, -8.626275, 41.152905, -...  \n",
       "738466   [-8.652816, 40.636575, -8.652807, 40.636566, -...  \n",
       "782321   [-8.604558, 41.161941, -8.604477, 41.162013, -...  \n",
       "848552   [-8.609697, 41.160276, -8.609571, 41.16033, -8...  \n",
       "932391   [-8.604792, 41.16123, -8.604801, 41.161167, -8...  \n",
       "1432196  [-8.620011, 41.14683, -8.619957, 41.146659, -8...  "
      ]
     },
     "execution_count": 24,
     "metadata": {},
     "output_type": "execute_result"
    }
   ],
   "source": [
    "train_data[train_data.MISSING_DATA == True]"
   ]
  },
  {
   "cell_type": "markdown",
   "id": "4983008b",
   "metadata": {},
   "source": [
    "- Amount of data with missing values insignificant compared to total amount of data\n",
    "- Majority of trips is WEATHER == Rainy, however total amount of trips is not significant enought to draw a conclusion/make an assumption\n",
    "- Number of points/length of polyline is in general unequal so there is no indication in that sense how much data is missing, also no information if data is missing at the start/middle or end of POLYLINE \n",
    "\n",
    "Based on these Findings, I would simply drop these values, mainly as their effect is expected to be very little. If the number of data samples would be higher, I would try to impute the missing coordinates in this case with the Nearest Neighbour. However the problem of knowing if the cooordinates are missing in start/middle/end would prevail. In case I find very similar trips through additional logic (difference in n_coordinate_points <= 5 and overall_distance between points < threshold) I could minimize this problem. These tasks could be part of further optimization."
   ]
  },
  {
   "cell_type": "code",
   "execution_count": 25,
   "id": "12ebbd47",
   "metadata": {},
   "outputs": [],
   "source": [
    "train_data = train_data[train_data.MISSING_DATA != True]"
   ]
  },
  {
   "cell_type": "markdown",
   "id": "ddf675a9",
   "metadata": {},
   "source": [
    "#### 0.5.5 OUTLIER\n",
    "To handle the outliers, we look at statistical indicators and plot the boxplot."
   ]
  },
  {
   "cell_type": "code",
   "execution_count": 26,
   "id": "8d882f1a",
   "metadata": {},
   "outputs": [
    {
     "data": {
      "text/html": [
       "<div>\n",
       "<style scoped>\n",
       "    .dataframe tbody tr th:only-of-type {\n",
       "        vertical-align: middle;\n",
       "    }\n",
       "\n",
       "    .dataframe tbody tr th {\n",
       "        vertical-align: top;\n",
       "    }\n",
       "\n",
       "    .dataframe thead th {\n",
       "        text-align: right;\n",
       "    }\n",
       "</style>\n",
       "<table border=\"1\" class=\"dataframe\">\n",
       "  <thead>\n",
       "    <tr style=\"text-align: right;\">\n",
       "      <th></th>\n",
       "      <th>TRIP_ID</th>\n",
       "      <th>CALL_TYPE</th>\n",
       "      <th>ORIGIN_CALL</th>\n",
       "      <th>ORIGIN_STAND</th>\n",
       "      <th>TAXI_ID</th>\n",
       "      <th>TIMESTAMP</th>\n",
       "      <th>MISSING_DATA</th>\n",
       "      <th>WEATHER</th>\n",
       "      <th>TIMESTAMP_DT</th>\n",
       "      <th>N_COORDINATE_POINTS</th>\n",
       "      <th>TOTAL_FLIGHT_TIME_SECONDS</th>\n",
       "      <th>TOTAL_FLIGHT_TIME_MINUTES</th>\n",
       "      <th>START_POINT</th>\n",
       "      <th>DEST_POINT</th>\n",
       "      <th>TOTAL_DISTANCE_KM</th>\n",
       "      <th>SEQUENCE</th>\n",
       "    </tr>\n",
       "  </thead>\n",
       "  <tbody>\n",
       "    <tr>\n",
       "      <th>0</th>\n",
       "      <td>1372636858620000589</td>\n",
       "      <td>C</td>\n",
       "      <td>NaN</td>\n",
       "      <td>NaN</td>\n",
       "      <td>20000589</td>\n",
       "      <td>1372636858</td>\n",
       "      <td>False</td>\n",
       "      <td>Rainy</td>\n",
       "      <td>2013-07-01 02:00:58</td>\n",
       "      <td>23</td>\n",
       "      <td>330</td>\n",
       "      <td>5.5</td>\n",
       "      <td>[-8.618643, 41.141412]</td>\n",
       "      <td>[-8.630838, 41.154489]</td>\n",
       "      <td>1.976270</td>\n",
       "      <td>[-8.618643, 41.141412, -8.618499, 41.141376, -...</td>\n",
       "    </tr>\n",
       "    <tr>\n",
       "      <th>1</th>\n",
       "      <td>1372637303620000596</td>\n",
       "      <td>B</td>\n",
       "      <td>NaN</td>\n",
       "      <td>7.0</td>\n",
       "      <td>20000596</td>\n",
       "      <td>1372637303</td>\n",
       "      <td>False</td>\n",
       "      <td>Foggy</td>\n",
       "      <td>2013-07-01 02:08:23</td>\n",
       "      <td>19</td>\n",
       "      <td>270</td>\n",
       "      <td>4.5</td>\n",
       "      <td>[-8.639847, 41.159826]</td>\n",
       "      <td>[-8.66574, 41.170671]</td>\n",
       "      <td>3.116235</td>\n",
       "      <td>[-8.639847, 41.159826, -8.640351, 41.159871, -...</td>\n",
       "    </tr>\n",
       "    <tr>\n",
       "      <th>2</th>\n",
       "      <td>1372636951620000320</td>\n",
       "      <td>C</td>\n",
       "      <td>NaN</td>\n",
       "      <td>NaN</td>\n",
       "      <td>20000320</td>\n",
       "      <td>1372636951</td>\n",
       "      <td>False</td>\n",
       "      <td>Rainy</td>\n",
       "      <td>2013-07-01 02:02:31</td>\n",
       "      <td>65</td>\n",
       "      <td>960</td>\n",
       "      <td>16.0</td>\n",
       "      <td>[-8.612964, 41.140359]</td>\n",
       "      <td>[-8.61597, 41.14053]</td>\n",
       "      <td>0.334780</td>\n",
       "      <td>[-8.612964, 41.140359, -8.613378, 41.14035, -8...</td>\n",
       "    </tr>\n",
       "    <tr>\n",
       "      <th>3</th>\n",
       "      <td>1372636854620000520</td>\n",
       "      <td>C</td>\n",
       "      <td>NaN</td>\n",
       "      <td>NaN</td>\n",
       "      <td>20000520</td>\n",
       "      <td>1372636854</td>\n",
       "      <td>False</td>\n",
       "      <td>Cloudy</td>\n",
       "      <td>2013-07-01 02:00:54</td>\n",
       "      <td>43</td>\n",
       "      <td>630</td>\n",
       "      <td>10.5</td>\n",
       "      <td>[-8.574678, 41.151951]</td>\n",
       "      <td>[-8.607996, 41.142915]</td>\n",
       "      <td>3.835687</td>\n",
       "      <td>[-8.574678, 41.151951, -8.574705, 41.151942, -...</td>\n",
       "    </tr>\n",
       "    <tr>\n",
       "      <th>4</th>\n",
       "      <td>1372637091620000337</td>\n",
       "      <td>C</td>\n",
       "      <td>NaN</td>\n",
       "      <td>NaN</td>\n",
       "      <td>20000337</td>\n",
       "      <td>1372637091</td>\n",
       "      <td>False</td>\n",
       "      <td>Windy</td>\n",
       "      <td>2013-07-01 02:04:51</td>\n",
       "      <td>29</td>\n",
       "      <td>420</td>\n",
       "      <td>7.0</td>\n",
       "      <td>[-8.645994, 41.18049]</td>\n",
       "      <td>[-8.687268, 41.178087]</td>\n",
       "      <td>4.597055</td>\n",
       "      <td>[-8.645994, 41.18049, -8.645949, 41.180517, -8...</td>\n",
       "    </tr>\n",
       "  </tbody>\n",
       "</table>\n",
       "</div>"
      ],
      "text/plain": [
       "               TRIP_ID CALL_TYPE ORIGIN_CALL ORIGIN_STAND   TAXI_ID  \\\n",
       "0  1372636858620000589         C         NaN          NaN  20000589   \n",
       "1  1372637303620000596         B         NaN          7.0  20000596   \n",
       "2  1372636951620000320         C         NaN          NaN  20000320   \n",
       "3  1372636854620000520         C         NaN          NaN  20000520   \n",
       "4  1372637091620000337         C         NaN          NaN  20000337   \n",
       "\n",
       "    TIMESTAMP  MISSING_DATA WEATHER        TIMESTAMP_DT  N_COORDINATE_POINTS  \\\n",
       "0  1372636858         False   Rainy 2013-07-01 02:00:58                   23   \n",
       "1  1372637303         False   Foggy 2013-07-01 02:08:23                   19   \n",
       "2  1372636951         False   Rainy 2013-07-01 02:02:31                   65   \n",
       "3  1372636854         False  Cloudy 2013-07-01 02:00:54                   43   \n",
       "4  1372637091         False   Windy 2013-07-01 02:04:51                   29   \n",
       "\n",
       "   TOTAL_FLIGHT_TIME_SECONDS  TOTAL_FLIGHT_TIME_MINUTES  \\\n",
       "0                        330                        5.5   \n",
       "1                        270                        4.5   \n",
       "2                        960                       16.0   \n",
       "3                        630                       10.5   \n",
       "4                        420                        7.0   \n",
       "\n",
       "              START_POINT              DEST_POINT  TOTAL_DISTANCE_KM  \\\n",
       "0  [-8.618643, 41.141412]  [-8.630838, 41.154489]           1.976270   \n",
       "1  [-8.639847, 41.159826]   [-8.66574, 41.170671]           3.116235   \n",
       "2  [-8.612964, 41.140359]    [-8.61597, 41.14053]           0.334780   \n",
       "3  [-8.574678, 41.151951]  [-8.607996, 41.142915]           3.835687   \n",
       "4   [-8.645994, 41.18049]  [-8.687268, 41.178087]           4.597055   \n",
       "\n",
       "                                            SEQUENCE  \n",
       "0  [-8.618643, 41.141412, -8.618499, 41.141376, -...  \n",
       "1  [-8.639847, 41.159826, -8.640351, 41.159871, -...  \n",
       "2  [-8.612964, 41.140359, -8.613378, 41.14035, -8...  \n",
       "3  [-8.574678, 41.151951, -8.574705, 41.151942, -...  \n",
       "4  [-8.645994, 41.18049, -8.645949, 41.180517, -8...  "
      ]
     },
     "execution_count": 26,
     "metadata": {},
     "output_type": "execute_result"
    }
   ],
   "source": [
    "train_data.head()"
   ]
  },
  {
   "cell_type": "code",
   "execution_count": 27,
   "id": "8828bcee",
   "metadata": {
    "scrolled": true
   },
   "outputs": [
    {
     "name": "stderr",
     "output_type": "stream",
     "text": [
      "/Users/julia.hehl/opt/anaconda3/lib/python3.9/site-packages/seaborn/categorical.py:82: FutureWarning: iteritems is deprecated and will be removed in a future version. Use .items instead.\n",
      "  plot_data = [np.asarray(s, float) for k, s in iter_data]\n"
     ]
    },
    {
     "data": {
      "image/png": "[encoded data removed]",
      "text/plain": [
       "<Figure size 720x720 with 1 Axes>"
      ]
     },
     "metadata": {
      "needs_background": "light"
     },
     "output_type": "display_data"
    }
   ],
   "source": [
    "plt.figure(figsize=(10, 10))\n",
    "sns.boxplot(data=train_data[['N_COORDINATE_POINTS','TOTAL_FLIGHT_TIME_MINUTES','TOTAL_DISTANCE_KM']])\n",
    "plt.show()"
   ]
  },
  {
   "cell_type": "markdown",
   "id": "b94ef896",
   "metadata": {},
   "source": [
    "The cotinous attributes show a high number of outliers, with the number of coordinate points the widest spread.\n",
    "To avoid loosing too much data, keeping the 95% quantile of the data regarding the N_COORDINATE_POINTS and TOTAL_DISTANCE seems to be the best choice. "
   ]
  },
  {
   "cell_type": "code",
   "execution_count": 28,
   "id": "6edd5d06",
   "metadata": {},
   "outputs": [],
   "source": [
    "train_data = train_data[(train_data.N_COORDINATE_POINTS <= train_data.N_COORDINATE_POINTS.quantile(0.90))\n",
    "                 & (train_data.TOTAL_DISTANCE_KM <= train_data.TOTAL_DISTANCE_KM.quantile(0.90))]"
   ]
  },
  {
   "cell_type": "code",
   "execution_count": 29,
   "id": "a648c307",
   "metadata": {},
   "outputs": [
    {
     "name": "stderr",
     "output_type": "stream",
     "text": [
      "/Users/julia.hehl/opt/anaconda3/lib/python3.9/site-packages/seaborn/categorical.py:82: FutureWarning: iteritems is deprecated and will be removed in a future version. Use .items instead.\n",
      "  plot_data = [np.asarray(s, float) for k, s in iter_data]\n"
     ]
    },
    {
     "data": {
      "image/png": "[encoded data removed]",
      "text/plain": [
       "<Figure size 720x720 with 1 Axes>"
      ]
     },
     "metadata": {
      "needs_background": "light"
     },
     "output_type": "display_data"
    }
   ],
   "source": [
    "plt.figure(figsize=(10, 10))\n",
    "sns.boxplot(data=train_data[['N_COORDINATE_POINTS','TOTAL_FLIGHT_TIME_MINUTES','TOTAL_DISTANCE_KM']])\n",
    "plt.show()"
   ]
  },
  {
   "cell_type": "markdown",
   "id": "cc39cc8e",
   "metadata": {},
   "source": [
    "We can see some outliers remaining, however the spread is significantly reduced. Outliers in the test data will be kept to avoid too much reduction."
   ]
  },
  {
   "cell_type": "code",
   "execution_count": 30,
   "id": "912bb117",
   "metadata": {},
   "outputs": [
    {
     "data": {
      "image/png": "[encoded data removed]",
      "text/plain": [
       "<Figure size 432x288 with 1 Axes>"
      ]
     },
     "metadata": {},
     "output_type": "display_data"
    }
   ],
   "source": [
    "sns.set()\n",
    "plt.hist(train_data.TOTAL_FLIGHT_TIME_MINUTES, \n",
    "         label=f'Post invalid trips N={train_data.shape[0]}')\n",
    "plt.title('Distribution - total flight time in minutes (95% quantile for visualization reasons)')\n",
    "plt.legend()\n",
    "plt.show()"
   ]
  },
  {
   "cell_type": "code",
   "execution_count": 31,
   "id": "095ddc23",
   "metadata": {},
   "outputs": [
    {
     "data": {
      "image/png": "[encoded data removed]",
      "text/plain": [
       "<Figure size 432x288 with 1 Axes>"
      ]
     },
     "metadata": {},
     "output_type": "display_data"
    }
   ],
   "source": [
    "sns.set()\n",
    "plt.hist(train_data.TOTAL_DISTANCE_KM, \n",
    "         label=f'Post invalid trips N={train_data.shape[0]}')\n",
    "plt.title('Distribution - Count total distance km')\n",
    "plt.legend()\n",
    "plt.show()"
   ]
  },
  {
   "cell_type": "markdown",
   "id": "934840d5",
   "metadata": {},
   "source": [
    "The reduction of the training data does not have a major effect on the data distribution. Optimization could be to compare performance with/without outliers "
   ]
  },
  {
   "cell_type": "code",
   "execution_count": 32,
   "id": "ebf36a9d",
   "metadata": {},
   "outputs": [
    {
     "name": "stdout",
     "output_type": "stream",
     "text": [
      "Column shape train vs test passed\n",
      "Column naming train vs test passed\n",
      "Check for unique trips passed - train data\n",
      "Check for unique trips passed - test data\n",
      "All checks passed!\n"
     ]
    }
   ],
   "source": [
    "perform_sanity_checks()"
   ]
  },
  {
   "cell_type": "markdown",
   "id": "384185cd",
   "metadata": {},
   "source": [
    "#### 0.5.5 CALL_TYPE LOGIC"
   ]
  },
  {
   "cell_type": "code",
   "execution_count": 33,
   "id": "5b74a333",
   "metadata": {},
   "outputs": [],
   "source": [
    "def check_call_type(data):\n",
    "    data_A = data[(data.CALL_TYPE == 'A') & (data.ORIGIN_CALL == np.NaN)]\n",
    "    data_B = data[(data.CALL_TYPE == 'B') & (data.ORIGIN_STAND == np.NaN)]\n",
    "    data_C = data[(data.CALL_TYPE == 'C') & (data.ORIGIN_STAND != np.NaN)].ORIGIN_STAND.nunique()\n",
    "    return data_A, data_B, data_C"
   ]
  },
  {
   "cell_type": "code",
   "execution_count": 34,
   "id": "1c2c6a94",
   "metadata": {},
   "outputs": [
    {
     "data": {
      "text/plain": [
       "(Empty DataFrame\n",
       " Columns: [TRIP_ID, CALL_TYPE, ORIGIN_CALL, ORIGIN_STAND, TAXI_ID, TIMESTAMP, MISSING_DATA, WEATHER, TIMESTAMP_DT, N_COORDINATE_POINTS, TOTAL_FLIGHT_TIME_SECONDS, TOTAL_FLIGHT_TIME_MINUTES, START_POINT, DEST_POINT, TOTAL_DISTANCE_KM, SEQUENCE]\n",
       " Index: [],\n",
       " Empty DataFrame\n",
       " Columns: [TRIP_ID, CALL_TYPE, ORIGIN_CALL, ORIGIN_STAND, TAXI_ID, TIMESTAMP, MISSING_DATA, WEATHER, TIMESTAMP_DT, N_COORDINATE_POINTS, TOTAL_FLIGHT_TIME_SECONDS, TOTAL_FLIGHT_TIME_MINUTES, START_POINT, DEST_POINT, TOTAL_DISTANCE_KM, SEQUENCE]\n",
       " Index: [],\n",
       " 0)"
      ]
     },
     "execution_count": 34,
     "metadata": {},
     "output_type": "execute_result"
    }
   ],
   "source": [
    "check_call_type(train_data)"
   ]
  },
  {
   "cell_type": "code",
   "execution_count": 35,
   "id": "2ca47ab5",
   "metadata": {},
   "outputs": [
    {
     "data": {
      "text/plain": [
       "(Empty DataFrame\n",
       " Columns: [TRIP_ID, CALL_TYPE, ORIGIN_CALL, ORIGIN_STAND, TAXI_ID, TIMESTAMP, MISSING_DATA, WEATHER, TIMESTAMP_DT, N_COORDINATE_POINTS, TOTAL_FLIGHT_TIME_SECONDS, TOTAL_FLIGHT_TIME_MINUTES, START_POINT, DEST_POINT, TOTAL_DISTANCE_KM, SEQUENCE]\n",
       " Index: [],\n",
       " Empty DataFrame\n",
       " Columns: [TRIP_ID, CALL_TYPE, ORIGIN_CALL, ORIGIN_STAND, TAXI_ID, TIMESTAMP, MISSING_DATA, WEATHER, TIMESTAMP_DT, N_COORDINATE_POINTS, TOTAL_FLIGHT_TIME_SECONDS, TOTAL_FLIGHT_TIME_MINUTES, START_POINT, DEST_POINT, TOTAL_DISTANCE_KM, SEQUENCE]\n",
       " Index: [],\n",
       " 0)"
      ]
     },
     "execution_count": 35,
     "metadata": {},
     "output_type": "execute_result"
    }
   ],
   "source": [
    "check_call_type(test_data)"
   ]
  },
  {
   "cell_type": "code",
   "execution_count": 36,
   "id": "20c79ef3",
   "metadata": {},
   "outputs": [],
   "source": [
    "train_data.drop(['TIMESTAMP','MISSING_DATA','TOTAL_FLIGHT_TIME_SECONDS'],\n",
    "                axis=1, inplace=True)\n",
    "test_data.drop(['TIMESTAMP','MISSING_DATA','TOTAL_FLIGHT_TIME_SECONDS'],\n",
    "                axis=1, inplace=True)"
   ]
  },
  {
   "cell_type": "code",
   "execution_count": 38,
   "id": "6ddcb8c7",
   "metadata": {},
   "outputs": [
    {
     "name": "stdout",
     "output_type": "stream",
     "text": [
      "<class 'pandas.core.frame.DataFrame'>\n",
      "Int64Index: 1371135 entries, 0 to 1710669\n",
      "Data columns (total 13 columns):\n",
      " #   Column                     Non-Null Count    Dtype         \n",
      "---  ------                     --------------    -----         \n",
      " 0   TRIP_ID                    1371135 non-null  object        \n",
      " 1   CALL_TYPE                  1371135 non-null  object        \n",
      " 2   ORIGIN_CALL                298391 non-null   object        \n",
      " 3   ORIGIN_STAND               689054 non-null   object        \n",
      " 4   TAXI_ID                    1371135 non-null  object        \n",
      " 5   WEATHER                    1371135 non-null  string        \n",
      " 6   TIMESTAMP_DT               1371135 non-null  datetime64[ns]\n",
      " 7   N_COORDINATE_POINTS        1371135 non-null  int64         \n",
      " 8   TOTAL_FLIGHT_TIME_MINUTES  1371135 non-null  float64       \n",
      " 9   START_POINT                1371135 non-null  object        \n",
      " 10  DEST_POINT                 1371135 non-null  object        \n",
      " 11  TOTAL_DISTANCE_KM          1371135 non-null  float64       \n",
      " 12  SEQUENCE                   1371135 non-null  object        \n",
      "dtypes: datetime64[ns](1), float64(2), int64(1), object(8), string(1)\n",
      "memory usage: 146.5+ MB\n"
     ]
    }
   ],
   "source": [
    "train_data.info()"
   ]
  },
  {
   "cell_type": "code",
   "execution_count": 39,
   "id": "d298d356",
   "metadata": {},
   "outputs": [
    {
     "data": {
      "text/plain": [
       "{'paths': ['s3://think-tank-casestudy/preprocessed_data/test_data_preprocess.parquet'],\n",
       " 'partitions_values': {}}"
      ]
     },
     "execution_count": 39,
     "metadata": {},
     "output_type": "execute_result"
    }
   ],
   "source": [
    "wr.s3.to_parquet(df=train_data, path='s3://think-tank-casestudy/preprocessed_data/train_data_preprocess.parquet')\n",
    "wr.s3.to_parquet(df=test_data, path='s3://think-tank-casestudy/preprocessed_data/test_data_preprocess.parquet')"
   ]
  }
 ],
 "metadata": {
  "kernelspec": {
   "display_name": "conda_python3",
   "language": "python",
   "name": "conda_python3"
  },
  "language_info": {
   "codemirror_mode": {
    "name": "ipython",
    "version": 3
   },
   "file_extension": ".py",
   "mimetype": "text/x-python",
   "name": "python",
   "nbconvert_exporter": "python",
   "pygments_lexer": "ipython3",
   "version": "3.10.6"
  }
 },
 "nbformat": 4,
 "nbformat_minor": 5
}
